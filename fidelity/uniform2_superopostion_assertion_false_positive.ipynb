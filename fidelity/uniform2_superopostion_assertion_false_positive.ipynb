{
 "cells": [
  {
   "cell_type": "code",
   "execution_count": 1,
   "metadata": {
    "scrolled": true
   },
   "outputs": [
    {
     "data": {
      "text/plain": [
       "{'qiskit-terra': '0.10.0',\n",
       " 'qiskit-aer': '0.3.2',\n",
       " 'qiskit-ignis': '0.2.0',\n",
       " 'qiskit-ibmq-provider': '0.3.3',\n",
       " 'qiskit-aqua': '0.6.1',\n",
       " 'qiskit': '0.13.0'}"
      ]
     },
     "execution_count": 1,
     "metadata": {},
     "output_type": "execute_result"
    }
   ],
   "source": [
    "from qiskit import IBMQ\n",
    "import qiskit\n",
    "qiskit.__qiskit_version__"
   ]
  },
  {
   "cell_type": "code",
   "execution_count": 2,
   "metadata": {},
   "outputs": [
    {
     "data": {
      "text/plain": [
       "[<IBMQSimulator('ibmq_qasm_simulator') from IBMQ(hub='ibm-q', group='open', project='main')>,\n",
       " <IBMQBackend('ibmqx2') from IBMQ(hub='ibm-q', group='open', project='main')>,\n",
       " <IBMQBackend('ibmq_16_melbourne') from IBMQ(hub='ibm-q', group='open', project='main')>,\n",
       " <IBMQBackend('ibmq_vigo') from IBMQ(hub='ibm-q', group='open', project='main')>,\n",
       " <IBMQBackend('ibmq_ourense') from IBMQ(hub='ibm-q', group='open', project='main')>,\n",
       " <IBMQBackend('ibmq_london') from IBMQ(hub='ibm-q', group='open', project='main')>,\n",
       " <IBMQBackend('ibmq_burlington') from IBMQ(hub='ibm-q', group='open', project='main')>,\n",
       " <IBMQBackend('ibmq_essex') from IBMQ(hub='ibm-q', group='open', project='main')>,\n",
       " <IBMQBackend('ibmq_armonk') from IBMQ(hub='ibm-q', group='open', project='main')>]"
      ]
     },
     "execution_count": 2,
     "metadata": {},
     "output_type": "execute_result"
    }
   ],
   "source": [
    "provider = IBMQ.load_account()\n",
    "#change the provider based on your Qiskit account\n",
    "#if you do not have access to the twenty qubit machine, use the publically available backend instead\n",
    "provider = IBMQ.get_provider(hub='ibm-q', group='open', project='main')\n",
    "provider.backends()"
   ]
  },
  {
   "cell_type": "code",
   "execution_count": 3,
   "metadata": {},
   "outputs": [],
   "source": [
    "from qiskit import *\n",
    "from qiskit.compiler import transpile\n",
    "from qiskit.visualization import plot_histogram\n",
    "from qiskit.tools.monitor import job_monitor, backend_monitor, backend_overview\n",
    "from qiskit.providers.aer import noise\n",
    "import math\n",
    "\n",
    "import numpy as np\n",
    "\n",
    "from qiskit import QuantumCircuit, QuantumRegister, ClassicalRegister\n",
    "from qiskit import Aer, execute\n",
    "\n",
    "from qiskit.providers.aer import UnitarySimulator\n",
    "import qiskit.ignis.verification.tomography.basis.circuits"
   ]
  },
  {
   "cell_type": "code",
   "execution_count": 4,
   "metadata": {},
   "outputs": [],
   "source": [
    "# Needed for functions\n",
    "import numpy as np\n",
    "import time\n",
    "from copy import deepcopy\n",
    "\n",
    "# Import Qiskit classes\n",
    "import qiskit \n",
    "from qiskit import QuantumRegister, QuantumCircuit, ClassicalRegister, Aer\n",
    "from qiskit.quantum_info import state_fidelity\n",
    "from qiskit.providers.aer import noise\n",
    "\n",
    "#Include our assertion function\n",
    "from qiskit.compiler.assertion import classical_assertion, superposition_assertion, entanglement_assertion"
   ]
  },
  {
   "cell_type": "code",
   "execution_count": 5,
   "metadata": {},
   "outputs": [
    {
     "name": "stdout",
     "output_type": "stream",
     "text": [
      "ibmqx2\n",
      "======\n",
      "Configuration\n",
      "-------------\n",
      "    n_qubits: 5\n",
      "    operational: True\n",
      "    status_msg: active\n",
      "    pending_jobs: 3\n",
      "    backend_version: 2.0.2\n",
      "    basis_gates: ['u1', 'u2', 'u3', 'cx', 'id']\n",
      "    local: False\n",
      "    simulator: False\n",
      "    max_shots: 8192\n",
      "    quantum_volume: 8\n",
      "    url: None\n",
      "    allow_q_object: True\n",
      "    coupling_map: [[0, 1], [0, 2], [1, 0], [1, 2], [2, 0], [2, 1], [2, 3], [2, 4], [3, 2], [3, 4], [4, 2], [4, 3]]\n",
      "    allow_object_storage: True\n",
      "    online_date: 2017-01-24T05:00:00+00:00\n",
      "    conditional: False\n",
      "    credits_required: True\n",
      "    sample_name: sparrow\n",
      "    memory: True\n",
      "    description: 5 qubit device\n",
      "    open_pulse: False\n",
      "    n_registers: 1\n",
      "    max_experiments: 75\n",
      "    backend_name: ibmqx2\n",
      "    allow_q_circuit: False\n",
      "\n",
      "Qubits [Name / Freq / T1 / T2 / U1 err / U2 err / U3 err / Readout err]\n",
      "-----------------------------------------------------------------------\n",
      "    Q0 / 5.28627 GHz / 34.92678 µs / 36.50602 µs / 0.0 / 0.00058 / 0.00117 / 0.014\n",
      "    Q1 / 5.23782 GHz / 57.77644 µs / 45.84214 µs / 0.0 / 0.0035 / 0.007 / 0.022\n",
      "    Q2 / 5.03029 GHz / 57.38234 µs / 64.34316 µs / 0.0 / 0.00039 / 0.00077 / 0.016\n",
      "    Q3 / 5.29537 GHz / 59.90303 µs / 37.96511 µs / 0.0 / 0.00043 / 0.00085 / 0.0525\n",
      "    Q4 / 5.08451 GHz / 40.95408 µs / 30.93968 µs / 0.0 / 0.001 / 0.002 / 0.0235\n",
      "\n",
      "Multi-Qubit Gates [Name / Type / Gate Error]\n",
      "--------------------------------------------\n",
      "    cx0_1 / cx / 0.03058\n",
      "    cx0_2 / cx / 0.01567\n",
      "    cx1_0 / cx / 0.03058\n",
      "    cx1_2 / cx / 0.03386\n",
      "    cx2_0 / cx / 0.01567\n",
      "    cx2_1 / cx / 0.03386\n",
      "    cx2_3 / cx / 0.01381\n",
      "    cx2_4 / cx / 0.01306\n",
      "    cx3_2 / cx / 0.01381\n",
      "    cx3_4 / cx / 0.01768\n",
      "    cx4_2 / cx / 0.01306\n",
      "    cx4_3 / cx / 0.01768\n"
     ]
    },
    {
     "data": {
      "text/plain": [
       "<IBMQBackend('ibmqx2') from IBMQ(hub='ibm-q', group='open', project='main')>"
      ]
     },
     "execution_count": 5,
     "metadata": {},
     "output_type": "execute_result"
    }
   ],
   "source": [
    "#We used ibmq_20_tokyo for our experiment, however, that backend has retired. So we can use the publically available ibmqx2 backend instead\n",
    "device = provider.get_backend('ibmqx2')\n",
    "#if you have access to the twenty qubit machine, use this 20 qubit machine instead\n",
    "#device = provider.get_backend('ibmq_boeblingen')\n",
    "backend_monitor(device)\n",
    "device"
   ]
  },
  {
   "cell_type": "code",
   "execution_count": 6,
   "metadata": {},
   "outputs": [],
   "source": [
    "#uniform2:\n",
    "pi = math.pi\n",
    "qr = QuantumRegister(1)\n",
    "circ = QuantumCircuit(qr)\n",
    "#assertion circuit for uniform superposition state\n",
    "circ.h(qr[0])\n",
    "qubitList = [qr[0]]\n",
    "phaseDict = {qr[0]:[pi/2, 0]}\n",
    "success = superposition_assertion(circ, qubitList, phaseDict, 1)\n",
    "if not success:\n",
    "    print(\"superposition_assertion error\")\n",
    "trans_qc = transpile(circ, device, optimization_level = 3)"
   ]
  },
  {
   "cell_type": "code",
   "execution_count": 7,
   "metadata": {},
   "outputs": [
    {
     "name": "stdout",
     "output_type": "stream",
     "text": [
      "Job Status: job has successfully run\n"
     ]
    }
   ],
   "source": [
    "shots = 8192\n",
    "#execute the job on real device\n",
    "job = execute(trans_qc, backend=device, shots=shots)\n",
    "job_monitor(job)\n",
    "res = job.result()"
   ]
  },
  {
   "cell_type": "code",
   "execution_count": 8,
   "metadata": {},
   "outputs": [
    {
     "name": "stdout",
     "output_type": "stream",
     "text": [
      "Probability of false positive case =  1.67236328125 %\n"
     ]
    }
   ],
   "source": [
    "prob = res.get_counts(0)['1']/8192\n",
    "print(\"Probability of false positive case = \", prob * 100, \"%\")"
   ]
  }
 ],
 "metadata": {
  "kernelspec": {
   "display_name": "Python 3",
   "language": "python",
   "name": "python3"
  },
  "language_info": {
   "codemirror_mode": {
    "name": "ipython",
    "version": 3
   },
   "file_extension": ".py",
   "mimetype": "text/x-python",
   "name": "python",
   "nbconvert_exporter": "python",
   "pygments_lexer": "ipython3",
   "version": "3.7.3"
  }
 },
 "nbformat": 4,
 "nbformat_minor": 2
}
