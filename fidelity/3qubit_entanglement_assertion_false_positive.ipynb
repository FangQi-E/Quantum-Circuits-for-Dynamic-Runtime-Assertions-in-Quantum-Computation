{
 "cells": [
  {
   "cell_type": "code",
   "execution_count": 1,
   "metadata": {
    "scrolled": true
   },
   "outputs": [
    {
     "data": {
      "text/plain": [
       "{'qiskit-terra': '0.10.0',\n",
       " 'qiskit-aer': '0.3.2',\n",
       " 'qiskit-ignis': '0.2.0',\n",
       " 'qiskit-ibmq-provider': '0.3.3',\n",
       " 'qiskit-aqua': '0.6.1',\n",
       " 'qiskit': '0.13.0'}"
      ]
     },
     "execution_count": 1,
     "metadata": {},
     "output_type": "execute_result"
    }
   ],
   "source": [
    "from qiskit import IBMQ\n",
    "import qiskit\n",
    "qiskit.__qiskit_version__"
   ]
  },
  {
   "cell_type": "code",
   "execution_count": 2,
   "metadata": {},
   "outputs": [
    {
     "data": {
      "text/plain": [
       "[<IBMQSimulator('ibmq_qasm_simulator') from IBMQ(hub='ibm-q-ncsu', group='nc-state', project='on-boarding')>,\n",
       " <IBMQBackend('ibmq_20_tokyo') from IBMQ(hub='ibm-q-ncsu', group='nc-state', project='on-boarding')>,\n",
       " <IBMQBackend('ibmq_poughkeepsie') from IBMQ(hub='ibm-q-ncsu', group='nc-state', project='on-boarding')>,\n",
       " <IBMQBackend('ibmq_boeblingen') from IBMQ(hub='ibm-q-ncsu', group='nc-state', project='on-boarding')>,\n",
       " <IBMQBackend('ibmq_vigo') from IBMQ(hub='ibm-q-ncsu', group='nc-state', project='on-boarding')>,\n",
       " <IBMQBackend('ibmq_ourense') from IBMQ(hub='ibm-q-ncsu', group='nc-state', project='on-boarding')>,\n",
       " <IBMQBackend('ibmq_valencia') from IBMQ(hub='ibm-q-ncsu', group='nc-state', project='on-boarding')>,\n",
       " <IBMQBackend('ibmq_london') from IBMQ(hub='ibm-q-ncsu', group='nc-state', project='on-boarding')>,\n",
       " <IBMQBackend('ibmq_burlington') from IBMQ(hub='ibm-q-ncsu', group='nc-state', project='on-boarding')>,\n",
       " <IBMQBackend('ibmq_almaden') from IBMQ(hub='ibm-q-ncsu', group='nc-state', project='on-boarding')>,\n",
       " <IBMQBackend('ibmq_rochester') from IBMQ(hub='ibm-q-ncsu', group='nc-state', project='on-boarding')>,\n",
       " <IBMQBackend('ibmq_essex') from IBMQ(hub='ibm-q-ncsu', group='nc-state', project='on-boarding')>]"
      ]
     },
     "execution_count": 2,
     "metadata": {},
     "output_type": "execute_result"
    }
   ],
   "source": [
    "provider = IBMQ.load_account()\n",
    "#change the provider based on your Qiskit account\n",
    "provider = IBMQ.get_provider(hub='ibm-q-ncsu', group='nc-state', project='on-boarding')\n",
    "#if you do not have access to the twenty qubit machine, use this publically available 14 qubit machine instead\n",
    "#provider = IBMQ.get_provider(hub='ibm-q', group='open', project='main')\n",
    "provider.backends()"
   ]
  },
  {
   "cell_type": "code",
   "execution_count": 3,
   "metadata": {},
   "outputs": [],
   "source": [
    "from qiskit import *\n",
    "from qiskit.compiler import transpile\n",
    "from qiskit.visualization import plot_histogram\n",
    "from qiskit.tools.monitor import job_monitor, backend_monitor, backend_overview\n",
    "from qiskit.providers.aer import noise\n",
    "import math\n",
    "\n",
    "import numpy as np\n",
    "\n",
    "from qiskit import QuantumCircuit, QuantumRegister, ClassicalRegister\n",
    "from qiskit import Aer, execute\n",
    "\n",
    "from qiskit.providers.aer import UnitarySimulator\n",
    "import qiskit.ignis.verification.tomography.basis.circuits"
   ]
  },
  {
   "cell_type": "code",
   "execution_count": 7,
   "metadata": {},
   "outputs": [],
   "source": [
    "# Needed for functions\n",
    "import numpy as np\n",
    "import time\n",
    "from copy import deepcopy\n",
    "\n",
    "# Import Qiskit classes\n",
    "import qiskit \n",
    "from qiskit import QuantumRegister, QuantumCircuit, ClassicalRegister, Aer\n",
    "from qiskit.quantum_info import state_fidelity\n",
    "from qiskit.providers.aer import noise\n",
    "\n",
    "#Include our assertion function\n",
    "from qiskit.compiler.assertion import classical_assertion, superposition_assertion, entanglement_assertion"
   ]
  },
  {
   "cell_type": "code",
   "execution_count": 5,
   "metadata": {},
   "outputs": [
    {
     "name": "stdout",
     "output_type": "stream",
     "text": [
      "ibmq_boeblingen\n",
      "===============\n",
      "Configuration\n",
      "-------------\n",
      "    n_qubits: 20\n",
      "    operational: True\n",
      "    status_msg: active\n",
      "    pending_jobs: 272\n",
      "    backend_version: 1.0.3\n",
      "    basis_gates: ['u1', 'u2', 'u3', 'cx', 'id']\n",
      "    local: False\n",
      "    simulator: False\n",
      "    credits_required: True\n",
      "    coupling_map: [[0, 1], [1, 0], [1, 2], [1, 6], [2, 1], [2, 3], [3, 2], [3, 4], [3, 8], [4, 3], [5, 6], [5, 10], [6, 1], [6, 5], [6, 7], [7, 6], [7, 8], [7, 12], [8, 3], [8, 7], [8, 9], [9, 8], [9, 14], [10, 5], [10, 11], [11, 10], [11, 12], [11, 16], [12, 7], [12, 11], [12, 13], [13, 12], [13, 14], [13, 18], [14, 9], [14, 13], [15, 16], [16, 11], [16, 15], [16, 17], [17, 16], [17, 18], [18, 13], [18, 17], [18, 19], [19, 18]]\n",
      "    n_uchannels: 46\n",
      "    meas_map: [[0, 1, 2, 3, 4, 5, 6, 7, 8, 9, 10, 11, 12, 13, 14, 15, 16, 17, 18, 19]]\n",
      "    quantum_volume: 16\n",
      "    discriminators: ['linear_discriminator', 'quadratic_discriminator']\n",
      "    acquisition_latency: []\n",
      "    meas_kernels: ['boxcar']\n",
      "    dt: 3.5555555555555554\n",
      "    dtm: 3.5555555555555554\n",
      "    u_channel_lo: [[{'scale': [1.0, 0.0], 'q': 1}], [{'scale': [1.0, 0.0], 'q': 0}], [{'scale': [1.0, 0.0], 'q': 2}], [{'scale': [1.0, 0.0], 'q': 6}], [{'scale': [1.0, 0.0], 'q': 1}], [{'scale': [1.0, 0.0], 'q': 3}], [{'scale': [1.0, 0.0], 'q': 2}], [{'scale': [1.0, 0.0], 'q': 4}], [{'scale': [1.0, 0.0], 'q': 8}], [{'scale': [1.0, 0.0], 'q': 3}], [{'scale': [1.0, 0.0], 'q': 6}], [{'scale': [1.0, 0.0], 'q': 10}], [{'scale': [1.0, 0.0], 'q': 1}], [{'scale': [1.0, 0.0], 'q': 5}], [{'scale': [1.0, 0.0], 'q': 7}], [{'scale': [1.0, 0.0], 'q': 6}], [{'scale': [1.0, 0.0], 'q': 8}], [{'scale': [1.0, 0.0], 'q': 12}], [{'scale': [1.0, 0.0], 'q': 3}], [{'scale': [1.0, 0.0], 'q': 7}], [{'scale': [1.0, 0.0], 'q': 9}], [{'scale': [1.0, 0.0], 'q': 8}], [{'scale': [1.0, 0.0], 'q': 14}], [{'scale': [1.0, 0.0], 'q': 5}], [{'scale': [1.0, 0.0], 'q': 11}], [{'scale': [1.0, 0.0], 'q': 10}], [{'scale': [1.0, 0.0], 'q': 12}], [{'scale': [1.0, 0.0], 'q': 16}], [{'scale': [1.0, 0.0], 'q': 7}], [{'scale': [1.0, 0.0], 'q': 11}], [{'scale': [1.0, 0.0], 'q': 13}], [{'scale': [1.0, 0.0], 'q': 12}], [{'scale': [1.0, 0.0], 'q': 14}], [{'scale': [1.0, 0.0], 'q': 18}], [{'scale': [1.0, 0.0], 'q': 9}], [{'scale': [1.0, 0.0], 'q': 13}], [{'scale': [1.0, 0.0], 'q': 16}], [{'scale': [1.0, 0.0], 'q': 11}], [{'scale': [1.0, 0.0], 'q': 15}], [{'scale': [1.0, 0.0], 'q': 17}], [{'scale': [1.0, 0.0], 'q': 16}], [{'scale': [1.0, 0.0], 'q': 18}], [{'scale': [1.0, 0.0], 'q': 13}], [{'scale': [1.0, 0.0], 'q': 17}], [{'scale': [1.0, 0.0], 'q': 19}], [{'scale': [1.0, 0.0], 'q': 18}]]\n",
      "    meas_levels: [1, 2]\n",
      "    url: None\n",
      "    backend_name: ibmq_boeblingen\n",
      "    max_shots: 8192\n",
      "    open_pulse: True\n",
      "    n_registers: 1\n",
      "    rep_times: [1000]\n",
      "    allow_q_circuit: False\n",
      "    max_experiments: 900\n",
      "    sample_name: HexV2\n",
      "    allow_object_storage: True\n",
      "    meas_lo_range: [[6.994712006, 7.594712006], [6.779713403000001, 7.379713403], [6.926848078, 7.5268480779999996], [6.8374699230000004, 7.437469923], [6.890658781, 7.490658781], [6.708355500000001, 7.3083555], [6.851377353, 7.451377353], [6.740531036, 7.340531036], [7.013978215, 7.6139782149999995], [6.79917412, 7.39917412], [6.958808909, 7.558808909], [6.777617339, 7.3776173389999995], [6.907348522, 7.507348522], [6.84283313, 7.4428331299999995], [6.892647377, 7.492647377], [6.68180818, 7.28180818], [6.853627322, 7.453627322], [6.7356533270000005, 7.335653327], [6.994454291, 7.594454291], [6.8075499100000005, 7.40754991]]\n",
      "    allow_q_object: True\n",
      "    memory: True\n",
      "    online_date: 2019-07-03T04:00:00+00:00\n",
      "    qubit_lo_range: [[4.746908617159951, 5.346908617159951], [4.547295671451316, 5.147295671451316], [4.4036578872397625, 5.003657887239762], [4.474320208925145, 5.074320208925145], [4.066187650520414, 4.666187650520413], [4.611607351461223, 5.211607351461223], [4.426864810182317, 5.026864810182317], [4.24603939564165, 4.846039395641649], [4.358447567674242, 4.958447567674241], [4.4666090321846275, 5.066609032184627], [4.655300616297125, 5.2553006162971245], [4.221703080574092, 4.821703080574092], [4.432460576211409, 5.032460576211409], [4.33556771512917, 4.93556771512917], [4.255087089154701, 4.855087089154701], [4.282271900143979, 4.882271900143978], [4.455616788535162, 5.055616788535161], [4.289833165300729, 4.889833165300729], [4.4524138256606625, 5.052413825660662], [4.73536457189891, 5.33536457189891]]\n",
      "    description: 20 qubit device Boeblingen\n",
      "    conditional: False\n",
      "    conditional_latency: []\n",
      "    hamiltonian: {'description': 'Qubits are modelled as a two level system. Qubits are coupled through resonator buses. The provided Hamiltonian has been projected into the zero excitation subspace of the resonator buses leading to an effective qubit-qubit flip-flop interaction. The qubit resonance frequencies in the Hamiltonian are the cavity dressed frequencies and not exactly what is returned by the backend defaults, which also includes the dressing due to the qubit-qubit interactions.\\nWarning: Currently not all system Hamiltonian information is available to the public, missing values have been replaced with 0.\\n', 'h_latex': '\\\\begin{align} \\\\mathcal{H}/\\\\hbar = & \\\\sum_{i=0}^{19}\\\\left(\\\\frac{\\\\omega_{q,i}}{2} (\\\\mathbb{1}_i-\\\\sigma_i^{z})+ \\\\Omega_{d,i}D_i(t)\\\\sigma_i^{X}\\\\right) \\\\\\\\ & + J_{11,16}(\\\\sigma_{11}^{+}\\\\sigma_{16}^{-}+\\\\sigma_{11}^{-}\\\\sigma_{16}^{+}) + J_{10,11}(\\\\sigma_{10}^{+}\\\\sigma_{11}^{-}+\\\\sigma_{10}^{-}\\\\sigma_{11}^{+}) + J_{5,6}(\\\\sigma_{5}^{+}\\\\sigma_{6}^{-}+\\\\sigma_{5}^{-}\\\\sigma_{6}^{+}) + J_{7,12}(\\\\sigma_{7}^{+}\\\\sigma_{12}^{-}+\\\\sigma_{7}^{-}\\\\sigma_{12}^{+}) \\\\\\\\ & + J_{8,9}(\\\\sigma_{8}^{+}\\\\sigma_{9}^{-}+\\\\sigma_{8}^{-}\\\\sigma_{9}^{+}) + J_{15,16}(\\\\sigma_{15}^{+}\\\\sigma_{16}^{-}+\\\\sigma_{15}^{-}\\\\sigma_{16}^{+}) + J_{1,6}(\\\\sigma_{1}^{+}\\\\sigma_{6}^{-}+\\\\sigma_{1}^{-}\\\\sigma_{6}^{+}) + J_{18,19}(\\\\sigma_{18}^{+}\\\\sigma_{19}^{-}+\\\\sigma_{18}^{-}\\\\sigma_{19}^{+}) \\\\\\\\ & + J_{1,2}(\\\\sigma_{1}^{+}\\\\sigma_{2}^{-}+\\\\sigma_{1}^{-}\\\\sigma_{2}^{+}) + J_{16,17}(\\\\sigma_{16}^{+}\\\\sigma_{17}^{-}+\\\\sigma_{16}^{-}\\\\sigma_{17}^{+}) + J_{6,7}(\\\\sigma_{6}^{+}\\\\sigma_{7}^{-}+\\\\sigma_{6}^{-}\\\\sigma_{7}^{+}) + J_{12,13}(\\\\sigma_{12}^{+}\\\\sigma_{13}^{-}+\\\\sigma_{12}^{-}\\\\sigma_{13}^{+}) \\\\\\\\ & + J_{3,4}(\\\\sigma_{3}^{+}\\\\sigma_{4}^{-}+\\\\sigma_{3}^{-}\\\\sigma_{4}^{+}) + J_{9,14}(\\\\sigma_{9}^{+}\\\\sigma_{14}^{-}+\\\\sigma_{9}^{-}\\\\sigma_{14}^{+}) + J_{2,3}(\\\\sigma_{2}^{+}\\\\sigma_{3}^{-}+\\\\sigma_{2}^{-}\\\\sigma_{3}^{+}) + J_{11,12}(\\\\sigma_{11}^{+}\\\\sigma_{12}^{-}+\\\\sigma_{11}^{-}\\\\sigma_{12}^{+}) \\\\\\\\ & + J_{0,1}(\\\\sigma_{0}^{+}\\\\sigma_{1}^{-}+\\\\sigma_{0}^{-}\\\\sigma_{1}^{+}) + J_{17,18}(\\\\sigma_{17}^{+}\\\\sigma_{18}^{-}+\\\\sigma_{17}^{-}\\\\sigma_{18}^{+}) + J_{5,10}(\\\\sigma_{5}^{+}\\\\sigma_{10}^{-}+\\\\sigma_{5}^{-}\\\\sigma_{10}^{+}) + J_{13,14}(\\\\sigma_{13}^{+}\\\\sigma_{14}^{-}+\\\\sigma_{13}^{-}\\\\sigma_{14}^{+}) \\\\\\\\ & + J_{3,8}(\\\\sigma_{3}^{+}\\\\sigma_{8}^{-}+\\\\sigma_{3}^{-}\\\\sigma_{8}^{+}) + J_{13,18}(\\\\sigma_{13}^{+}\\\\sigma_{18}^{-}+\\\\sigma_{13}^{-}\\\\sigma_{18}^{+}) + J_{7,8}(\\\\sigma_{7}^{+}\\\\sigma_{8}^{-}+\\\\sigma_{7}^{-}\\\\sigma_{8}^{+}) \\\\\\\\ & + \\\\Omega_{d,0}(U_{0}^{(0,1)}(t))\\\\sigma_{0}^{X} + \\\\Omega_{d,1}(U_{1}^{(1,0)}(t)+U_{3}^{(1,6)}(t)+U_{2}^{(1,2)}(t))\\\\sigma_{1}^{X} \\\\\\\\ & + \\\\Omega_{d,2}(U_{4}^{(2,1)}(t)+U_{5}^{(2,3)}(t))\\\\sigma_{2}^{X} + \\\\Omega_{d,3}(U_{7}^{(3,4)}(t)+U_{6}^{(3,2)}(t)+U_{8}^{(3,8)}(t))\\\\sigma_{3}^{X} \\\\\\\\ & + \\\\Omega_{d,4}(U_{9}^{(4,3)}(t))\\\\sigma_{4}^{X} + \\\\Omega_{d,5}(U_{11}^{(5,10)}(t)+U_{10}^{(5,6)}(t))\\\\sigma_{5}^{X} \\\\\\\\ & + \\\\Omega_{d,6}(U_{14}^{(6,7)}(t)+U_{12}^{(6,1)}(t)+U_{13}^{(6,5)}(t))\\\\sigma_{6}^{X} + \\\\Omega_{d,7}(U_{15}^{(7,6)}(t)+U_{16}^{(7,8)}(t)+U_{17}^{(7,12)}(t))\\\\sigma_{7}^{X} \\\\\\\\ & + \\\\Omega_{d,8}(U_{19}^{(8,7)}(t)+U_{18}^{(8,3)}(t)+U_{20}^{(8,9)}(t))\\\\sigma_{8}^{X} + \\\\Omega_{d,9}(U_{21}^{(9,8)}(t)+U_{22}^{(9,14)}(t))\\\\sigma_{9}^{X} \\\\\\\\ & + \\\\Omega_{d,10}(U_{24}^{(10,11)}(t)+U_{23}^{(10,5)}(t))\\\\sigma_{10}^{X} + \\\\Omega_{d,11}(U_{25}^{(11,10)}(t)+U_{26}^{(11,12)}(t)+U_{27}^{(11,16)}(t))\\\\sigma_{11}^{X} \\\\\\\\ & + \\\\Omega_{d,12}(U_{28}^{(12,7)}(t)+U_{30}^{(12,13)}(t)+U_{29}^{(12,11)}(t))\\\\sigma_{12}^{X} + \\\\Omega_{d,13}(U_{31}^{(13,12)}(t)+U_{32}^{(13,14)}(t)+U_{33}^{(13,18)}(t))\\\\sigma_{13}^{X} \\\\\\\\ & + \\\\Omega_{d,14}(U_{34}^{(14,9)}(t)+U_{35}^{(14,13)}(t))\\\\sigma_{14}^{X} + \\\\Omega_{d,15}(U_{36}^{(15,16)}(t))\\\\sigma_{15}^{X} \\\\\\\\ & + \\\\Omega_{d,16}(U_{38}^{(16,15)}(t)+U_{39}^{(16,17)}(t)+U_{37}^{(16,11)}(t))\\\\sigma_{16}^{X} + \\\\Omega_{d,17}(U_{41}^{(17,18)}(t)+U_{40}^{(17,16)}(t))\\\\sigma_{17}^{X} \\\\\\\\ & + \\\\Omega_{d,18}(U_{42}^{(18,13)}(t)+U_{43}^{(18,17)}(t)+U_{44}^{(18,19)}(t))\\\\sigma_{18}^{X} + \\\\Omega_{d,19}(U_{45}^{(19,18)}(t))\\\\sigma_{19}^{X} \\\\\\\\ \\\\end{align}', 'h_str': ['_SUM[i,0,19,wq{i}/2*(I{i}-Z{i})]', '_SUM[i,0,19,omegad{i}*X{i}||D{i}]', 'jq11q16*Sp11*Sm16', 'jq11q16*Sm11*Sp16', 'jq10q11*Sp10*Sm11', 'jq10q11*Sm10*Sp11', 'jq5q6*Sp5*Sm6', 'jq5q6*Sm5*Sp6', 'jq7q12*Sp7*Sm12', 'jq7q12*Sm7*Sp12', 'jq8q9*Sp8*Sm9', 'jq8q9*Sm8*Sp9', 'jq15q16*Sp15*Sm16', 'jq15q16*Sm15*Sp16', 'jq1q6*Sp1*Sm6', 'jq1q6*Sm1*Sp6', 'jq18q19*Sp18*Sm19', 'jq18q19*Sm18*Sp19', 'jq1q2*Sp1*Sm2', 'jq1q2*Sm1*Sp2', 'jq16q17*Sp16*Sm17', 'jq16q17*Sm16*Sp17', 'jq6q7*Sp6*Sm7', 'jq6q7*Sm6*Sp7', 'jq12q13*Sp12*Sm13', 'jq12q13*Sm12*Sp13', 'jq3q4*Sp3*Sm4', 'jq3q4*Sm3*Sp4', 'jq9q14*Sp9*Sm14', 'jq9q14*Sm9*Sp14', 'jq2q3*Sp2*Sm3', 'jq2q3*Sm2*Sp3', 'jq11q12*Sp11*Sm12', 'jq11q12*Sm11*Sp12', 'jq0q1*Sp0*Sm1', 'jq0q1*Sm0*Sp1', 'jq17q18*Sp17*Sm18', 'jq17q18*Sm17*Sp18', 'jq5q10*Sp5*Sm10', 'jq5q10*Sm5*Sp10', 'jq13q14*Sp13*Sm14', 'jq13q14*Sm13*Sp14', 'jq3q8*Sp3*Sm8', 'jq3q8*Sm3*Sp8', 'jq13q18*Sp13*Sm18', 'jq13q18*Sm13*Sp18', 'jq7q8*Sp7*Sm8', 'jq7q8*Sm7*Sp8', 'omegad1*X0||U0', 'omegad0*X1||U1', 'omegad6*X1||U3', 'omegad2*X1||U2', 'omegad1*X2||U4', 'omegad3*X2||U5', 'omegad4*X3||U7', 'omegad2*X3||U6', 'omegad8*X3||U8', 'omegad3*X4||U9', 'omegad10*X5||U11', 'omegad6*X5||U10', 'omegad7*X6||U14', 'omegad1*X6||U12', 'omegad5*X6||U13', 'omegad6*X7||U15', 'omegad8*X7||U16', 'omegad12*X7||U17', 'omegad7*X8||U19', 'omegad3*X8||U18', 'omegad9*X8||U20', 'omegad8*X9||U21', 'omegad14*X9||U22', 'omegad11*X10||U24', 'omegad5*X10||U23', 'omegad10*X11||U25', 'omegad12*X11||U26', 'omegad16*X11||U27', 'omegad7*X12||U28', 'omegad13*X12||U30', 'omegad11*X12||U29', 'omegad12*X13||U31', 'omegad14*X13||U32', 'omegad18*X13||U33', 'omegad9*X14||U34', 'omegad13*X14||U35', 'omegad16*X15||U36', 'omegad15*X16||U38', 'omegad17*X16||U39', 'omegad11*X16||U37', 'omegad18*X17||U41', 'omegad16*X17||U40', 'omegad13*X18||U42', 'omegad17*X18||U43', 'omegad19*X18||U44', 'omegad18*X19||U45'], 'osc': {}, 'qub': {'0': 2, '1': 2, '2': 2, '3': 2, '4': 2, '5': 2, '6': 2, '7': 2, '8': 2, '9': 2, '10': 2, '11': 2, '12': 2, '13': 2, '14': 2, '15': 2, '16': 2, '17': 2, '18': 2, '19': 2}, 'vars': {'jq0q1': 0, 'jq10q11': 0, 'jq11q12': 0, 'jq11q16': 0, 'jq12q13': 0, 'jq13q14': 0, 'jq13q18': 0, 'jq15q16': 0, 'jq16q17': 0, 'jq17q18': 0, 'jq18q19': 0, 'jq1q2': 0, 'jq1q6': 0, 'jq2q3': 0, 'jq3q4': 0, 'jq3q8': 0, 'jq5q10': 0, 'jq5q6': 0, 'jq6q7': 0, 'jq7q12': 0, 'jq7q8': 0, 'jq8q9': 0, 'jq9q14': 0, 'omegad0': 0, 'omegad1': 0, 'omegad10': 0, 'omegad11': 0, 'omegad12': 0, 'omegad13': 0, 'omegad14': 0, 'omegad15': 0, 'omegad16': 0, 'omegad17': 0, 'omegad18': 0, 'omegad19': 0, 'omegad2': 0, 'omegad3': 0, 'omegad4': 0, 'omegad5': 0, 'omegad6': 0, 'omegad7': 0, 'omegad8': 0, 'omegad9': 0, 'wq0': 31.71066207001745, 'wq1': 30.456456942418114, 'wq10': 31.135072024976047, 'wq11': 28.410698359291807, 'wq12': 29.734926759258162, 'wq13': 29.12613095813565, 'wq14': 28.62045627150025, 'wq15': 28.791263476486527, 'wq16': 29.880421532300694, 'wq17': 28.838772306623113, 'wq18': 29.860296723028203, 'wq19': 31.638128694447857, 'wq2': 29.55395412710425, 'wq3': 29.997938588489045, 'wq4': 27.433566094138822, 'wq5': 30.860539145336396, 'wq6': 29.699767524361757, 'wq7': 28.563607936555176, 'wq8': 29.269889311477282, 'wq9': 29.94948783609196}}\n",
      "\n",
      "Qubits [Name / Freq / T1 / T2 / U1 err / U2 err / U3 err / Readout err]\n",
      "-----------------------------------------------------------------------\n",
      "    Q0 / 5.04691 GHz / 35.01608 µs / 39.91237 µs / 0.0 / 0.00058 / 0.00117 / 0.11667\n",
      "    Q1 / 4.8473 GHz / 76.43013 µs / 132.17962 µs / 0.0 / 0.0004 / 0.0008 / 0.02\n",
      "    Q2 / 4.70366 GHz / 71.2449 µs / 96.50177 µs / 0.0 / 0.00037 / 0.00074 / 0.05833\n",
      "    Q3 / 4.77432 GHz / 95.96147 µs / 64.69666 µs / 0.0 / 0.00048 / 0.00097 / 0.02667\n",
      "    Q4 / 4.36619 GHz / 18.11263 µs / 30.39809 µs / 0.0 / 0.0004 / 0.0008 / 0.01833\n",
      "    Q5 / 4.91161 GHz / 98.07147 µs / 109.82614 µs / 0.0 / 0.00043 / 0.00087 / 0.01833\n",
      "    Q6 / 4.72686 GHz / 86.05037 µs / 122.59123 µs / 0.0 / 0.0002 / 0.0004 / 0.04333\n",
      "    Q7 / 4.54604 GHz / 72.14728 µs / 57.68996 µs / 0.0 / 0.00025 / 0.0005 / 0.155\n",
      "    Q8 / 4.65845 GHz / 61.21566 µs / 107.03118 µs / 0.0 / 0.00031 / 0.00063 / 0.07333\n",
      "    Q9 / 4.76661 GHz / 41.03546 µs / 72.2342 µs / 0.0 / 0.00068 / 0.00135 / 0.04667\n",
      "    Q10 / 4.9553 GHz / 81.78136 µs / 131.19926 µs / 0.0 / 0.00061 / 0.00122 / 0.04667\n",
      "    Q11 / 4.5217 GHz / 89.35661 µs / 101.25296 µs / 0.0 / 0.00033 / 0.00066 / 0.025\n",
      "    Q12 / 4.73246 GHz / 37.53371 µs / 60.7455 µs / 0.0 / 0.00048 / 0.00096 / 0.05667\n",
      "    Q13 / 4.63557 GHz / 66.23738 µs / 63.9261 µs / 0.0 / 0.00048 / 0.00097 / 0.04667\n",
      "    Q14 / 4.55509 GHz / 85.44849 µs / 182.75602 µs / 0.0 / 0.0004 / 0.00081 / 0.03\n",
      "    Q15 / 4.58227 GHz / 89.92856 µs / 87.27097 µs / 0.0 / 0.00034 / 0.00068 / 0.035\n",
      "    Q16 / 4.75562 GHz / 82.10618 µs / 57.54052 µs / 0.0 / 0.00034 / 0.00068 / 0.025\n",
      "    Q17 / 4.58983 GHz / 136.94345 µs / 182.13342 µs / 0.0 / 0.00038 / 0.00077 / 0.03167\n",
      "    Q18 / 4.75241 GHz / 85.32529 µs / 119.26967 µs / 0.0 / 0.00041 / 0.00082 / 0.04833\n",
      "    Q19 / 5.03536 GHz / 100.08641 µs / 81.3664 µs / 0.0 / 0.0009 / 0.0018 / 0.12833\n",
      "\n",
      "Multi-Qubit Gates [Name / Type / Gate Error]\n",
      "--------------------------------------------\n",
      "    cx0_1 / cx / 0.00923\n",
      "    cx1_0 / cx / 0.00923\n",
      "    cx1_2 / cx / 0.0077\n",
      "    cx1_6 / cx / 0.01323\n",
      "    cx2_1 / cx / 0.0077\n",
      "    cx2_3 / cx / 0.00871\n",
      "    cx3_2 / cx / 0.00871\n",
      "    cx3_4 / cx / 0.02043\n",
      "    cx3_8 / cx / 0.01111\n",
      "    cx4_3 / cx / 0.02043\n",
      "    cx5_6 / cx / 0.01081\n",
      "    cx5_10 / cx / 0.01492\n",
      "    cx6_1 / cx / 0.01323\n",
      "    cx6_5 / cx / 0.01081\n",
      "    cx6_7 / cx / 0.00631\n",
      "    cx7_6 / cx / 0.00631\n",
      "    cx7_8 / cx / 0.00962\n",
      "    cx7_12 / cx / 0.01013\n",
      "    cx8_3 / cx / 0.01111\n",
      "    cx8_7 / cx / 0.00962\n",
      "    cx8_9 / cx / 0.01441\n",
      "    cx9_8 / cx / 0.01441\n",
      "    cx9_14 / cx / 0.01795\n",
      "    cx10_5 / cx / 0.01492\n",
      "    cx10_11 / cx / 0.0128\n",
      "    cx11_10 / cx / 0.0128\n",
      "    cx11_12 / cx / 0.0128\n",
      "    cx11_16 / cx / 0.01087\n",
      "    cx12_7 / cx / 0.01013\n",
      "    cx12_11 / cx / 0.0128\n",
      "    cx12_13 / cx / 0.01061\n",
      "    cx13_12 / cx / 0.01061\n",
      "    cx13_14 / cx / 0.00938\n",
      "    cx13_18 / cx / 0.01692\n",
      "    cx14_9 / cx / 0.01795\n",
      "    cx14_13 / cx / 0.00938\n",
      "    cx15_16 / cx / 0.01024\n",
      "    cx16_11 / cx / 0.01087\n",
      "    cx16_15 / cx / 0.01024\n",
      "    cx16_17 / cx / 0.01042\n",
      "    cx17_16 / cx / 0.01042\n",
      "    cx17_18 / cx / 0.01544\n",
      "    cx18_13 / cx / 0.01692\n",
      "    cx18_17 / cx / 0.01544\n",
      "    cx18_19 / cx / 0.02436\n",
      "    cx19_18 / cx / 0.02436\n"
     ]
    },
    {
     "data": {
      "text/plain": [
       "<IBMQBackend('ibmq_boeblingen') from IBMQ(hub='ibm-q-ncsu', group='nc-state', project='on-boarding')>"
      ]
     },
     "execution_count": 5,
     "metadata": {},
     "output_type": "execute_result"
    }
   ],
   "source": [
    "#we used ibmq_20_tokyo for our experiment, however, that backend has retired. So we can use the 20qubit boeblingen instead\n",
    "device = provider.get_backend('ibmq_boeblingen')\n",
    "backend_monitor(device)\n",
    "device"
   ]
  },
  {
   "cell_type": "code",
   "execution_count": 8,
   "metadata": {},
   "outputs": [],
   "source": [
    "#entangle3bit:\n",
    "qr = QuantumRegister(3)\n",
    "circ = QuantumCircuit(qr)\n",
    "#assertion circuit for three qubit entanglement\n",
    "qubitList = [qr[0], qr[1], qr[2]]\n",
    "success = entanglement_assertion(circ, qubitList, flag = 0)\n",
    "if not success:\n",
    "    print(\"entanglement_assertion error\")\n",
    "trans_qc = transpile(circ, device, optimization_level = 3)"
   ]
  },
  {
   "cell_type": "code",
   "execution_count": 10,
   "metadata": {},
   "outputs": [
    {
     "data": {
      "image/png": "[encoded data removed]",
      "text/plain": [
       "<Figure size 685.076x325.08 with 1 Axes>"
      ]
     },
     "execution_count": 10,
     "metadata": {},
     "output_type": "execute_result"
    }
   ],
   "source": [
    "circ.draw(output = \"mpl\")"
   ]
  },
  {
   "cell_type": "code",
   "execution_count": 11,
   "metadata": {},
   "outputs": [
    {
     "name": "stdout",
     "output_type": "stream",
     "text": [
      "Job Status: job has successfully run\n"
     ]
    }
   ],
   "source": [
    "shots = 8192\n",
    "#execute the job on real device\n",
    "job = execute(trans_qc, backend=device, shots=shots)\n",
    "job_monitor(job)\n",
    "res = job.result()"
   ]
  },
  {
   "cell_type": "code",
   "execution_count": 12,
   "metadata": {},
   "outputs": [
    {
     "data": {
      "text/plain": [
       "'5de9bc84e2bddb00115c1f5b'"
      ]
     },
     "execution_count": 12,
     "metadata": {},
     "output_type": "execute_result"
    }
   ],
   "source": [
    "res.job_id"
   ]
  },
  {
   "cell_type": "code",
   "execution_count": 13,
   "metadata": {},
   "outputs": [
    {
     "name": "stdout",
     "output_type": "stream",
     "text": [
      "Probability of false positive case =  4.2724609375 %\n"
     ]
    }
   ],
   "source": [
    "prob = res.get_counts(0)['1']/8192\n",
    "print(\"Probability of false positive case = \", prob * 100, \"%\")"
   ]
  }
 ],
 "metadata": {
  "kernelspec": {
   "display_name": "Python 3",
   "language": "python",
   "name": "python3"
  },
  "language_info": {
   "codemirror_mode": {
    "name": "ipython",
    "version": 3
   },
   "file_extension": ".py",
   "mimetype": "text/x-python",
   "name": "python",
   "nbconvert_exporter": "python",
   "pygments_lexer": "ipython3",
   "version": "3.7.3"
  }
 },
 "nbformat": 4,
 "nbformat_minor": 2
}
