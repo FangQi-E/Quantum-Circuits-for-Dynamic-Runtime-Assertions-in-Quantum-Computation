{
 "cells": [
  {
   "cell_type": "code",
   "execution_count": 1,
   "metadata": {
    "scrolled": true
   },
   "outputs": [
    {
     "data": {
      "text/plain": [
       "{'qiskit-terra': '0.10.0',\n",
       " 'qiskit-aer': '0.3.2',\n",
       " 'qiskit-ignis': '0.2.0',\n",
       " 'qiskit-ibmq-provider': '0.3.3',\n",
       " 'qiskit-aqua': '0.6.1',\n",
       " 'qiskit': '0.13.0'}"
      ]
     },
     "execution_count": 1,
     "metadata": {},
     "output_type": "execute_result"
    }
   ],
   "source": [
    "from qiskit import IBMQ\n",
    "import qiskit\n",
    "qiskit.__qiskit_version__"
   ]
  },
  {
   "cell_type": "code",
   "execution_count": 2,
   "metadata": {},
   "outputs": [
    {
     "data": {
      "text/plain": [
       "[<IBMQSimulator('ibmq_qasm_simulator') from IBMQ(hub='ibm-q-ncsu', group='nc-state', project='on-boarding')>,\n",
       " <IBMQBackend('ibmq_20_tokyo') from IBMQ(hub='ibm-q-ncsu', group='nc-state', project='on-boarding')>,\n",
       " <IBMQBackend('ibmq_poughkeepsie') from IBMQ(hub='ibm-q-ncsu', group='nc-state', project='on-boarding')>,\n",
       " <IBMQBackend('ibmq_boeblingen') from IBMQ(hub='ibm-q-ncsu', group='nc-state', project='on-boarding')>,\n",
       " <IBMQBackend('ibmq_vigo') from IBMQ(hub='ibm-q-ncsu', group='nc-state', project='on-boarding')>,\n",
       " <IBMQBackend('ibmq_ourense') from IBMQ(hub='ibm-q-ncsu', group='nc-state', project='on-boarding')>,\n",
       " <IBMQBackend('ibmq_valencia') from IBMQ(hub='ibm-q-ncsu', group='nc-state', project='on-boarding')>,\n",
       " <IBMQBackend('ibmq_london') from IBMQ(hub='ibm-q-ncsu', group='nc-state', project='on-boarding')>,\n",
       " <IBMQBackend('ibmq_burlington') from IBMQ(hub='ibm-q-ncsu', group='nc-state', project='on-boarding')>,\n",
       " <IBMQBackend('ibmq_almaden') from IBMQ(hub='ibm-q-ncsu', group='nc-state', project='on-boarding')>,\n",
       " <IBMQBackend('ibmq_rochester') from IBMQ(hub='ibm-q-ncsu', group='nc-state', project='on-boarding')>,\n",
       " <IBMQBackend('ibmq_essex') from IBMQ(hub='ibm-q-ncsu', group='nc-state', project='on-boarding')>]"
      ]
     },
     "execution_count": 2,
     "metadata": {},
     "output_type": "execute_result"
    }
   ],
   "source": [
    "provider = IBMQ.load_account()\n",
    "#change the provider based on your Qiskit account\n",
    "#if you do not have access to the twenty qubit machine, use the publically available backend instead\n",
    "provider = IBMQ.get_provider(hub='ibm-q', group='open', project='main')\n",
    "provider.backends()"
   ]
  },
  {
   "cell_type": "code",
   "execution_count": 3,
   "metadata": {},
   "outputs": [],
   "source": [
    "from qiskit import *\n",
    "from qiskit.compiler import transpile\n",
    "from qiskit.visualization import plot_histogram\n",
    "from qiskit.tools.monitor import job_monitor, backend_monitor, backend_overview\n",
    "from qiskit.providers.aer import noise\n",
    "import math\n",
    "\n",
    "import numpy as np\n",
    "\n",
    "from qiskit import QuantumCircuit, QuantumRegister, ClassicalRegister\n",
    "from qiskit import Aer, execute\n",
    "\n",
    "from qiskit.providers.aer import UnitarySimulator\n",
    "import qiskit.ignis.verification.tomography.basis.circuits"
   ]
  },
  {
   "cell_type": "code",
   "execution_count": 4,
   "metadata": {},
   "outputs": [],
   "source": [
    "# Needed for functions\n",
    "import numpy as np\n",
    "import time\n",
    "from copy import deepcopy\n",
    "\n",
    "# Import Qiskit classes\n",
    "import qiskit \n",
    "from qiskit import QuantumRegister, QuantumCircuit, ClassicalRegister, Aer\n",
    "from qiskit.quantum_info import state_fidelity\n",
    "from qiskit.providers.aer import noise\n",
    "\n",
    "# Tomography functions\n",
    "from qiskit.ignis.verification.tomography import state_tomography_circuits, StateTomographyFitter\n",
    "import qiskit.ignis.mitigation.measurement as mc"
   ]
  },
  {
   "cell_type": "code",
   "execution_count": 5,
   "metadata": {},
   "outputs": [
    {
     "name": "stdout",
     "output_type": "stream",
     "text": [
      "ibmq_boeblingen\n",
      "===============\n",
      "Configuration\n",
      "-------------\n",
      "    n_qubits: 20\n",
      "    operational: True\n",
      "    status_msg: active\n",
      "    pending_jobs: 4\n",
      "    backend_version: 1.0.3\n",
      "    basis_gates: ['u1', 'u2', 'u3', 'cx', 'id']\n",
      "    local: False\n",
      "    simulator: False\n",
      "    u_channel_lo: [[{'q': 1, 'scale': [1.0, 0.0]}], [{'q': 0, 'scale': [1.0, 0.0]}], [{'q': 2, 'scale': [1.0, 0.0]}], [{'q': 6, 'scale': [1.0, 0.0]}], [{'q': 1, 'scale': [1.0, 0.0]}], [{'q': 3, 'scale': [1.0, 0.0]}], [{'q': 2, 'scale': [1.0, 0.0]}], [{'q': 4, 'scale': [1.0, 0.0]}], [{'q': 8, 'scale': [1.0, 0.0]}], [{'q': 3, 'scale': [1.0, 0.0]}], [{'q': 6, 'scale': [1.0, 0.0]}], [{'q': 10, 'scale': [1.0, 0.0]}], [{'q': 1, 'scale': [1.0, 0.0]}], [{'q': 5, 'scale': [1.0, 0.0]}], [{'q': 7, 'scale': [1.0, 0.0]}], [{'q': 6, 'scale': [1.0, 0.0]}], [{'q': 8, 'scale': [1.0, 0.0]}], [{'q': 12, 'scale': [1.0, 0.0]}], [{'q': 3, 'scale': [1.0, 0.0]}], [{'q': 7, 'scale': [1.0, 0.0]}], [{'q': 9, 'scale': [1.0, 0.0]}], [{'q': 8, 'scale': [1.0, 0.0]}], [{'q': 14, 'scale': [1.0, 0.0]}], [{'q': 5, 'scale': [1.0, 0.0]}], [{'q': 11, 'scale': [1.0, 0.0]}], [{'q': 10, 'scale': [1.0, 0.0]}], [{'q': 12, 'scale': [1.0, 0.0]}], [{'q': 16, 'scale': [1.0, 0.0]}], [{'q': 7, 'scale': [1.0, 0.0]}], [{'q': 11, 'scale': [1.0, 0.0]}], [{'q': 13, 'scale': [1.0, 0.0]}], [{'q': 12, 'scale': [1.0, 0.0]}], [{'q': 14, 'scale': [1.0, 0.0]}], [{'q': 18, 'scale': [1.0, 0.0]}], [{'q': 9, 'scale': [1.0, 0.0]}], [{'q': 13, 'scale': [1.0, 0.0]}], [{'q': 16, 'scale': [1.0, 0.0]}], [{'q': 11, 'scale': [1.0, 0.0]}], [{'q': 15, 'scale': [1.0, 0.0]}], [{'q': 17, 'scale': [1.0, 0.0]}], [{'q': 16, 'scale': [1.0, 0.0]}], [{'q': 18, 'scale': [1.0, 0.0]}], [{'q': 13, 'scale': [1.0, 0.0]}], [{'q': 17, 'scale': [1.0, 0.0]}], [{'q': 19, 'scale': [1.0, 0.0]}], [{'q': 18, 'scale': [1.0, 0.0]}]]\n",
      "    n_uchannels: 46\n",
      "    max_shots: 8192\n",
      "    open_pulse: True\n",
      "    sample_name: HexV2\n",
      "    memory: True\n",
      "    meas_map: [[0, 1, 2, 3, 4, 5, 6, 7, 8, 9, 10, 11, 12, 13, 14, 15, 16, 17, 18, 19]]\n",
      "    quantum_volume: 16\n",
      "    backend_name: ibmq_boeblingen\n",
      "    meas_kernels: ['boxcar']\n",
      "    credits_required: True\n",
      "    allow_object_storage: True\n",
      "    max_experiments: 900\n",
      "    qubit_lo_range: [[4.746900561688593, 5.346900561688592], [4.547294588019054, 5.1472945880190535], [4.403661545212118, 5.003661545212117], [4.474321517376768, 5.0743215173767675], [4.0661835002848195, 4.666183500284819], [4.611608613378649, 5.211608613378648], [4.426869661136558, 5.0268696611365575], [4.246038418451405, 4.846038418451404], [4.358445007864555, 4.9584450078645546], [4.466595636766494, 5.066595636766493], [4.655301858114347, 5.255301858114347], [4.221702109833727, 4.821702109833726], [4.432465828997815, 5.032465828997815], [4.335564970138135, 4.9355649701381346], [4.25508107766077, 4.85508107766077], [4.282278039599551, 4.882278039599551], [4.455618513657732, 5.055618513657731], [4.289828915243154, 4.889828915243154], [4.452407590678514, 5.052407590678514], [4.735371250987767, 5.335371250987767]]\n",
      "    n_registers: 1\n",
      "    dtm: 3.5555555555555554\n",
      "    allow_q_object: True\n",
      "    dt: 3.5555555555555554\n",
      "    rep_times: [1000]\n",
      "    allow_q_circuit: False\n",
      "    meas_lo_range: [[6.994712006, 7.594712006], [6.779713403000001, 7.379713403], [6.926848078, 7.5268480779999996], [6.8374699230000004, 7.437469923], [6.890658781, 7.490658781], [6.708355500000001, 7.3083555], [6.851377353, 7.451377353], [6.740531036, 7.340531036], [7.013978215, 7.6139782149999995], [6.79917412, 7.39917412], [6.958808909, 7.558808909], [6.777617339, 7.3776173389999995], [6.907348522, 7.507348522], [6.84283313, 7.4428331299999995], [6.892647377, 7.492647377], [6.68180818, 7.28180818], [6.853627322, 7.453627322], [6.7356533270000005, 7.335653327], [6.994454291, 7.594454291], [6.8075499100000005, 7.40754991]]\n",
      "    acquisition_latency: []\n",
      "    hamiltonian: {'description': 'Qubits are modelled as a two level system. Qubits are coupled through resonator buses. The provided Hamiltonian has been projected into the zero excitation subspace of the resonator buses leading to an effective qubit-qubit flip-flop interaction. The qubit resonance frequencies in the Hamiltonian are the cavity dressed frequencies and not exactly what is returned by the backend defaults, which also includes the dressing due to the qubit-qubit interactions.\\nWarning: Currently not all system Hamiltonian information is available to the public, missing values have been replaced with 0.\\n', 'h_latex': '\\\\begin{align} \\\\mathcal{H}/\\\\hbar = & \\\\sum_{i=0}^{19}\\\\left(\\\\frac{\\\\omega_{q,i}}{2} (\\\\mathbb{1}_i-\\\\sigma_i^{z})+ \\\\Omega_{d,i}D_i(t)\\\\sigma_i^{X}\\\\right) \\\\\\\\ & + J_{11,16}(\\\\sigma_{11}^{+}\\\\sigma_{16}^{-}+\\\\sigma_{11}^{-}\\\\sigma_{16}^{+}) + J_{10,11}(\\\\sigma_{10}^{+}\\\\sigma_{11}^{-}+\\\\sigma_{10}^{-}\\\\sigma_{11}^{+}) + J_{5,6}(\\\\sigma_{5}^{+}\\\\sigma_{6}^{-}+\\\\sigma_{5}^{-}\\\\sigma_{6}^{+}) + J_{7,12}(\\\\sigma_{7}^{+}\\\\sigma_{12}^{-}+\\\\sigma_{7}^{-}\\\\sigma_{12}^{+}) \\\\\\\\ & + J_{8,9}(\\\\sigma_{8}^{+}\\\\sigma_{9}^{-}+\\\\sigma_{8}^{-}\\\\sigma_{9}^{+}) + J_{15,16}(\\\\sigma_{15}^{+}\\\\sigma_{16}^{-}+\\\\sigma_{15}^{-}\\\\sigma_{16}^{+}) + J_{1,6}(\\\\sigma_{1}^{+}\\\\sigma_{6}^{-}+\\\\sigma_{1}^{-}\\\\sigma_{6}^{+}) + J_{18,19}(\\\\sigma_{18}^{+}\\\\sigma_{19}^{-}+\\\\sigma_{18}^{-}\\\\sigma_{19}^{+}) \\\\\\\\ & + J_{1,2}(\\\\sigma_{1}^{+}\\\\sigma_{2}^{-}+\\\\sigma_{1}^{-}\\\\sigma_{2}^{+}) + J_{16,17}(\\\\sigma_{16}^{+}\\\\sigma_{17}^{-}+\\\\sigma_{16}^{-}\\\\sigma_{17}^{+}) + J_{6,7}(\\\\sigma_{6}^{+}\\\\sigma_{7}^{-}+\\\\sigma_{6}^{-}\\\\sigma_{7}^{+}) + J_{12,13}(\\\\sigma_{12}^{+}\\\\sigma_{13}^{-}+\\\\sigma_{12}^{-}\\\\sigma_{13}^{+}) \\\\\\\\ & + J_{3,4}(\\\\sigma_{3}^{+}\\\\sigma_{4}^{-}+\\\\sigma_{3}^{-}\\\\sigma_{4}^{+}) + J_{9,14}(\\\\sigma_{9}^{+}\\\\sigma_{14}^{-}+\\\\sigma_{9}^{-}\\\\sigma_{14}^{+}) + J_{2,3}(\\\\sigma_{2}^{+}\\\\sigma_{3}^{-}+\\\\sigma_{2}^{-}\\\\sigma_{3}^{+}) + J_{11,12}(\\\\sigma_{11}^{+}\\\\sigma_{12}^{-}+\\\\sigma_{11}^{-}\\\\sigma_{12}^{+}) \\\\\\\\ & + J_{0,1}(\\\\sigma_{0}^{+}\\\\sigma_{1}^{-}+\\\\sigma_{0}^{-}\\\\sigma_{1}^{+}) + J_{17,18}(\\\\sigma_{17}^{+}\\\\sigma_{18}^{-}+\\\\sigma_{17}^{-}\\\\sigma_{18}^{+}) + J_{5,10}(\\\\sigma_{5}^{+}\\\\sigma_{10}^{-}+\\\\sigma_{5}^{-}\\\\sigma_{10}^{+}) + J_{13,14}(\\\\sigma_{13}^{+}\\\\sigma_{14}^{-}+\\\\sigma_{13}^{-}\\\\sigma_{14}^{+}) \\\\\\\\ & + J_{3,8}(\\\\sigma_{3}^{+}\\\\sigma_{8}^{-}+\\\\sigma_{3}^{-}\\\\sigma_{8}^{+}) + J_{13,18}(\\\\sigma_{13}^{+}\\\\sigma_{18}^{-}+\\\\sigma_{13}^{-}\\\\sigma_{18}^{+}) + J_{7,8}(\\\\sigma_{7}^{+}\\\\sigma_{8}^{-}+\\\\sigma_{7}^{-}\\\\sigma_{8}^{+}) \\\\\\\\ & + \\\\Omega_{d,0}(U_{0}^{(0,1)}(t))\\\\sigma_{0}^{X} + \\\\Omega_{d,1}(U_{1}^{(1,0)}(t)+U_{3}^{(1,6)}(t)+U_{2}^{(1,2)}(t))\\\\sigma_{1}^{X} \\\\\\\\ & + \\\\Omega_{d,2}(U_{4}^{(2,1)}(t)+U_{5}^{(2,3)}(t))\\\\sigma_{2}^{X} + \\\\Omega_{d,3}(U_{7}^{(3,4)}(t)+U_{6}^{(3,2)}(t)+U_{8}^{(3,8)}(t))\\\\sigma_{3}^{X} \\\\\\\\ & + \\\\Omega_{d,4}(U_{9}^{(4,3)}(t))\\\\sigma_{4}^{X} + \\\\Omega_{d,5}(U_{11}^{(5,10)}(t)+U_{10}^{(5,6)}(t))\\\\sigma_{5}^{X} \\\\\\\\ & + \\\\Omega_{d,6}(U_{14}^{(6,7)}(t)+U_{12}^{(6,1)}(t)+U_{13}^{(6,5)}(t))\\\\sigma_{6}^{X} + \\\\Omega_{d,7}(U_{15}^{(7,6)}(t)+U_{16}^{(7,8)}(t)+U_{17}^{(7,12)}(t))\\\\sigma_{7}^{X} \\\\\\\\ & + \\\\Omega_{d,8}(U_{19}^{(8,7)}(t)+U_{18}^{(8,3)}(t)+U_{20}^{(8,9)}(t))\\\\sigma_{8}^{X} + \\\\Omega_{d,9}(U_{21}^{(9,8)}(t)+U_{22}^{(9,14)}(t))\\\\sigma_{9}^{X} \\\\\\\\ & + \\\\Omega_{d,10}(U_{24}^{(10,11)}(t)+U_{23}^{(10,5)}(t))\\\\sigma_{10}^{X} + \\\\Omega_{d,11}(U_{25}^{(11,10)}(t)+U_{26}^{(11,12)}(t)+U_{27}^{(11,16)}(t))\\\\sigma_{11}^{X} \\\\\\\\ & + \\\\Omega_{d,12}(U_{28}^{(12,7)}(t)+U_{30}^{(12,13)}(t)+U_{29}^{(12,11)}(t))\\\\sigma_{12}^{X} + \\\\Omega_{d,13}(U_{31}^{(13,12)}(t)+U_{32}^{(13,14)}(t)+U_{33}^{(13,18)}(t))\\\\sigma_{13}^{X} \\\\\\\\ & + \\\\Omega_{d,14}(U_{34}^{(14,9)}(t)+U_{35}^{(14,13)}(t))\\\\sigma_{14}^{X} + \\\\Omega_{d,15}(U_{36}^{(15,16)}(t))\\\\sigma_{15}^{X} \\\\\\\\ & + \\\\Omega_{d,16}(U_{38}^{(16,15)}(t)+U_{39}^{(16,17)}(t)+U_{37}^{(16,11)}(t))\\\\sigma_{16}^{X} + \\\\Omega_{d,17}(U_{41}^{(17,18)}(t)+U_{40}^{(17,16)}(t))\\\\sigma_{17}^{X} \\\\\\\\ & + \\\\Omega_{d,18}(U_{42}^{(18,13)}(t)+U_{43}^{(18,17)}(t)+U_{44}^{(18,19)}(t))\\\\sigma_{18}^{X} + \\\\Omega_{d,19}(U_{45}^{(19,18)}(t))\\\\sigma_{19}^{X} \\\\\\\\ \\\\end{align}', 'h_str': ['_SUM[i,0,19,wq{i}/2*(I{i}-Z{i})]', '_SUM[i,0,19,omegad{i}*X{i}||D{i}]', 'jq11q16*Sp11*Sm16', 'jq11q16*Sm11*Sp16', 'jq10q11*Sp10*Sm11', 'jq10q11*Sm10*Sp11', 'jq5q6*Sp5*Sm6', 'jq5q6*Sm5*Sp6', 'jq7q12*Sp7*Sm12', 'jq7q12*Sm7*Sp12', 'jq8q9*Sp8*Sm9', 'jq8q9*Sm8*Sp9', 'jq15q16*Sp15*Sm16', 'jq15q16*Sm15*Sp16', 'jq1q6*Sp1*Sm6', 'jq1q6*Sm1*Sp6', 'jq18q19*Sp18*Sm19', 'jq18q19*Sm18*Sp19', 'jq1q2*Sp1*Sm2', 'jq1q2*Sm1*Sp2', 'jq16q17*Sp16*Sm17', 'jq16q17*Sm16*Sp17', 'jq6q7*Sp6*Sm7', 'jq6q7*Sm6*Sp7', 'jq12q13*Sp12*Sm13', 'jq12q13*Sm12*Sp13', 'jq3q4*Sp3*Sm4', 'jq3q4*Sm3*Sp4', 'jq9q14*Sp9*Sm14', 'jq9q14*Sm9*Sp14', 'jq2q3*Sp2*Sm3', 'jq2q3*Sm2*Sp3', 'jq11q12*Sp11*Sm12', 'jq11q12*Sm11*Sp12', 'jq0q1*Sp0*Sm1', 'jq0q1*Sm0*Sp1', 'jq17q18*Sp17*Sm18', 'jq17q18*Sm17*Sp18', 'jq5q10*Sp5*Sm10', 'jq5q10*Sm5*Sp10', 'jq13q14*Sp13*Sm14', 'jq13q14*Sm13*Sp14', 'jq3q8*Sp3*Sm8', 'jq3q8*Sm3*Sp8', 'jq13q18*Sp13*Sm18', 'jq13q18*Sm13*Sp18', 'jq7q8*Sp7*Sm8', 'jq7q8*Sm7*Sp8', 'omegad1*X0||U0', 'omegad0*X1||U1', 'omegad6*X1||U3', 'omegad2*X1||U2', 'omegad1*X2||U4', 'omegad3*X2||U5', 'omegad4*X3||U7', 'omegad2*X3||U6', 'omegad8*X3||U8', 'omegad3*X4||U9', 'omegad10*X5||U11', 'omegad6*X5||U10', 'omegad7*X6||U14', 'omegad1*X6||U12', 'omegad5*X6||U13', 'omegad6*X7||U15', 'omegad8*X7||U16', 'omegad12*X7||U17', 'omegad7*X8||U19', 'omegad3*X8||U18', 'omegad9*X8||U20', 'omegad8*X9||U21', 'omegad14*X9||U22', 'omegad11*X10||U24', 'omegad5*X10||U23', 'omegad10*X11||U25', 'omegad12*X11||U26', 'omegad16*X11||U27', 'omegad7*X12||U28', 'omegad13*X12||U30', 'omegad11*X12||U29', 'omegad12*X13||U31', 'omegad14*X13||U32', 'omegad18*X13||U33', 'omegad9*X14||U34', 'omegad13*X14||U35', 'omegad16*X15||U36', 'omegad15*X16||U38', 'omegad17*X16||U39', 'omegad11*X16||U37', 'omegad18*X17||U41', 'omegad16*X17||U40', 'omegad13*X18||U42', 'omegad17*X18||U43', 'omegad19*X18||U44', 'omegad18*X19||U45'], 'osc': {}, 'qub': {'0': 2, '1': 2, '2': 2, '3': 2, '4': 2, '5': 2, '6': 2, '7': 2, '8': 2, '9': 2, '10': 2, '11': 2, '12': 2, '13': 2, '14': 2, '15': 2, '16': 2, '17': 2, '18': 2, '19': 2}, 'vars': {'jq0q1': 0, 'jq10q11': 0, 'jq11q12': 0, 'jq11q16': 0, 'jq12q13': 0, 'jq13q14': 0, 'jq13q18': 0, 'jq15q16': 0, 'jq16q17': 0, 'jq17q18': 0, 'jq18q19': 0, 'jq1q2': 0, 'jq1q6': 0, 'jq2q3': 0, 'jq3q4': 0, 'jq3q8': 0, 'jq5q10': 0, 'jq5q6': 0, 'jq6q7': 0, 'jq7q12': 0, 'jq7q8': 0, 'jq8q9': 0, 'jq9q14': 0, 'omegad0': 0, 'omegad1': 0, 'omegad10': 0, 'omegad11': 0, 'omegad12': 0, 'omegad13': 0, 'omegad14': 0, 'omegad15': 0, 'omegad16': 0, 'omegad17': 0, 'omegad18': 0, 'omegad19': 0, 'omegad2': 0, 'omegad3': 0, 'omegad4': 0, 'omegad5': 0, 'omegad6': 0, 'omegad7': 0, 'omegad8': 0, 'omegad9': 0, 'wq0': 31.710611455998173, 'wq1': 30.456450135012446, 'wq10': 31.135079827543773, 'wq11': 28.41069225995021, 'wq12': 29.734959763488536, 'wq13': 29.126113710848312, 'wq14': 28.620418500169905, 'wq15': 28.79130205182358, 'wq16': 29.880432371565487, 'wq17': 28.8387456027238, 'wq18': 29.860257547479975, 'wq19': 31.638170660400835, 'wq2': 29.553977110822405, 'wq3': 29.997946809733058, 'wq4': 27.433540017439515, 'wq5': 30.860547074197427, 'wq6': 29.69979800380617, 'wq7': 28.56360179668779, 'wq8': 29.26987322771866, 'wq9': 29.94940367019756}}\n",
      "    coupling_map: [[0, 1], [1, 0], [1, 2], [1, 6], [2, 1], [2, 3], [3, 2], [3, 4], [3, 8], [4, 3], [5, 6], [5, 10], [6, 1], [6, 5], [6, 7], [7, 6], [7, 8], [7, 12], [8, 3], [8, 7], [8, 9], [9, 8], [9, 14], [10, 5], [10, 11], [11, 10], [11, 12], [11, 16], [12, 7], [12, 11], [12, 13], [13, 12], [13, 14], [13, 18], [14, 9], [14, 13], [15, 16], [16, 11], [16, 15], [16, 17], [17, 16], [17, 18], [18, 13], [18, 17], [18, 19], [19, 18]]\n",
      "    discriminators: ['linear_discriminator', 'quadratic_discriminator']\n",
      "    conditional: False\n",
      "    url: None\n",
      "    description: 20 qubit device Boeblingen\n",
      "    online_date: 2019-07-03T04:00:00+00:00\n",
      "    meas_levels: [1, 2]\n",
      "    conditional_latency: []\n",
      "\n",
      "Qubits [Name / Freq / T1 / T2 / U1 err / U2 err / U3 err / Readout err]\n",
      "-----------------------------------------------------------------------\n",
      "    Q0 / 5.0469 GHz / 89.41815 µs / 135.1277 µs / 0.0 / 0.00025 / 0.00051 / 0.11333\n",
      "    Q1 / 4.84729 GHz / 65.38774 µs / 110.27158 µs / 0.0 / 0.00031 / 0.00062 / 0.02\n",
      "    Q2 / 4.70366 GHz / 81.81842 µs / 111.44336 µs / 0.0 / 0.0003 / 0.00059 / 0.06333\n",
      "    Q3 / 4.77432 GHz / 106.70329 µs / 65.92162 µs / 0.0 / 0.0005 / 0.00101 / 0.025\n",
      "    Q4 / 4.36618 GHz / 62.04536 µs / 90.81826 µs / 0.0 / 0.00029 / 0.00058 / 0.02\n",
      "    Q5 / 4.91161 GHz / 51.32239 µs / 96.00107 µs / 0.0 / 0.00053 / 0.00107 / 0.03\n",
      "    Q6 / 4.72687 GHz / 94.02853 µs / 162.01768 µs / 0.0 / 0.00035 / 0.0007 / 0.035\n",
      "    Q7 / 4.54604 GHz / 74.4218 µs / 70.97301 µs / 0.0 / 0.0003 / 0.00059 / 0.03\n",
      "    Q8 / 4.65845 GHz / 51.60517 µs / 52.41172 µs / 0.0 / 0.00038 / 0.00075 / 0.035\n",
      "    Q9 / 4.7666 GHz / 38.50702 µs / 72.1293 µs / 0.0 / 0.00049 / 0.00097 / 0.05333\n",
      "    Q10 / 4.9553 GHz / 75.44273 µs / 106.26232 µs / 0.0 / 0.00074 / 0.00148 / 0.05\n",
      "    Q11 / 4.5217 GHz / 82.53373 µs / 123.82126 µs / 0.0 / 0.00035 / 0.00071 / 0.03333\n",
      "    Q12 / 4.73247 GHz / 38.1126 µs / 65.94688 µs / 0.0 / 0.00051 / 0.00103 / 0.03833\n",
      "    Q13 / 4.63556 GHz / 53.30707 µs / 47.63535 µs / 0.0 / 0.0005 / 0.00101 / 0.05167\n",
      "    Q14 / 4.55508 GHz / 43.36831 µs / 172.45793 µs / 0.0 / 0.00041 / 0.00082 / 0.03667\n",
      "    Q15 / 4.58228 GHz / 49.21756 µs / 41.28316 µs / 0.0 / 0.00026 / 0.00052 / 0.02333\n",
      "    Q16 / 4.75562 GHz / 90.45914 µs / 59.43053 µs / 0.0 / 0.00024 / 0.00048 / 0.02333\n",
      "    Q17 / 4.58983 GHz / 110.3173 µs / 201.66558 µs / 0.0 / 0.00034 / 0.00067 / 0.02667\n",
      "    Q18 / 4.75241 GHz / 96.12762 µs / 103.75472 µs / 0.0 / 0.0006 / 0.0012 / 0.05\n",
      "    Q19 / 5.03537 GHz / 51.71989 µs / 48.52448 µs / 0.0 / 0.00108 / 0.00216 / 0.05\n",
      "\n",
      "Multi-Qubit Gates [Name / Type / Gate Error]\n",
      "--------------------------------------------\n",
      "    cx0_1 / cx / 0.00896\n",
      "    cx1_0 / cx / 0.00896\n",
      "    cx1_2 / cx / 0.00622\n",
      "    cx1_6 / cx / 0.01312\n",
      "    cx2_1 / cx / 0.00622\n",
      "    cx2_3 / cx / 0.0106\n",
      "    cx3_2 / cx / 0.0106\n",
      "    cx3_4 / cx / 0.01691\n",
      "    cx3_8 / cx / 0.01166\n",
      "    cx4_3 / cx / 0.01691\n",
      "    cx5_6 / cx / 0.00845\n",
      "    cx5_10 / cx / 0.0108\n",
      "    cx6_1 / cx / 0.01312\n",
      "    cx6_5 / cx / 0.00845\n",
      "    cx6_7 / cx / 0.00613\n",
      "    cx7_6 / cx / 0.00613\n",
      "    cx7_8 / cx / 0.00985\n",
      "    cx7_12 / cx / 0.00959\n",
      "    cx8_3 / cx / 0.01166\n",
      "    cx8_7 / cx / 0.00985\n",
      "    cx8_9 / cx / 0.01537\n",
      "    cx9_8 / cx / 0.01537\n",
      "    cx9_14 / cx / 0.01429\n",
      "    cx10_5 / cx / 0.0108\n",
      "    cx10_11 / cx / 0.0114\n",
      "    cx11_10 / cx / 0.0114\n",
      "    cx11_12 / cx / 0.00943\n",
      "    cx11_16 / cx / 0.01527\n",
      "    cx12_7 / cx / 0.00959\n",
      "    cx12_11 / cx / 0.00943\n",
      "    cx12_13 / cx / 0.01509\n",
      "    cx13_12 / cx / 0.01509\n",
      "    cx13_14 / cx / 0.0097\n",
      "    cx13_18 / cx / 0.01921\n",
      "    cx14_9 / cx / 0.01429\n",
      "    cx14_13 / cx / 0.0097\n",
      "    cx15_16 / cx / 0.00866\n",
      "    cx16_11 / cx / 0.01527\n",
      "    cx16_15 / cx / 0.00866\n",
      "    cx16_17 / cx / 0.01048\n",
      "    cx17_16 / cx / 0.01048\n",
      "    cx17_18 / cx / 0.01285\n",
      "    cx18_13 / cx / 0.01921\n",
      "    cx18_17 / cx / 0.01285\n",
      "    cx18_19 / cx / 0.03461\n",
      "    cx19_18 / cx / 0.03461\n"
     ]
    },
    {
     "data": {
      "text/plain": [
       "<IBMQBackend('ibmq_boeblingen') from IBMQ(hub='ibm-q-ncsu', group='nc-state', project='on-boarding')>"
      ]
     },
     "execution_count": 5,
     "metadata": {},
     "output_type": "execute_result"
    }
   ],
   "source": [
    "#We used ibmq_20_tokyo for our experiment, however, that backend has retired. So we can use the publically available ibmqx2 backend instead\n",
    "device = provider.get_backend('ibmqx2')\n",
    "#if you have access to the twenty qubit machine, use this 20 qubit machine instead\n",
    "#device = provider.get_backend('ibmq_boeblingen')\n",
    "backend_monitor(device)\n",
    "device"
   ]
  },
  {
   "cell_type": "code",
   "execution_count": 6,
   "metadata": {},
   "outputs": [],
   "source": [
    "#entangle3bit:\n",
    "qr = QuantumRegister(4)\n",
    "circ = QuantumCircuit(qr)\n",
    "#assertion circuit for three qubit entanglement, because the measurement in state_tomography_circuit and the \n",
    "#measurement of ancilla qubit in our assertion function will cause conflict, we manually insert the assertion circuits\n",
    "circ.cx(qr[0], qr[3])\n",
    "circ.cx(qr[1], qr[3])\n",
    "circ.cx(qr[2], qr[3])\n",
    "circ.cx(qr[1], qr[3])\n",
    "\n",
    "tomocircuits=state_tomography_circuits(circ, qr, meas_labels='Pauli', meas_basis='Pauli')\n",
    "trans_qc = transpile(tomocircuits, device, optimization_level = 3)"
   ]
  },
  {
   "cell_type": "code",
   "execution_count": 7,
   "metadata": {},
   "outputs": [
    {
     "name": "stdout",
     "output_type": "stream",
     "text": [
      "[1.+0.j 0.+0.j 0.+0.j 0.+0.j 0.+0.j 0.+0.j 0.+0.j 0.+0.j 0.+0.j 0.+0.j\n",
      " 0.+0.j 0.+0.j 0.+0.j 0.+0.j 0.+0.j 0.+0.j]\n"
     ]
    }
   ],
   "source": [
    "jobSim = qiskit.execute(circ, Aer.get_backend('statevector_simulator'))\n",
    "psi_circ = jobSim.result().get_statevector(circ)\n",
    "print(psi_circ)"
   ]
  },
  {
   "cell_type": "code",
   "execution_count": 8,
   "metadata": {},
   "outputs": [
    {
     "name": "stdout",
     "output_type": "stream",
     "text": [
      "Job Status: job has successfully run\n"
     ]
    }
   ],
   "source": [
    "shots = 8192\n",
    "#execute the job on real device\n",
    "job = execute(trans_qc, backend=device, shots=shots)\n",
    "job_monitor(job)\n",
    "res = job.result()"
   ]
  },
  {
   "cell_type": "code",
   "execution_count": 9,
   "metadata": {},
   "outputs": [
    {
     "data": {
      "text/plain": [
       "'5de805dde2b9c600111b3bfe'"
      ]
     },
     "execution_count": 9,
     "metadata": {},
     "output_type": "execute_result"
    }
   ],
   "source": [
    "res.job_id"
   ]
  },
  {
   "cell_type": "code",
   "execution_count": 10,
   "metadata": {},
   "outputs": [],
   "source": [
    "tomo_state = StateTomographyFitter(job.result(), tomocircuits)"
   ]
  },
  {
   "cell_type": "code",
   "execution_count": 11,
   "metadata": {},
   "outputs": [
    {
     "name": "stdout",
     "output_type": "stream",
     "text": [
      "Assertion Circuit Fidelity = 0.9067804340558016\n"
     ]
    }
   ],
   "source": [
    "rho_bell = tomo_state.fit()\n",
    "F_state = state_fidelity(psi_circ, rho_bell)\n",
    "print('Assertion Circuit Fidelity =', F_state)"
   ]
  }
 ],
 "metadata": {
  "kernelspec": {
   "display_name": "Python 3",
   "language": "python",
   "name": "python3"
  },
  "language_info": {
   "codemirror_mode": {
    "name": "ipython",
    "version": 3
   },
   "file_extension": ".py",
   "mimetype": "text/x-python",
   "name": "python",
   "nbconvert_exporter": "python",
   "pygments_lexer": "ipython3",
   "version": "3.7.3"
  }
 },
 "nbformat": 4,
 "nbformat_minor": 2
}
