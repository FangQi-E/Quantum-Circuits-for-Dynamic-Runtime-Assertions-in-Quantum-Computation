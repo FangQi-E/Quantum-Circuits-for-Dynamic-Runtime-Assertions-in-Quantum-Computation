{
 "cells": [
  {
   "cell_type": "code",
   "execution_count": 1,
   "metadata": {
    "scrolled": true
   },
   "outputs": [
    {
     "data": {
      "text/plain": [
       "{'qiskit-terra': '0.10.0',\n",
       " 'qiskit-aer': '0.3.2',\n",
       " 'qiskit-ignis': '0.2.0',\n",
       " 'qiskit-ibmq-provider': '0.3.3',\n",
       " 'qiskit-aqua': '0.6.1',\n",
       " 'qiskit': '0.13.0'}"
      ]
     },
     "execution_count": 1,
     "metadata": {},
     "output_type": "execute_result"
    }
   ],
   "source": [
    "from qiskit import IBMQ\n",
    "import qiskit\n",
    "qiskit.__qiskit_version__"
   ]
  },
  {
   "cell_type": "code",
   "execution_count": 2,
   "metadata": {},
   "outputs": [
    {
     "data": {
      "text/plain": [
       "[<IBMQSimulator('ibmq_qasm_simulator') from IBMQ(hub='ibm-q', group='open', project='main')>,\n",
       " <IBMQBackend('ibmqx2') from IBMQ(hub='ibm-q', group='open', project='main')>,\n",
       " <IBMQBackend('ibmq_16_melbourne') from IBMQ(hub='ibm-q', group='open', project='main')>,\n",
       " <IBMQBackend('ibmq_vigo') from IBMQ(hub='ibm-q', group='open', project='main')>,\n",
       " <IBMQBackend('ibmq_ourense') from IBMQ(hub='ibm-q', group='open', project='main')>,\n",
       " <IBMQBackend('ibmq_london') from IBMQ(hub='ibm-q', group='open', project='main')>,\n",
       " <IBMQBackend('ibmq_burlington') from IBMQ(hub='ibm-q', group='open', project='main')>,\n",
       " <IBMQBackend('ibmq_essex') from IBMQ(hub='ibm-q', group='open', project='main')>,\n",
       " <IBMQBackend('ibmq_armonk') from IBMQ(hub='ibm-q', group='open', project='main')>]"
      ]
     },
     "execution_count": 2,
     "metadata": {},
     "output_type": "execute_result"
    }
   ],
   "source": [
    "provider = IBMQ.load_account()\n",
    "#change the provider based on your Qiskit account\n",
    "#provider = IBMQ.get_provider(hub='ibm-q-ncsu', group='nc-state', project='on-boarding')\n",
    "#if you do not have access to the twenty qubit machine, use this publically available ibmqx2 machine instead\n",
    "provider = IBMQ.get_provider(hub='ibm-q', group='open', project='main')\n",
    "provider.backends()"
   ]
  },
  {
   "cell_type": "code",
   "execution_count": 3,
   "metadata": {},
   "outputs": [],
   "source": [
    "from qiskit import *\n",
    "from qiskit.compiler import transpile\n",
    "from qiskit.visualization import plot_histogram\n",
    "from qiskit.tools.monitor import job_monitor, backend_monitor, backend_overview\n",
    "from qiskit.providers.aer import noise\n",
    "import math\n",
    "\n",
    "#Include our assertion function\n",
    "from qiskit.compiler.assertion import classical_assertion, superposition_assertion, entanglement_assertion, calcSuccessrate"
   ]
  },
  {
   "cell_type": "code",
   "execution_count": 4,
   "metadata": {},
   "outputs": [
    {
     "name": "stdout",
     "output_type": "stream",
     "text": [
      "ibmqx2\n",
      "======\n",
      "Configuration\n",
      "-------------\n",
      "    n_qubits: 5\n",
      "    operational: True\n",
      "    status_msg: active\n",
      "    pending_jobs: 2\n",
      "    backend_version: 2.0.2\n",
      "    basis_gates: ['u1', 'u2', 'u3', 'cx', 'id']\n",
      "    local: False\n",
      "    simulator: False\n",
      "    description: 5 qubit device\n",
      "    allow_q_circuit: False\n",
      "    coupling_map: [[0, 1], [0, 2], [1, 0], [1, 2], [2, 0], [2, 1], [2, 3], [2, 4], [3, 2], [3, 4], [4, 2], [4, 3]]\n",
      "    n_registers: 1\n",
      "    url: None\n",
      "    allow_object_storage: True\n",
      "    max_shots: 8192\n",
      "    memory: True\n",
      "    backend_name: ibmqx2\n",
      "    online_date: 2017-01-24T05:00:00+00:00\n",
      "    open_pulse: False\n",
      "    credits_required: True\n",
      "    max_experiments: 75\n",
      "    quantum_volume: 8\n",
      "    conditional: False\n",
      "    allow_q_object: True\n",
      "    sample_name: sparrow\n",
      "\n",
      "Qubits [Name / Freq / T1 / T2 / U1 err / U2 err / U3 err / Readout err]\n",
      "-----------------------------------------------------------------------\n",
      "    Q0 / 5.28627 GHz / 48.9011 µs / 47.74382 µs / 0.0 / 0.00068 / 0.00136 / 0.015\n",
      "    Q1 / 5.23787 GHz / 75.88025 µs / 53.49852 µs / 0.0 / 0.00238 / 0.00477 / 0.025\n",
      "    Q2 / 5.0303 GHz / 65.87905 µs / 65.61618 µs / 0.0 / 0.00033 / 0.00066 / 0.017\n",
      "    Q3 / 5.29532 GHz / 52.44591 µs / 33.98392 µs / 0.0 / 0.0005 / 0.00099 / 0.038\n",
      "    Q4 / 5.08449 GHz / 49.01491 µs / 19.44666 µs / 0.0 / 0.00086 / 0.00172 / 0.0295\n",
      "\n",
      "Multi-Qubit Gates [Name / Type / Gate Error]\n",
      "--------------------------------------------\n",
      "    cx0_1 / cx / 0.04135\n",
      "    cx0_2 / cx / 0.02371\n",
      "    cx1_0 / cx / 0.04135\n",
      "    cx1_2 / cx / 0.05759\n",
      "    cx2_0 / cx / 0.02371\n",
      "    cx2_1 / cx / 0.05759\n",
      "    cx2_3 / cx / 0.01403\n",
      "    cx2_4 / cx / 0.01299\n",
      "    cx3_2 / cx / 0.01403\n",
      "    cx3_4 / cx / 0.01871\n",
      "    cx4_2 / cx / 0.01299\n",
      "    cx4_3 / cx / 0.01871\n"
     ]
    },
    {
     "data": {
      "text/plain": [
       "<IBMQBackend('ibmqx2') from IBMQ(hub='ibm-q', group='open', project='main')>"
      ]
     },
     "execution_count": 4,
     "metadata": {},
     "output_type": "execute_result"
    }
   ],
   "source": [
    "#we used ibmq_20_tokyo for our experiment, however, that backend has retired. So we can use the ibmqx2 instead\n",
    "device = provider.get_backend('ibmqx2')\n",
    "backend_monitor(device)\n",
    "device"
   ]
  },
  {
   "cell_type": "code",
   "execution_count": 5,
   "metadata": {},
   "outputs": [],
   "source": [
    "transQcList = []"
   ]
  },
  {
   "cell_type": "code",
   "execution_count": 6,
   "metadata": {},
   "outputs": [],
   "source": [
    "def toffoli():\n",
    "    #Toffoli gate without assertion:\n",
    "    qr = QuantumRegister(3)\n",
    "    cr = ClassicalRegister(3)\n",
    "\n",
    "    circuit = QuantumCircuit(qr, cr)\n",
    "\n",
    "    circuit.x(qr[1])\n",
    "    circuit.x(qr[2])\n",
    "    circuit.ccx(qr[2], qr[1], qr[0])\n",
    "    circuit.measure(qr, cr)\n",
    "    trans_qc = transpile(circuit, backend=device, optimization_level = 3)\n",
    "    num_cnots = trans_qc.count_ops()['cx']\n",
    "    return trans_qc, num_cnots\n",
    "def toffoli_assertion():\n",
    "    #Toffoli gate with assertion:\n",
    "    qr = QuantumRegister(3)\n",
    "    cr = ClassicalRegister(3)\n",
    "\n",
    "    circuit = QuantumCircuit(qr, cr)\n",
    "\n",
    "    circuit.x(qr[1])\n",
    "    circuit.x(qr[2])\n",
    "    circuit.ccx(qr[2], qr[1], qr[0])\n",
    "    qubitList = [qr[2]]\n",
    "    success = classical_assertion(circuit, qubitList, value = 1)\n",
    "    circuit.measure(qr, cr)\n",
    "\n",
    "    trans_qc = transpile(circuit, backend=device, optimization_level = 3)\n",
    "    num_cnots = trans_qc.count_ops()['cx']\n",
    "    return trans_qc, num_cnots"
   ]
  },
  {
   "cell_type": "code",
   "execution_count": 9,
   "metadata": {},
   "outputs": [],
   "source": [
    "def toffoliExperiment():\n",
    "    #This function run the transpiler multiple times and selects the mapping with fewest SWAP gates\n",
    "    min_cnots = -1\n",
    "    for i in range(10):\n",
    "        trans_qc, num_cnots = toffoli()\n",
    "        if min_cnots < 0:\n",
    "            min_cnots = num_cnots\n",
    "        elif (num_cnots < min_cnots) and (min_cnots >= 0):\n",
    "            min_cnots = num_cnots\n",
    "    while 1:\n",
    "        trans_qc, num_cnots = toffoli()\n",
    "        if num_cnots == min_cnots:\n",
    "            print(\"number of CNOTs in circuit without assertion: \", num_cnots)\n",
    "            transQcList.append(trans_qc)\n",
    "            break\n",
    "            \n",
    "    min_cnots = -1\n",
    "    for i in range(20):\n",
    "        trans_qc, num_cnots = toffoli_assertion()\n",
    "        if min_cnots < 0:\n",
    "            min_cnots = num_cnots\n",
    "        elif (num_cnots < min_cnots) and (min_cnots >= 0):\n",
    "            min_cnots = num_cnots\n",
    "    while 1:\n",
    "        trans_qc, num_cnots = toffoli_assertion()\n",
    "        if num_cnots == min_cnots:\n",
    "            print(\"number of CNOTs in circuit with assertion: \", num_cnots)\n",
    "            transQcList.append(trans_qc)\n",
    "            break"
   ]
  },
  {
   "cell_type": "code",
   "execution_count": 10,
   "metadata": {},
   "outputs": [
    {
     "name": "stdout",
     "output_type": "stream",
     "text": [
      "number of CNOTs in circuit without assertion:  6\n",
      "number of CNOTs in circuit with assertion:  10\n"
     ]
    }
   ],
   "source": [
    "toffoliExperiment()"
   ]
  },
  {
   "cell_type": "code",
   "execution_count": 11,
   "metadata": {},
   "outputs": [
    {
     "name": "stdout",
     "output_type": "stream",
     "text": [
      "Job Status: job has successfully run\n"
     ]
    }
   ],
   "source": [
    "shots = 8192\n",
    "#execute the job on real device\n",
    "job = execute(transQcList, backend=device, shots=shots)\n",
    "job_monitor(job)\n",
    "res = job.result()"
   ]
  },
  {
   "cell_type": "markdown",
   "metadata": {},
   "source": [
    "Success rate of toffoli gate without assertion:"
   ]
  },
  {
   "cell_type": "code",
   "execution_count": 12,
   "metadata": {},
   "outputs": [
    {
     "name": "stdout",
     "output_type": "stream",
     "text": [
      "total_count =  8192 success_count =  4366 success_rate =  53.2958984375 %\n"
     ]
    }
   ],
   "source": [
    "calcSuccessrate(res.get_counts(0), ['111'], 0)"
   ]
  },
  {
   "cell_type": "markdown",
   "metadata": {},
   "source": [
    "Success rate of toffoli with assertion:"
   ]
  },
  {
   "cell_type": "code",
   "execution_count": 13,
   "metadata": {},
   "outputs": [
    {
     "name": "stdout",
     "output_type": "stream",
     "text": [
      "total_count =  7105 success_count =  4291 success_rate =  60.39408866995074 %\n"
     ]
    }
   ],
   "source": [
    "calcSuccessrate(res.get_counts(1), ['0 111'], 1)"
   ]
  },
  {
   "cell_type": "code",
   "execution_count": null,
   "metadata": {},
   "outputs": [],
   "source": []
  }
 ],
 "metadata": {
  "kernelspec": {
   "display_name": "Python 3",
   "language": "python",
   "name": "python3"
  },
  "language_info": {
   "codemirror_mode": {
    "name": "ipython",
    "version": 3
   },
   "file_extension": ".py",
   "mimetype": "text/x-python",
   "name": "python",
   "nbconvert_exporter": "python",
   "pygments_lexer": "ipython3",
   "version": "3.7.3"
  }
 },
 "nbformat": 4,
 "nbformat_minor": 2
}
