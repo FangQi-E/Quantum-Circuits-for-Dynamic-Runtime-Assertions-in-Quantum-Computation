{
 "cells": [
  {
   "cell_type": "code",
   "execution_count": 1,
   "metadata": {
    "scrolled": true
   },
   "outputs": [
    {
     "data": {
      "text/plain": [
       "{'qiskit-terra': '0.10.0',\n",
       " 'qiskit-aer': '0.3.2',\n",
       " 'qiskit-ignis': '0.2.0',\n",
       " 'qiskit-ibmq-provider': '0.3.3',\n",
       " 'qiskit-aqua': '0.6.1',\n",
       " 'qiskit': '0.13.0'}"
      ]
     },
     "execution_count": 1,
     "metadata": {},
     "output_type": "execute_result"
    }
   ],
   "source": [
    "from qiskit import IBMQ\n",
    "import qiskit\n",
    "qiskit.__qiskit_version__"
   ]
  },
  {
   "cell_type": "code",
   "execution_count": 2,
   "metadata": {},
   "outputs": [
    {
     "data": {
      "text/plain": [
       "[<IBMQSimulator('ibmq_qasm_simulator') from IBMQ(hub='ibm-q', group='open', project='main')>,\n",
       " <IBMQBackend('ibmqx2') from IBMQ(hub='ibm-q', group='open', project='main')>,\n",
       " <IBMQBackend('ibmq_16_melbourne') from IBMQ(hub='ibm-q', group='open', project='main')>,\n",
       " <IBMQBackend('ibmq_vigo') from IBMQ(hub='ibm-q', group='open', project='main')>,\n",
       " <IBMQBackend('ibmq_ourense') from IBMQ(hub='ibm-q', group='open', project='main')>,\n",
       " <IBMQBackend('ibmq_london') from IBMQ(hub='ibm-q', group='open', project='main')>,\n",
       " <IBMQBackend('ibmq_burlington') from IBMQ(hub='ibm-q', group='open', project='main')>,\n",
       " <IBMQBackend('ibmq_essex') from IBMQ(hub='ibm-q', group='open', project='main')>,\n",
       " <IBMQBackend('ibmq_armonk') from IBMQ(hub='ibm-q', group='open', project='main')>]"
      ]
     },
     "execution_count": 2,
     "metadata": {},
     "output_type": "execute_result"
    }
   ],
   "source": [
    "provider = IBMQ.load_account()\n",
    "#change the provider based on your Qiskit account\n",
    "#provider = IBMQ.get_provider(hub='ibm-q-ncsu', group='nc-state', project='on-boarding')\n",
    "#if you do not have access to the twenty qubit machine, use this publically available ibmqx2 machine instead\n",
    "provider = IBMQ.get_provider(hub='ibm-q', group='open', project='main')\n",
    "provider.backends()"
   ]
  },
  {
   "cell_type": "code",
   "execution_count": 3,
   "metadata": {},
   "outputs": [],
   "source": [
    "from qiskit import *\n",
    "from qiskit.compiler import transpile\n",
    "from qiskit.visualization import plot_histogram\n",
    "from qiskit.tools.monitor import job_monitor, backend_monitor, backend_overview\n",
    "from qiskit.providers.aer import noise\n",
    "import math\n",
    "\n",
    "#Include our assertion function\n",
    "from qiskit.compiler.assertion import classical_assertion, superposition_assertion, entanglement_assertion, calcSuccessrate"
   ]
  },
  {
   "cell_type": "code",
   "execution_count": 4,
   "metadata": {},
   "outputs": [
    {
     "name": "stdout",
     "output_type": "stream",
     "text": [
      "ibmqx2\n",
      "======\n",
      "Configuration\n",
      "-------------\n",
      "    n_qubits: 5\n",
      "    operational: True\n",
      "    status_msg: active\n",
      "    pending_jobs: 79\n",
      "    backend_version: 2.0.2\n",
      "    basis_gates: ['u1', 'u2', 'u3', 'cx', 'id']\n",
      "    local: False\n",
      "    simulator: False\n",
      "    backend_name: ibmqx2\n",
      "    allow_object_storage: True\n",
      "    max_experiments: 75\n",
      "    quantum_volume: 8\n",
      "    allow_q_circuit: False\n",
      "    n_registers: 1\n",
      "    online_date: 2017-01-24T05:00:00+00:00\n",
      "    coupling_map: [[0, 1], [0, 2], [1, 0], [1, 2], [2, 0], [2, 1], [2, 3], [2, 4], [3, 2], [3, 4], [4, 2], [4, 3]]\n",
      "    open_pulse: False\n",
      "    max_shots: 8192\n",
      "    credits_required: True\n",
      "    description: 5 qubit device\n",
      "    url: None\n",
      "    conditional: False\n",
      "    memory: True\n",
      "    sample_name: sparrow\n",
      "    allow_q_object: True\n",
      "\n",
      "Qubits [Name / Freq / T1 / T2 / U1 err / U2 err / U3 err / Readout err]\n",
      "-----------------------------------------------------------------------\n",
      "    Q0 / 5.28627 GHz / 50.31548 µs / 53.02446 µs / 0.0 / 0.00074 / 0.00147 / 0.019\n",
      "    Q1 / 5.2379 GHz / 73.73208 µs / 56.56405 µs / 0.0 / 0.00051 / 0.00103 / 0.0105\n",
      "    Q2 / 5.0303 GHz / 67.88818 µs / 73.08468 µs / 0.0 / 0.00035 / 0.00071 / 0.0155\n",
      "    Q3 / 5.29533 GHz / 47.32753 µs / 28.03521 µs / 0.0 / 0.00073 / 0.00146 / 0.05\n",
      "    Q4 / 5.08453 GHz / 32.95173 µs / 28.16845 µs / 0.0 / 0.00099 / 0.00197 / 0.026\n",
      "\n",
      "Multi-Qubit Gates [Name / Type / Gate Error]\n",
      "--------------------------------------------\n",
      "    cx0_1 / cx / 0.01601\n",
      "    cx0_2 / cx / 0.01981\n",
      "    cx1_0 / cx / 0.01601\n",
      "    cx1_2 / cx / 0.01267\n",
      "    cx2_0 / cx / 0.01981\n",
      "    cx2_1 / cx / 0.01267\n",
      "    cx2_3 / cx / 0.01437\n",
      "    cx2_4 / cx / 0.01325\n",
      "    cx3_2 / cx / 0.01437\n",
      "    cx3_4 / cx / 0.0279\n",
      "    cx4_2 / cx / 0.01325\n",
      "    cx4_3 / cx / 0.0279\n"
     ]
    },
    {
     "data": {
      "text/plain": [
       "<IBMQBackend('ibmqx2') from IBMQ(hub='ibm-q', group='open', project='main')>"
      ]
     },
     "execution_count": 4,
     "metadata": {},
     "output_type": "execute_result"
    }
   ],
   "source": [
    "#we used ibmq_20_tokyo for our experiment, however, that backend has retired. So we can use the ibmqx2 instead\n",
    "device = provider.get_backend('ibmqx2')\n",
    "backend_monitor(device)\n",
    "device"
   ]
  },
  {
   "cell_type": "code",
   "execution_count": 5,
   "metadata": {},
   "outputs": [],
   "source": [
    "transQcList = []\n",
    "\n",
    "pi = math.pi"
   ]
  },
  {
   "cell_type": "code",
   "execution_count": 6,
   "metadata": {},
   "outputs": [],
   "source": [
    "def adder():\n",
    "    first = \"1\"\n",
    "    second = \"1\"\n",
    "\n",
    "    l = len(first)\n",
    "    l2 = len(second)\n",
    "    if l > l2:\n",
    "         n = l\n",
    "    else:\n",
    "         n = l2\n",
    "    #Initializing the registers; two quantum registers with n bits each\n",
    "    #1 more with n+1 bits, which will also hold the sum of the two #numbers\n",
    "    #The classical register has n+1 bits, which is used to make the sum #readable\n",
    "    a = QuantumRegister(n) #First number\n",
    "    b = QuantumRegister(n+1) #Second number, then sum\n",
    "    c = QuantumRegister(n) #Carry bits\n",
    "    cl = ClassicalRegister(n+1) #Classical output\n",
    "    #Combining all of them into one quantum circuit\n",
    "    qc = QuantumCircuit(a, b, c, cl)\n",
    "\n",
    "    #Setting up the registers using the values inputted\n",
    "    for i in range(l):\n",
    "        if first[i] == \"1\":\n",
    "           qc.x(a[l - (i+1)]) #Flip the qubit from 0 to 1\n",
    "    for i in range(l2):\n",
    "       if second[i] == \"1\":\n",
    "          qc.x(b[l2 - (i+1)]) #Flip the qubit from 0 to 1\n",
    "\n",
    "    #Implementing a carry gate that is applied on all (c[i], a[i], b[i]) #with output fed to c[i+1]\n",
    "    for i in range(n-1):\n",
    "        qc.ccx(a[i], b[i], c[i+1])\n",
    "        qc.cx(a[i], b[i])\n",
    "        qc.ccx(c[i], b[i], c[i+1])\n",
    "    #For the last iteration of the carry gate, instead of feeding the #result to c[n], we use b[n], which is why c has only n bits, with #c[n-1] being the last carry bit\n",
    "    qc.ccx(a[n-1], b[n-1], b[n])\n",
    "    qc.cx(a[n-1], b[n-1])\n",
    "    qc.ccx(c[n-1], b[n-1], b[n])\n",
    "\n",
    "    #Reversing the gate operation performed on b[n-1]\n",
    "    qc.cx(c[n-1], b[n-1])\n",
    "    #Reversing the gate operations performed during the carry gate implementations\n",
    "    #This is done to ensure the sum gates are fed with the correct input bit states\n",
    "    for i in range(n-1):\n",
    "        qc.ccx(c[(n-2)-i], b[(n-2)-i], c[(n-1)-i])\n",
    "        qc.cx(a[(n-2)-i], b[(n-2)-i])\n",
    "        qc.ccx(a[(n-2)-i], b[(n-2)-i], c[(n-1)-i])\n",
    "        #These two operations act as a sum gate; if a control bit is at                \n",
    "        #the 1> state then the target bit b[(n-2)-i] is flipped\n",
    "        qc.cx(c[(n-2)-i], b[(n-2)-i])\n",
    "        qc.cx(a[(n-2)-i], b[(n-2)-i])\n",
    "\n",
    "    #Measure qubits and store results in classical register cl\n",
    "    for i in range(n+1):\n",
    "        qc.measure(b[i], cl[i])\n",
    "\n",
    "    trans_qc = transpile(qc, backend=device, optimization_level = 3)\n",
    "    num_cnots = trans_qc.count_ops()['cx']\n",
    "    #print(\"1 bit adder without assertion, size =\",trans_qc.size(),\"depth = \",trans_qc.depth(), \"width = \",trans_qc.width(), \"\\n OPs =\", trans_qc.count_ops(), \"subcircuits =\",trans_qc.num_tensor_factors())\n",
    "    return trans_qc, num_cnots"
   ]
  },
  {
   "cell_type": "code",
   "execution_count": 7,
   "metadata": {},
   "outputs": [],
   "source": [
    "def adder_assertion():\n",
    "    first = \"1\"\n",
    "    second = \"1\"\n",
    "\n",
    "    l = len(first)\n",
    "    l2 = len(second)\n",
    "    if l > l2:\n",
    "         n = l\n",
    "    else:\n",
    "         n = l2\n",
    "    #Initializing the registers; two quantum registers with n bits each\n",
    "    #1 more with n+1 bits, which will also hold the sum of the two #numbers\n",
    "    #The classical register has n+1 bits, which is used to make the sum #readable\n",
    "    a = QuantumRegister(n) #First number\n",
    "    b = QuantumRegister(n+1) #Second number, then sum\n",
    "    c = QuantumRegister(n) #Carry bits\n",
    "    cl = ClassicalRegister(n+1) #Classical output\n",
    "    #Combining all of them into one quantum circuit\n",
    "    qc = QuantumCircuit(a, b, c, cl)\n",
    "\n",
    "    #Setting up the registers using the values inputted\n",
    "    for i in range(l):\n",
    "        if first[i] == \"1\":\n",
    "           qc.x(a[l - (i+1)]) #Flip the qubit from 0 to 1\n",
    "    for i in range(l2):\n",
    "       if second[i] == \"1\":\n",
    "          qc.x(b[l2 - (i+1)]) #Flip the qubit from 0 to 1\n",
    "\n",
    "    #Implementing a carry gate that is applied on all (c[i], a[i], b[i]) #with output fed to c[i+1]\n",
    "    for i in range(n-1):\n",
    "        qc.ccx(a[i], b[i], c[i+1])\n",
    "        qc.cx(a[i], b[i])\n",
    "        qc.ccx(c[i], b[i], c[i+1])\n",
    "    #For the last iteration of the carry gate, instead of feeding the #result to c[n], we use b[n], which is why c has only n bits, with #c[n-1] being the last carry bit\n",
    "    qc.ccx(a[n-1], b[n-1], b[n])\n",
    "    qc.cx(a[n-1], b[n-1])\n",
    "    qc.ccx(c[n-1], b[n-1], b[n])\n",
    "\n",
    "    #Reversing the gate operation performed on b[n-1]\n",
    "    qc.cx(c[n-1], b[n-1])\n",
    "    #Reversing the gate operations performed during the carry gate implementations\n",
    "    #This is done to ensure the sum gates are fed with the correct input bit states\n",
    "    for i in range(n-1):\n",
    "        qc.ccx(c[(n-2)-i], b[(n-2)-i], c[(n-1)-i])\n",
    "        qc.cx(a[(n-2)-i], b[(n-2)-i])\n",
    "        qc.ccx(a[(n-2)-i], b[(n-2)-i], c[(n-1)-i])\n",
    "        #These two operations act as a sum gate; if a control bit is at                \n",
    "        #the 1> state then the target bit b[(n-2)-i] is flipped\n",
    "        qc.cx(c[(n-2)-i], b[(n-2)-i])\n",
    "        qc.cx(a[(n-2)-i], b[(n-2)-i])\n",
    "\n",
    "\n",
    "    #assertion\n",
    "    qubitList = [b[1]] \n",
    "    success = classical_assertion(qc, qubitList, value = 1)\n",
    "    if not success:\n",
    "        print(\"Assertion Circuit Error\")\n",
    "\n",
    "    #Measure qubits and store results in classical register cl\n",
    "    for i in range(n+1):\n",
    "        qc.measure(b[i], cl[i])\n",
    "    trans_qc = transpile(qc, backend=device, optimization_level = 3)\n",
    "    num_cnots = trans_qc.count_ops()['cx']\n",
    "    #print(\"1 bit adder without assertion, size =\",trans_qc.size(),\"depth = \",trans_qc.depth(), \"width = \",trans_qc.width(), \"\\n OPs =\", trans_qc.count_ops(), \"subcircuits =\",trans_qc.num_tensor_factors())\n",
    "    return trans_qc, num_cnots"
   ]
  },
  {
   "cell_type": "code",
   "execution_count": 8,
   "metadata": {},
   "outputs": [],
   "source": [
    "def adderExperiment():\n",
    "    #This function run the transpiler multiple times and selects the mapping with fewest SWAP gates\n",
    "    min_cnots = -1\n",
    "    num_cnots_original = -1\n",
    "    for i in range(10):\n",
    "        trans_qc, num_cnots = adder()\n",
    "        if min_cnots < 0:\n",
    "            min_cnots = num_cnots\n",
    "        elif (num_cnots < min_cnots) and (min_cnots >= 0):\n",
    "            min_cnots = num_cnots\n",
    "    while 1:\n",
    "        trans_qc, num_cnots = adder()\n",
    "        if num_cnots == min_cnots:\n",
    "            print(\"\\nnumber of CNOTs in circuit without assertion: \", num_cnots)\n",
    "            num_cnots_original = num_cnots\n",
    "            transQcList.append(trans_qc)\n",
    "            break\n",
    "            \n",
    "    min_cnots = -1\n",
    "    for i in range(20):\n",
    "        trans_qc, num_cnots = adder_assertion()\n",
    "        if min_cnots < 0:\n",
    "            min_cnots = num_cnots\n",
    "        elif (num_cnots < min_cnots) and (min_cnots >= 0):\n",
    "            min_cnots = num_cnots\n",
    "    while 1:\n",
    "        trans_qc, num_cnots = adder_assertion()\n",
    "        if num_cnots == min_cnots:\n",
    "            print(\"number of CNOTs in circuit with assertion: \", num_cnots)\n",
    "            percent = abs(1 - num_cnots_original/num_cnots) * 100\n",
    "            print(\"    Percentage of the assertion circuit size in total size: \", percent, \"%\")\n",
    "            if percent > 15:\n",
    "                print(\"    Warning: assertion circuit size is comparable to circuit size, may lead to lower success rate.\")\n",
    "            transQcList.append(trans_qc)\n",
    "            break"
   ]
  },
  {
   "cell_type": "code",
   "execution_count": 9,
   "metadata": {},
   "outputs": [
    {
     "name": "stdout",
     "output_type": "stream",
     "text": [
      "\n",
      "number of CNOTs in circuit without assertion:  11\n",
      "number of CNOTs in circuit with assertion:  12\n",
      "    Percentage of the assertion circuit size in total size:  8.333333333333337 %\n"
     ]
    }
   ],
   "source": [
    "adderExperiment()"
   ]
  },
  {
   "cell_type": "code",
   "execution_count": 10,
   "metadata": {},
   "outputs": [
    {
     "name": "stdout",
     "output_type": "stream",
     "text": [
      "Job Status: job has successfully run\n"
     ]
    }
   ],
   "source": [
    "shots = 8192\n",
    "#execute the job on real device\n",
    "job = execute(transQcList, backend=device, shots=shots)\n",
    "job_monitor(job)\n",
    "res = job.result()"
   ]
  },
  {
   "cell_type": "markdown",
   "metadata": {},
   "source": [
    "Success rate of 1bit adder without assertion:"
   ]
  },
  {
   "cell_type": "code",
   "execution_count": 11,
   "metadata": {},
   "outputs": [
    {
     "name": "stdout",
     "output_type": "stream",
     "text": [
      "total_count =  8192 success_count =  4767 success_rate =  58.19091796875 %\n"
     ]
    }
   ],
   "source": [
    "calcSuccessrate(res.get_counts(0), ['10'], 0)"
   ]
  },
  {
   "cell_type": "markdown",
   "metadata": {},
   "source": [
    "Success rate of 1bit adder with assertion:"
   ]
  },
  {
   "cell_type": "code",
   "execution_count": 12,
   "metadata": {},
   "outputs": [
    {
     "name": "stdout",
     "output_type": "stream",
     "text": [
      "total_count =  6062 success_count =  4783 success_rate =  78.90135268888156 %\n"
     ]
    }
   ],
   "source": [
    "calcSuccessrate(res.get_counts(1), ['0 10'], 1)"
   ]
  }
 ],
 "metadata": {
  "kernelspec": {
   "display_name": "Python 3",
   "language": "python",
   "name": "python3"
  },
  "language_info": {
   "codemirror_mode": {
    "name": "ipython",
    "version": 3
   },
   "file_extension": ".py",
   "mimetype": "text/x-python",
   "name": "python",
   "nbconvert_exporter": "python",
   "pygments_lexer": "ipython3",
   "version": "3.7.3"
  }
 },
 "nbformat": 4,
 "nbformat_minor": 2
}
