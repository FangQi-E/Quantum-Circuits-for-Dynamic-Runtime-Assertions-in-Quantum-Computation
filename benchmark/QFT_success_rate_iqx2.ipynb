{
 "cells": [
  {
   "cell_type": "code",
   "execution_count": 1,
   "metadata": {
    "scrolled": true
   },
   "outputs": [
    {
     "data": {
      "text/plain": [
       "{'qiskit-terra': '0.10.0',\n",
       " 'qiskit-aer': '0.3.2',\n",
       " 'qiskit-ignis': '0.2.0',\n",
       " 'qiskit-ibmq-provider': '0.3.3',\n",
       " 'qiskit-aqua': '0.6.1',\n",
       " 'qiskit': '0.13.0'}"
      ]
     },
     "execution_count": 1,
     "metadata": {},
     "output_type": "execute_result"
    }
   ],
   "source": [
    "from qiskit import IBMQ\n",
    "import qiskit\n",
    "qiskit.__qiskit_version__"
   ]
  },
  {
   "cell_type": "code",
   "execution_count": 2,
   "metadata": {},
   "outputs": [
    {
     "data": {
      "text/plain": [
       "[<IBMQSimulator('ibmq_qasm_simulator') from IBMQ(hub='ibm-q', group='open', project='main')>,\n",
       " <IBMQBackend('ibmqx2') from IBMQ(hub='ibm-q', group='open', project='main')>,\n",
       " <IBMQBackend('ibmq_16_melbourne') from IBMQ(hub='ibm-q', group='open', project='main')>,\n",
       " <IBMQBackend('ibmq_vigo') from IBMQ(hub='ibm-q', group='open', project='main')>,\n",
       " <IBMQBackend('ibmq_ourense') from IBMQ(hub='ibm-q', group='open', project='main')>,\n",
       " <IBMQBackend('ibmq_london') from IBMQ(hub='ibm-q', group='open', project='main')>,\n",
       " <IBMQBackend('ibmq_burlington') from IBMQ(hub='ibm-q', group='open', project='main')>,\n",
       " <IBMQBackend('ibmq_essex') from IBMQ(hub='ibm-q', group='open', project='main')>,\n",
       " <IBMQBackend('ibmq_armonk') from IBMQ(hub='ibm-q', group='open', project='main')>]"
      ]
     },
     "execution_count": 2,
     "metadata": {},
     "output_type": "execute_result"
    }
   ],
   "source": [
    "provider = IBMQ.load_account()\n",
    "#change the provider based on your Qiskit account\n",
    "#provider = IBMQ.get_provider(hub='ibm-q-ncsu', group='nc-state', project='on-boarding')\n",
    "#if you do not have access to the twenty qubit machine, use this publically available ibmqx2 instead\n",
    "provider = IBMQ.get_provider(hub='ibm-q', group='open', project='main')\n",
    "provider.backends()"
   ]
  },
  {
   "cell_type": "code",
   "execution_count": 3,
   "metadata": {},
   "outputs": [],
   "source": [
    "from qiskit import *\n",
    "from qiskit.compiler import transpile\n",
    "from qiskit.visualization import plot_histogram\n",
    "from qiskit.tools.monitor import job_monitor, backend_monitor, backend_overview\n",
    "from qiskit.providers.aer import noise\n",
    "import math\n",
    "\n",
    "#Include our assertion function\n",
    "from qiskit.compiler.assertion import classical_assertion, superposition_assertion, entanglement_assertion, calcSuccessrate"
   ]
  },
  {
   "cell_type": "code",
   "execution_count": 4,
   "metadata": {},
   "outputs": [
    {
     "name": "stdout",
     "output_type": "stream",
     "text": [
      "ibmqx2\n",
      "======\n",
      "Configuration\n",
      "-------------\n",
      "    n_qubits: 5\n",
      "    operational: True\n",
      "    status_msg: active\n",
      "    pending_jobs: 1\n",
      "    backend_version: 2.0.2\n",
      "    basis_gates: ['u1', 'u2', 'u3', 'cx', 'id']\n",
      "    local: False\n",
      "    simulator: False\n",
      "    backend_name: ibmqx2\n",
      "    quantum_volume: 8\n",
      "    conditional: False\n",
      "    credits_required: True\n",
      "    memory: True\n",
      "    open_pulse: False\n",
      "    coupling_map: [[0, 1], [0, 2], [1, 0], [1, 2], [2, 0], [2, 1], [2, 3], [2, 4], [3, 2], [3, 4], [4, 2], [4, 3]]\n",
      "    allow_q_circuit: False\n",
      "    url: None\n",
      "    allow_q_object: True\n",
      "    description: 5 qubit device\n",
      "    online_date: 2017-01-24T05:00:00+00:00\n",
      "    max_experiments: 75\n",
      "    max_shots: 8192\n",
      "    sample_name: sparrow\n",
      "    allow_object_storage: True\n",
      "    n_registers: 1\n",
      "\n",
      "Qubits [Name / Freq / T1 / T2 / U1 err / U2 err / U3 err / Readout err]\n",
      "-----------------------------------------------------------------------\n",
      "    Q0 / 5.28627 GHz / 48.9011 µs / 47.74382 µs / 0.0 / 0.00068 / 0.00136 / 0.015\n",
      "    Q1 / 5.23787 GHz / 75.88025 µs / 53.49852 µs / 0.0 / 0.00238 / 0.00477 / 0.025\n",
      "    Q2 / 5.0303 GHz / 65.87905 µs / 65.61618 µs / 0.0 / 0.00033 / 0.00066 / 0.017\n",
      "    Q3 / 5.29532 GHz / 52.44591 µs / 33.98392 µs / 0.0 / 0.0005 / 0.00099 / 0.038\n",
      "    Q4 / 5.08449 GHz / 49.01491 µs / 19.44666 µs / 0.0 / 0.00086 / 0.00172 / 0.0295\n",
      "\n",
      "Multi-Qubit Gates [Name / Type / Gate Error]\n",
      "--------------------------------------------\n",
      "    cx0_1 / cx / 0.04135\n",
      "    cx0_2 / cx / 0.02371\n",
      "    cx1_0 / cx / 0.04135\n",
      "    cx1_2 / cx / 0.05759\n",
      "    cx2_0 / cx / 0.02371\n",
      "    cx2_1 / cx / 0.05759\n",
      "    cx2_3 / cx / 0.01403\n",
      "    cx2_4 / cx / 0.01299\n",
      "    cx3_2 / cx / 0.01403\n",
      "    cx3_4 / cx / 0.01871\n",
      "    cx4_2 / cx / 0.01299\n",
      "    cx4_3 / cx / 0.01871\n"
     ]
    },
    {
     "data": {
      "text/plain": [
       "<IBMQBackend('ibmqx2') from IBMQ(hub='ibm-q', group='open', project='main')>"
      ]
     },
     "execution_count": 4,
     "metadata": {},
     "output_type": "execute_result"
    }
   ],
   "source": [
    "#we used ibmq_20_tokyo for our experiment, however, that backend has retired. So we can use the ibmqx2 instead\n",
    "device = provider.get_backend('ibmqx2')\n",
    "backend_monitor(device)\n",
    "device"
   ]
  },
  {
   "cell_type": "code",
   "execution_count": 5,
   "metadata": {},
   "outputs": [],
   "source": [
    "transQcList = []\n",
    "\n",
    "pi = math.pi"
   ]
  },
  {
   "cell_type": "code",
   "execution_count": 6,
   "metadata": {},
   "outputs": [],
   "source": [
    "import numpy as np\n",
    "def input_state(circ, nqubits, value):\n",
    "    for j in range(nqubits):\n",
    "        circ.h(j)\n",
    "        circ.u1(-value * math.pi/float(2**(j)), j)\n",
    "def qft(circ, q, n):\n",
    "    \"\"\"n-qubit QFT on q in circ.\"\"\"\n",
    "    for j in range(n):\n",
    "        for k in range(j):\n",
    "            circ.cu1(np.pi / float(2**(j - k)), q[j], q[k])\n",
    "        circ.h(q[j])"
   ]
  },
  {
   "cell_type": "code",
   "execution_count": 7,
   "metadata": {},
   "outputs": [],
   "source": [
    "def qftCircuit_classical():\n",
    "    q = QuantumRegister(4)\n",
    "    c = ClassicalRegister(4)\n",
    "    circuit = QuantumCircuit(q,c)\n",
    "    \n",
    "    for i in range(4):\n",
    "        circuit.h(q[i])\n",
    "    \n",
    "    qft(circuit, q, 4)\n",
    "\n",
    "    for k in range(4):\n",
    "        circuit.measure(q[k],c[k])\n",
    "    \n",
    "    trans_qc = transpile(circuit, backend=device, optimization_level = 3)\n",
    "    num_cnots = trans_qc.count_ops()['cx']\n",
    "    return trans_qc, num_cnots\n",
    "   \n",
    "def qftCircuit_classical_assertion():\n",
    "    q = QuantumRegister(4)\n",
    "    c = ClassicalRegister(4)\n",
    "    circuit = QuantumCircuit(q,c)\n",
    "\n",
    "    for i in range(4):\n",
    "        circuit.h(q[i])\n",
    "\n",
    "    qft(circuit, q, 4)\n",
    "\n",
    "    qubitList = [q[3]]\n",
    "    success = classical_assertion(circuit, qubitList, 0)\n",
    "    if not success:\n",
    "        print(\"Assertion circuit error\")\n",
    "\n",
    "    for k in range(4):\n",
    "        circuit.measure(q[k],c[k])\n",
    "        \n",
    "    trans_qc = transpile(circuit, backend=device, optimization_level = 3)\n",
    "    num_cnots = trans_qc.count_ops()['cx']\n",
    "    return trans_qc, num_cnots"
   ]
  },
  {
   "cell_type": "code",
   "execution_count": 8,
   "metadata": {},
   "outputs": [],
   "source": [
    "def qftExperimentClassical():\n",
    "    #This function run the transpiler multiple times and selects the mapping with fewest SWAP gates\n",
    "    min_cnots = -1\n",
    "    for i in range(10):\n",
    "        trans_qc, num_cnots = qftCircuit_classical()\n",
    "        if min_cnots < 0:\n",
    "            min_cnots = num_cnots\n",
    "        elif (num_cnots < min_cnots) and (min_cnots >= 0):\n",
    "            min_cnots = num_cnots\n",
    "    while 1:\n",
    "        trans_qc, num_cnots = qftCircuit_classical()\n",
    "        if num_cnots == min_cnots:\n",
    "            print(\"number of CNOTs in circuit without assertion: \", num_cnots)\n",
    "            transQcList.append(trans_qc)\n",
    "            break\n",
    "            \n",
    "    min_cnots = -1\n",
    "    for i in range(20):\n",
    "        trans_qc, num_cnots = qftCircuit_classical_assertion()\n",
    "        if min_cnots < 0:\n",
    "            min_cnots = num_cnots\n",
    "        elif (num_cnots < min_cnots) and (min_cnots >= 0):\n",
    "            min_cnots = num_cnots\n",
    "    while 1:\n",
    "        trans_qc, num_cnots = qftCircuit_classical_assertion()\n",
    "        if num_cnots == min_cnots:\n",
    "            print(\"number of CNOTs in circuit with assertion: \", num_cnots)\n",
    "            transQcList.append(trans_qc)\n",
    "            break"
   ]
  },
  {
   "cell_type": "code",
   "execution_count": 9,
   "metadata": {},
   "outputs": [],
   "source": [
    "def qftCircuit_superposition():\n",
    "    q = QuantumRegister(4)\n",
    "    c = ClassicalRegister(4)\n",
    "    circuit = QuantumCircuit(q,c)\n",
    "    \n",
    "    circuit.x(q[2])\n",
    "    #swap 1 and 3\n",
    "    for j in range(4):\n",
    "        m = j\n",
    "        if j == 1:\n",
    "            m = 3\n",
    "        if j == 3:\n",
    "            m = 1\n",
    "        for k in range(j):\n",
    "            n = k\n",
    "            if k == 1:\n",
    "                n = 3\n",
    "            if k == 3:\n",
    "                n = 1\n",
    "                \n",
    "            circuit.cu1(np.pi / float(2**(j - k)), q[m], q[n])\n",
    "        circuit.h(q[m])\n",
    "\n",
    "\n",
    "    circuit.u1(-pi/4, q[0])\n",
    "    circuit.h(q[0])\n",
    "    circuit.u1(-pi/2, q[3])\n",
    "    circuit.h(q[3])\n",
    "    circuit.u1(-pi, q[2])\n",
    "    circuit.h(q[2])\n",
    "    circuit.h(q[1])\n",
    "    circuit.measure(q[0],c[0])\n",
    "    circuit.measure(q[3],c[1])\n",
    "    circuit.measure(q[2],c[2])\n",
    "    circuit.measure(q[1],c[3])\n",
    "    \n",
    "    trans_qc = transpile(circuit, backend=device, optimization_level = 3)\n",
    "    num_cnots = trans_qc.count_ops()['cx']\n",
    "    return trans_qc, num_cnots\n",
    "\n",
    "def qftCircuit_superposition_assertion():\n",
    "    q = QuantumRegister(4)\n",
    "    c = ClassicalRegister(4)\n",
    "    circuit = QuantumCircuit(q,c)\n",
    "\n",
    "    circuit.x(q[2])\n",
    "    #swap 1 and 3\n",
    "    for j in range(4):\n",
    "        m = j\n",
    "        if j == 1:\n",
    "            m = 3\n",
    "        if j == 3:\n",
    "            m = 1\n",
    "        for k in range(j):\n",
    "            n = k\n",
    "            if k == 1:\n",
    "                n = 3\n",
    "            if k == 3:\n",
    "                n = 1\n",
    "                \n",
    "            circuit.cu1(np.pi / float(2**(j - k)), q[m], q[n])\n",
    "        circuit.h(q[m])\n",
    "\n",
    "    circuit.u1(-pi/4, q[0])\n",
    "    circuit.h(q[0])\n",
    "\n",
    "    circuit.u1(-pi, q[2])\n",
    "    circuit.h(q[2])\n",
    "    circuit.h(q[1])\n",
    "    \n",
    "    #assert for q[3]\n",
    "    qubitList = [q[3]]\n",
    "    phaseDict = {q[3]:[pi/2, pi/2]}\n",
    "    success = superposition_assertion(circuit, qubitList, phaseDict, flag = 1)\n",
    "    if not success:\n",
    "        print(\"Assertion circuit error\")\n",
    "    #invert the phase so the output state is |0000>\n",
    "    circuit.u1(-pi/2, q[3])\n",
    "    circuit.h(q[3])\n",
    "    \n",
    "    circuit.measure(q[0],c[0])\n",
    "    circuit.measure(q[3],c[1])\n",
    "    circuit.measure(q[2],c[2])\n",
    "    circuit.measure(q[1],c[3])\n",
    "\n",
    "        \n",
    "    trans_qc = transpile(circuit, backend=device, optimization_level = 3)\n",
    "    num_cnots = trans_qc.count_ops()['cx']\n",
    "    return trans_qc, num_cnots"
   ]
  },
  {
   "cell_type": "code",
   "execution_count": 10,
   "metadata": {},
   "outputs": [],
   "source": [
    "def qftExperimentSuperposition():\n",
    "    #This function run the transpiler multiple times and selects the mapping with fewest SWAP gates\n",
    "    min_cnots = -1\n",
    "    for i in range(10):\n",
    "        trans_qc, num_cnots = qftCircuit_superposition()\n",
    "        if min_cnots < 0:\n",
    "            min_cnots = num_cnots\n",
    "        elif (num_cnots < min_cnots) and (min_cnots >= 0):\n",
    "            min_cnots = num_cnots\n",
    "    while 1:\n",
    "        trans_qc, num_cnots = qftCircuit_superposition()\n",
    "        if num_cnots == min_cnots:\n",
    "            print(\"number of CNOTs in circuit without assertion: \", num_cnots)\n",
    "            transQcList.append(trans_qc)\n",
    "            break\n",
    "            \n",
    "    min_cnots = -1\n",
    "    for i in range(20):\n",
    "        trans_qc, num_cnots = qftCircuit_superposition_assertion()\n",
    "        if min_cnots < 0:\n",
    "            min_cnots = num_cnots\n",
    "        elif (num_cnots < min_cnots) and (min_cnots >= 0):\n",
    "            min_cnots = num_cnots\n",
    "    while 1:\n",
    "        trans_qc, num_cnots = qftCircuit_superposition_assertion()\n",
    "        if num_cnots == min_cnots:\n",
    "            print(\"number of CNOTs in circuit with assertion: \", num_cnots)\n",
    "            transQcList.append(trans_qc)\n",
    "            break"
   ]
  },
  {
   "cell_type": "code",
   "execution_count": 11,
   "metadata": {},
   "outputs": [
    {
     "name": "stdout",
     "output_type": "stream",
     "text": [
      "number of CNOTs in circuit without assertion:  16\n",
      "number of CNOTs in circuit with assertion:  17\n",
      "number of CNOTs in circuit without assertion:  16\n",
      "number of CNOTs in circuit with assertion:  20\n"
     ]
    }
   ],
   "source": [
    "qftExperimentClassical()\n",
    "qftExperimentSuperposition()"
   ]
  },
  {
   "cell_type": "code",
   "execution_count": 12,
   "metadata": {},
   "outputs": [
    {
     "name": "stdout",
     "output_type": "stream",
     "text": [
      "Job Status: job has successfully run\n"
     ]
    }
   ],
   "source": [
    "shots = 8192\n",
    "#execute the job on real device\n",
    "job = execute(transQcList, backend=device, shots=shots)\n",
    "job_monitor(job)\n",
    "res = job.result()"
   ]
  },
  {
   "cell_type": "markdown",
   "metadata": {},
   "source": [
    "Success rate of QFT without classical assertion:"
   ]
  },
  {
   "cell_type": "code",
   "execution_count": 13,
   "metadata": {},
   "outputs": [
    {
     "name": "stdout",
     "output_type": "stream",
     "text": [
      "total_count =  8192 success_count =  2122 success_rate =  25.9033203125 %\n"
     ]
    }
   ],
   "source": [
    "calcSuccessrate(res.get_counts(0), [\"0000\"], 0)"
   ]
  },
  {
   "cell_type": "markdown",
   "metadata": {},
   "source": [
    "Success rate of QFT with classical assertion:"
   ]
  },
  {
   "cell_type": "code",
   "execution_count": 14,
   "metadata": {},
   "outputs": [
    {
     "name": "stdout",
     "output_type": "stream",
     "text": [
      "total_count =  4952 success_count =  2564 success_rate =  51.77705977382876 %\n"
     ]
    }
   ],
   "source": [
    "calcSuccessrate(res.get_counts(1), [\"0 0000\"], 1)"
   ]
  },
  {
   "cell_type": "markdown",
   "metadata": {},
   "source": [
    "Success rate of QFT without superposition assertion:"
   ]
  },
  {
   "cell_type": "code",
   "execution_count": 15,
   "metadata": {},
   "outputs": [
    {
     "name": "stdout",
     "output_type": "stream",
     "text": [
      "total_count =  8192 success_count =  1660 success_rate =  20.263671875 %\n"
     ]
    }
   ],
   "source": [
    "calcSuccessrate(res.get_counts(2), [\"0000\"], 0)"
   ]
  },
  {
   "cell_type": "markdown",
   "metadata": {},
   "source": [
    "Success rate of QFT with superposition assertion"
   ]
  },
  {
   "cell_type": "code",
   "execution_count": 16,
   "metadata": {},
   "outputs": [
    {
     "name": "stdout",
     "output_type": "stream",
     "text": [
      "total_count =  6421 success_count =  2444 success_rate =  38.06260707054976 %\n"
     ]
    }
   ],
   "source": [
    "calcSuccessrate(res.get_counts(3), [\"0 0000\"], 1)"
   ]
  },
  {
   "cell_type": "code",
   "execution_count": null,
   "metadata": {},
   "outputs": [],
   "source": []
  }
 ],
 "metadata": {
  "kernelspec": {
   "display_name": "Python 3",
   "language": "python",
   "name": "python3"
  },
  "language_info": {
   "codemirror_mode": {
    "name": "ipython",
    "version": 3
   },
   "file_extension": ".py",
   "mimetype": "text/x-python",
   "name": "python",
   "nbconvert_exporter": "python",
   "pygments_lexer": "ipython3",
   "version": "3.7.3"
  }
 },
 "nbformat": 4,
 "nbformat_minor": 2
}
