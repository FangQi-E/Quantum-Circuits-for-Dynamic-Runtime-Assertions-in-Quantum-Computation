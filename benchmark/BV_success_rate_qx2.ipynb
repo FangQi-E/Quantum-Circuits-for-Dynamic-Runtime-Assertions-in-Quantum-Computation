{
 "cells": [
  {
   "cell_type": "code",
   "execution_count": 1,
   "metadata": {
    "scrolled": true
   },
   "outputs": [
    {
     "data": {
      "text/plain": [
       "{'qiskit-terra': '0.10.0',\n",
       " 'qiskit-aer': '0.3.2',\n",
       " 'qiskit-ignis': '0.2.0',\n",
       " 'qiskit-ibmq-provider': '0.3.3',\n",
       " 'qiskit-aqua': '0.6.1',\n",
       " 'qiskit': '0.13.0'}"
      ]
     },
     "execution_count": 1,
     "metadata": {},
     "output_type": "execute_result"
    }
   ],
   "source": [
    "from qiskit import IBMQ\n",
    "import qiskit\n",
    "qiskit.__qiskit_version__"
   ]
  },
  {
   "cell_type": "code",
   "execution_count": 2,
   "metadata": {},
   "outputs": [
    {
     "data": {
      "text/plain": [
       "[<IBMQSimulator('ibmq_qasm_simulator') from IBMQ(hub='ibm-q', group='open', project='main')>,\n",
       " <IBMQBackend('ibmqx2') from IBMQ(hub='ibm-q', group='open', project='main')>,\n",
       " <IBMQBackend('ibmq_16_melbourne') from IBMQ(hub='ibm-q', group='open', project='main')>,\n",
       " <IBMQBackend('ibmq_vigo') from IBMQ(hub='ibm-q', group='open', project='main')>,\n",
       " <IBMQBackend('ibmq_ourense') from IBMQ(hub='ibm-q', group='open', project='main')>,\n",
       " <IBMQBackend('ibmq_london') from IBMQ(hub='ibm-q', group='open', project='main')>,\n",
       " <IBMQBackend('ibmq_burlington') from IBMQ(hub='ibm-q', group='open', project='main')>,\n",
       " <IBMQBackend('ibmq_essex') from IBMQ(hub='ibm-q', group='open', project='main')>]"
      ]
     },
     "execution_count": 2,
     "metadata": {},
     "output_type": "execute_result"
    }
   ],
   "source": [
    "provider = IBMQ.load_account()\n",
    "provider = IBMQ.get_provider(hub='ibm-q', group='open', project='main')\n",
    "provider.backends()"
   ]
  },
  {
   "cell_type": "code",
   "execution_count": 3,
   "metadata": {},
   "outputs": [],
   "source": [
    "from qiskit import *\n",
    "from qiskit.compiler import transpile\n",
    "from qiskit.visualization import plot_histogram\n",
    "from qiskit.tools.monitor import job_monitor, backend_monitor, backend_overview\n",
    "from qiskit.providers.aer import noise\n",
    "import math\n",
    "\n",
    "#Include our assertion function\n",
    "from qiskit.compiler.assertion import classical_assertion, superposition_assertion, entanglement_assertion, calcSuccessrate"
   ]
  },
  {
   "cell_type": "code",
   "execution_count": 4,
   "metadata": {},
   "outputs": [
    {
     "name": "stdout",
     "output_type": "stream",
     "text": [
      "ibmqx2\n",
      "======\n",
      "Configuration\n",
      "-------------\n",
      "    n_qubits: 5\n",
      "    operational: True\n",
      "    status_msg: active\n",
      "    pending_jobs: 1\n",
      "    backend_version: 2.0.1\n",
      "    basis_gates: ['u1', 'u2', 'u3', 'cx', 'id']\n",
      "    local: False\n",
      "    simulator: False\n",
      "    max_shots: 8192\n",
      "    allow_q_circuit: False\n",
      "    description: 5 qubit device\n",
      "    n_registers: 1\n",
      "    backend_name: ibmqx2\n",
      "    credits_required: True\n",
      "    memory: True\n",
      "    url: None\n",
      "    allow_object_storage: True\n",
      "    sample_name: sparrow\n",
      "    online_date: 2018-11-06T05:00:00+00:00\n",
      "    quantum_volume: 8\n",
      "    allow_q_object: True\n",
      "    max_experiments: 75\n",
      "    conditional: False\n",
      "    open_pulse: False\n",
      "    coupling_map: [[0, 1], [0, 2], [1, 0], [1, 2], [2, 0], [2, 1], [2, 3], [2, 4], [3, 2], [3, 4], [4, 2], [4, 3]]\n",
      "\n",
      "Qubits [Name / Freq / T1 / T2 / U1 err / U2 err / U3 err / Readout err]\n",
      "-----------------------------------------------------------------------\n",
      "    Q0 / 5.28626 GHz / 61.07216 µs / 61.23455 µs / 0.0 / 0.00049 / 0.00098 / 0.0225\n",
      "    Q1 / 5.23787 GHz / 52.82996 µs / 29.88099 µs / 0.0 / 0.00042 / 0.00084 / 0.0365\n",
      "    Q2 / 5.03028 GHz / 65.88949 µs / 66.87753 µs / 0.0 / 0.00036 / 0.00073 / 0.023\n",
      "    Q3 / 5.29512 GHz / 63.81802 µs / 39.27579 µs / 0.0 / 0.00064 / 0.00129 / 0.0235\n",
      "    Q4 / 5.08441 GHz / 55.78222 µs / 43.10203 µs / 0.0 / 0.00061 / 0.00123 / 0.023\n",
      "\n",
      "Multi-Qubit Gates [Name / Type / Gate Error]\n",
      "--------------------------------------------\n",
      "    cx0_1 / cx / 0.01372\n",
      "    cx0_2 / cx / 0.01495\n",
      "    cx1_0 / cx / 0.01372\n",
      "    cx1_2 / cx / 0.01387\n",
      "    cx2_0 / cx / 0.01495\n",
      "    cx2_1 / cx / 0.01387\n",
      "    cx2_3 / cx / 0.01695\n",
      "    cx2_4 / cx / 0.01663\n",
      "    cx3_2 / cx / 0.01695\n",
      "    cx3_4 / cx / 0.01748\n",
      "    cx4_2 / cx / 0.01663\n",
      "    cx4_3 / cx / 0.01748\n"
     ]
    },
    {
     "data": {
      "text/plain": [
       "<IBMQBackend('ibmqx2') from IBMQ(hub='ibm-q', group='open', project='main')>"
      ]
     },
     "execution_count": 4,
     "metadata": {},
     "output_type": "execute_result"
    }
   ],
   "source": [
    "#we used ibmq_20_tokyo for our experiment, however, that backend has retired. We use the 5-qubit machine ibmqx2 \n",
    "#as it has better connectivity than the available 20-qubit machines\n",
    "device = provider.get_backend('ibmqx2')\n",
    "backend_monitor(device)\n",
    "device"
   ]
  },
  {
   "cell_type": "code",
   "execution_count": 5,
   "metadata": {},
   "outputs": [],
   "source": [
    "pi = math.pi\n",
    "transQcList = []"
   ]
  },
  {
   "cell_type": "code",
   "execution_count": 6,
   "metadata": {},
   "outputs": [],
   "source": [
    "def BVCircuit(bvCircuit, nbits, hiddenValue, qr, cr):\n",
    "    for i in range(nbits):\n",
    "        bvCircuit.h(qr[i])\n",
    "    bvCircuit.x(qr[nbits])\n",
    "    bvCircuit.h(qr[nbits])\n",
    "    \n",
    "    # Apply the inner-product oracle\n",
    "    for j in range(nbits):\n",
    "        if (hiddenValue & (1 << j)):\n",
    "            bvCircuit.cx(qr[j], qr[nbits])\n",
    "#        else:\n",
    "#            bvCircuit.iden(qr[j])\n",
    "            \n",
    "    for i in range(nbits):\n",
    "        bvCircuit.h(qr[i])\n",
    "        \n",
    "    for i in range(nbits):\n",
    "        bvCircuit.measure(qr[i], cr[i])"
   ]
  },
  {
   "cell_type": "code",
   "execution_count": 7,
   "metadata": {},
   "outputs": [
    {
     "name": "stdout",
     "output_type": "stream",
     "text": [
      "BV2 size = 6 depth =  4 width =  7 \n",
      " OPs = OrderedDict([('u2', 2), ('measure', 2), ('u3', 1), ('cx', 1)]) subcircuits = 4\n",
      "BV2_assertion size = 14 depth =  8 width =  8 \n",
      " OPs = OrderedDict([('u2', 6), ('cx', 3), ('measure', 3), ('u3', 1), ('u1', 1)]) subcircuits = 3\n"
     ]
    }
   ],
   "source": [
    "qr = QuantumRegister(3)\n",
    "# for recording the measurement on qr\n",
    "cr = ClassicalRegister(2)\n",
    "\n",
    "circuitName = \"BV2\"\n",
    "circ = QuantumCircuit(qr, cr)\n",
    "BVCircuit(circ, 2, 2, qr, cr)\n",
    "trans_qc = transpile(circ, device)\n",
    "print(\"BV2 size =\",trans_qc.size(),\"depth = \",trans_qc.depth(), \"width = \",trans_qc.width(), \"\\n OPs =\", trans_qc.count_ops(), \"subcircuits =\",trans_qc.num_tensor_factors())\n",
    "\n",
    "\n",
    "#assertion\n",
    "qr = QuantumRegister(3)\n",
    "# for recording the measurement on qr\n",
    "cr = ClassicalRegister(2)\n",
    "\n",
    "circuitName = \"BV2_assertion\"\n",
    "circ = QuantumCircuit(qr, cr)\n",
    "BVCircuit(circ, 2, 2, qr, cr)\n",
    "qubitList = [qr[2]]\n",
    "phaseDict = {qr[2]:[pi/2, pi]}\n",
    "superposition_assertion(circ, qubitList, phaseDict, flag = 1)\n",
    "trans_qc_assert = transpile(circ, device)\n",
    "print(\"BV2_assertion size =\",trans_qc_assert.size(),\"depth = \",trans_qc_assert.depth(), \"width = \",trans_qc_assert.width(), \"\\n OPs =\", trans_qc_assert.count_ops(), \"subcircuits =\",trans_qc_assert.num_tensor_factors())\n"
   ]
  },
  {
   "cell_type": "code",
   "execution_count": 8,
   "metadata": {},
   "outputs": [],
   "source": [
    "transQcList.append(trans_qc)\n",
    "transQcList.append(trans_qc_assert)"
   ]
  },
  {
   "cell_type": "code",
   "execution_count": 12,
   "metadata": {},
   "outputs": [
    {
     "name": "stdout",
     "output_type": "stream",
     "text": [
      "BV3 size = 16 depth =  8 width =  8 \n",
      " OPs = OrderedDict([('cx', 8), ('u2', 4), ('measure', 3), ('u3', 1), ('barrier', 1)]) subcircuits = 2\n",
      "BV3_assertion size = 21 depth =  12 width =  9 \n",
      " OPs = OrderedDict([('u2', 8), ('cx', 7), ('measure', 4), ('u3', 1), ('u1', 1), ('barrier', 1)]) subcircuits = 2\n"
     ]
    }
   ],
   "source": [
    "#3bits\n",
    "qr = QuantumRegister(4)\n",
    "# for recording the measurement on qr\n",
    "cr = ClassicalRegister(3)\n",
    "\n",
    "circuitName = \"BV3\"\n",
    "circ= QuantumCircuit(qr, cr)\n",
    "BVCircuit(circ, 3, 6, qr, cr)\n",
    "trans_qc = transpile(circ, device)\n",
    "print(\"BV3 size =\",trans_qc.size(),\"depth = \",trans_qc.depth(), \"width = \",trans_qc.width(), \"\\n OPs =\", trans_qc.count_ops(), \"subcircuits =\",trans_qc.num_tensor_factors())\n",
    "\n",
    "\n",
    "#assertion\n",
    "qr = QuantumRegister(4)\n",
    "# for recording the measurement on qr\n",
    "cr = ClassicalRegister(3)\n",
    "\n",
    "circuitName = \"BV3_assertion\"\n",
    "circ = QuantumCircuit(qr, cr)\n",
    "BVCircuit(circ, 3, 6, qr, cr)\n",
    "qubitList = [qr[3]]\n",
    "phaseDict = {qr[3]:[pi/2, pi]}\n",
    "superposition_assertion(circ, qubitList, phaseDict, flag = 1)\n",
    "trans_qc_assert = transpile(circ, device)\n",
    "print(\"BV3_assertion size =\",trans_qc_assert.size(),\"depth = \",trans_qc_assert.depth(), \"width = \",trans_qc_assert.width(), \"\\n OPs =\", trans_qc_assert.count_ops(), \"subcircuits =\",trans_qc_assert.num_tensor_factors())\n"
   ]
  },
  {
   "cell_type": "code",
   "execution_count": 13,
   "metadata": {},
   "outputs": [],
   "source": [
    "transQcList.append(trans_qc)\n",
    "transQcList.append(trans_qc_assert)"
   ]
  },
  {
   "cell_type": "code",
   "execution_count": 14,
   "metadata": {},
   "outputs": [],
   "source": [
    "#BV5 with assertion requires 6 qubits, it does not fit on 5qubit machine ibmqx2\n",
    "# #4bits\n",
    "# qr = QuantumRegister(5)\n",
    "# # for recording the measurement on qr\n",
    "# cr = ClassicalRegister(4)\n",
    "\n",
    "# circuitName = \"BV4\"\n",
    "# circ = QuantumCircuit(qr, cr)\n",
    "# BVCircuit(circ, 4, 14, qr, cr)\n",
    "# trans_qc = transpile(circ, device, optimization_level = 3)\n",
    "# transQcList.append(trans_qc)\n",
    "# print(\"BV4 size =\",trans_qc.size(),\"depth = \",trans_qc.depth(), \"width = \",trans_qc.width(), \"\\n OPs =\", trans_qc.count_ops(), \"subcircuits =\",trans_qc.num_tensor_factors())\n",
    "\n",
    "\n",
    "# #assertion\n",
    "# qr = QuantumRegister(5)\n",
    "# # for recording the measurement on qr\n",
    "# cr = ClassicalRegister(4)\n",
    "\n",
    "# circuitName = \"BV4_assertion\"\n",
    "# circ = QuantumCircuit(qr, cr)\n",
    "# BVCircuit(circ, 4, 14, qr, cr)\n",
    "# qubitList = [qr[4]]\n",
    "# phaseDict = {qr[4]:[pi/2, pi]}\n",
    "# superposition_assertion(circ, qubitList, phaseDict, flag = 1)\n",
    "# trans_qc = transpile(circ, device, optimization_level = 2)\n",
    "# print(\"BV4_assertion size =\",trans_qc.size(),\"depth = \",trans_qc.depth(), \"width = \",trans_qc.width(), \"\\n OPs =\", trans_qc.count_ops(), \"subcircuits =\",trans_qc.num_tensor_factors())\n"
   ]
  },
  {
   "cell_type": "code",
   "execution_count": 15,
   "metadata": {},
   "outputs": [
    {
     "name": "stdout",
     "output_type": "stream",
     "text": [
      "Job Status: job has successfully run\n"
     ]
    }
   ],
   "source": [
    "shots = 8192\n",
    "#execute the job on real device\n",
    "job = execute(transQcList, backend=device, shots=shots)\n",
    "job_monitor(job)\n",
    "res = job.result()"
   ]
  },
  {
   "cell_type": "markdown",
   "metadata": {},
   "source": [
    "Success rate of BV2 without assertion"
   ]
  },
  {
   "cell_type": "code",
   "execution_count": 17,
   "metadata": {},
   "outputs": [
    {
     "name": "stdout",
     "output_type": "stream",
     "text": [
      "total_count =  8192 success_count =  5886 success_rate =  71.8505859375 %\n"
     ]
    }
   ],
   "source": [
    "calcSuccessrate(res.get_counts(0), [\"10\"], 0)"
   ]
  },
  {
   "cell_type": "markdown",
   "metadata": {},
   "source": [
    "Success rate of BV2 with assertion"
   ]
  },
  {
   "cell_type": "code",
   "execution_count": 19,
   "metadata": {},
   "outputs": [
    {
     "name": "stdout",
     "output_type": "stream",
     "text": [
      "total_count =  7768 success_count =  5632 success_rate =  72.50257466529351 %\n"
     ]
    }
   ],
   "source": [
    "calcSuccessrate(res.get_counts(1), [\"0 10\"], 1)"
   ]
  },
  {
   "cell_type": "markdown",
   "metadata": {},
   "source": [
    "Success rate of BV3 without assertion"
   ]
  },
  {
   "cell_type": "code",
   "execution_count": 21,
   "metadata": {},
   "outputs": [
    {
     "name": "stdout",
     "output_type": "stream",
     "text": [
      "total_count =  8192 success_count =  5942 success_rate =  72.5341796875 %\n"
     ]
    }
   ],
   "source": [
    "calcSuccessrate(res.get_counts(2), [\"110\"], 0)"
   ]
  },
  {
   "cell_type": "markdown",
   "metadata": {},
   "source": [
    "Success rate of BV3 with assertion"
   ]
  },
  {
   "cell_type": "code",
   "execution_count": 23,
   "metadata": {},
   "outputs": [
    {
     "name": "stdout",
     "output_type": "stream",
     "text": [
      "total_count =  7107 success_count =  4190 success_rate =  58.95595891374701 %\n"
     ]
    }
   ],
   "source": [
    "calcSuccessrate(res.get_counts(3), [\"0 110\"], 1)"
   ]
  },
  {
   "cell_type": "code",
   "execution_count": null,
   "metadata": {},
   "outputs": [],
   "source": []
  }
 ],
 "metadata": {
  "kernelspec": {
   "display_name": "Python 3",
   "language": "python",
   "name": "python3"
  },
  "language_info": {
   "codemirror_mode": {
    "name": "ipython",
    "version": 3
   },
   "file_extension": ".py",
   "mimetype": "text/x-python",
   "name": "python",
   "nbconvert_exporter": "python",
   "pygments_lexer": "ipython3",
   "version": "3.7.3"
  }
 },
 "nbformat": 4,
 "nbformat_minor": 2
}
