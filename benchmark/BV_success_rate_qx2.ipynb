{
 "cells": [
  {
   "cell_type": "code",
   "execution_count": 23,
   "metadata": {
    "scrolled": true
   },
   "outputs": [
    {
     "data": {
      "text/plain": [
       "{'qiskit-terra': '0.10.0',\n",
       " 'qiskit-aer': '0.3.2',\n",
       " 'qiskit-ignis': '0.2.0',\n",
       " 'qiskit-ibmq-provider': '0.3.3',\n",
       " 'qiskit-aqua': '0.6.1',\n",
       " 'qiskit': '0.13.0'}"
      ]
     },
     "execution_count": 23,
     "metadata": {},
     "output_type": "execute_result"
    }
   ],
   "source": [
    "from qiskit import IBMQ\n",
    "import qiskit\n",
    "qiskit.__qiskit_version__"
   ]
  },
  {
   "cell_type": "code",
   "execution_count": 24,
   "metadata": {},
   "outputs": [
    {
     "name": "stderr",
     "output_type": "stream",
     "text": [
      "E:\\1.NCSU\\ECE\\lab\\quantum_computing\\anaconda\\envs\\Qiskitenv\\lib\\site-packages\\qiskit\\providers\\ibmq\\ibmqfactory.py:181: UserWarning: Credentials are already in use. The existing account in the session will be replaced.\n",
      "  warnings.warn('Credentials are already in use. The existing '\n"
     ]
    },
    {
     "data": {
      "text/plain": [
       "[<IBMQSimulator('ibmq_qasm_simulator') from IBMQ(hub='ibm-q', group='open', project='main')>,\n",
       " <IBMQBackend('ibmqx2') from IBMQ(hub='ibm-q', group='open', project='main')>,\n",
       " <IBMQBackend('ibmq_16_melbourne') from IBMQ(hub='ibm-q', group='open', project='main')>,\n",
       " <IBMQBackend('ibmq_vigo') from IBMQ(hub='ibm-q', group='open', project='main')>,\n",
       " <IBMQBackend('ibmq_ourense') from IBMQ(hub='ibm-q', group='open', project='main')>,\n",
       " <IBMQBackend('ibmq_london') from IBMQ(hub='ibm-q', group='open', project='main')>,\n",
       " <IBMQBackend('ibmq_burlington') from IBMQ(hub='ibm-q', group='open', project='main')>,\n",
       " <IBMQBackend('ibmq_essex') from IBMQ(hub='ibm-q', group='open', project='main')>]"
      ]
     },
     "execution_count": 24,
     "metadata": {},
     "output_type": "execute_result"
    }
   ],
   "source": [
    "provider = IBMQ.load_account()\n",
    "provider = IBMQ.get_provider(hub='ibm-q', group='open', project='main')\n",
    "provider.backends()"
   ]
  },
  {
   "cell_type": "code",
   "execution_count": 25,
   "metadata": {},
   "outputs": [],
   "source": [
    "from qiskit import *\n",
    "from qiskit.compiler import transpile\n",
    "from qiskit.visualization import plot_histogram\n",
    "from qiskit.tools.monitor import job_monitor, backend_monitor, backend_overview\n",
    "from qiskit.providers.aer import noise\n",
    "import math\n",
    "\n",
    "#Include our assertion function\n",
    "from qiskit.compiler.assertion import classical_assertion, superposition_assertion, entanglement_assertion, calcSuccessrate"
   ]
  },
  {
   "cell_type": "code",
   "execution_count": 26,
   "metadata": {},
   "outputs": [
    {
     "name": "stdout",
     "output_type": "stream",
     "text": [
      "ibmqx2\n",
      "======\n",
      "Configuration\n",
      "-------------\n",
      "    n_qubits: 5\n",
      "    operational: True\n",
      "    status_msg: active\n",
      "    pending_jobs: 3\n",
      "    backend_version: 2.0.1\n",
      "    basis_gates: ['u1', 'u2', 'u3', 'cx', 'id']\n",
      "    local: False\n",
      "    simulator: False\n",
      "    online_date: 2018-11-06T05:00:00+00:00\n",
      "    quantum_volume: 8\n",
      "    max_experiments: 75\n",
      "    sample_name: sparrow\n",
      "    allow_q_object: True\n",
      "    memory: True\n",
      "    open_pulse: False\n",
      "    allow_q_circuit: False\n",
      "    allow_object_storage: True\n",
      "    description: 5 qubit device\n",
      "    credits_required: True\n",
      "    conditional: False\n",
      "    n_registers: 1\n",
      "    url: None\n",
      "    coupling_map: [[0, 1], [0, 2], [1, 0], [1, 2], [2, 0], [2, 1], [2, 3], [2, 4], [3, 2], [3, 4], [4, 2], [4, 3]]\n",
      "    backend_name: ibmqx2\n",
      "    max_shots: 8192\n",
      "\n",
      "Qubits [Name / Freq / T1 / T2 / U1 err / U2 err / U3 err / Readout err]\n",
      "-----------------------------------------------------------------------\n",
      "    Q0 / 5.28626 GHz / 67.59153 µs / 49.20897 µs / 0.0 / 0.00087 / 0.00174 / 0.0175\n",
      "    Q1 / 5.23787 GHz / 52.82996 µs / 29.88099 µs / 0.0 / 0.00061 / 0.00122 / 0.013\n",
      "    Q2 / 5.03029 GHz / 42.0521 µs / 49.76919 µs / 0.0 / 0.00049 / 0.00098 / 0.016\n",
      "    Q3 / 5.29512 GHz / 69.59772 µs / 32.62709 µs / 0.0 / 0.00037 / 0.00074 / 0.017\n",
      "    Q4 / 5.08431 GHz / 55.32894 µs / 36.64516 µs / 0.0 / 0.00051 / 0.00101 / 0.024\n",
      "\n",
      "Multi-Qubit Gates [Name / Type / Gate Error]\n",
      "--------------------------------------------\n",
      "    cx0_1 / cx / 0.01394\n",
      "    cx0_2 / cx / 0.01619\n",
      "    cx1_0 / cx / 0.01394\n",
      "    cx1_2 / cx / 0.01969\n",
      "    cx2_0 / cx / 0.01619\n",
      "    cx2_1 / cx / 0.01969\n",
      "    cx2_3 / cx / 0.01645\n",
      "    cx2_4 / cx / 0.01522\n",
      "    cx3_2 / cx / 0.01645\n",
      "    cx3_4 / cx / 0.01605\n",
      "    cx4_2 / cx / 0.01522\n",
      "    cx4_3 / cx / 0.01605\n"
     ]
    },
    {
     "data": {
      "text/plain": [
       "<IBMQBackend('ibmqx2') from IBMQ(hub='ibm-q', group='open', project='main')>"
      ]
     },
     "execution_count": 26,
     "metadata": {},
     "output_type": "execute_result"
    }
   ],
   "source": [
    "#we used ibmq_20_tokyo for our experiment, however, that backend has retired. We use the 5-qubit machine ibmqx2 \n",
    "#as it has better connectivity than the available 20-qubit machines\n",
    "device = provider.get_backend('ibmqx2')\n",
    "backend_monitor(device)\n",
    "device"
   ]
  },
  {
   "cell_type": "code",
   "execution_count": 27,
   "metadata": {},
   "outputs": [],
   "source": [
    "pi = math.pi\n",
    "transQcList = []"
   ]
  },
  {
   "cell_type": "code",
   "execution_count": 28,
   "metadata": {},
   "outputs": [],
   "source": [
    "def BVCircuit(bvCircuit, nbits, hiddenValue, qr, cr):\n",
    "    for i in range(nbits):\n",
    "        bvCircuit.h(qr[i])\n",
    "    bvCircuit.x(qr[nbits])\n",
    "    bvCircuit.h(qr[nbits])\n",
    "    \n",
    "    # Apply the inner-product oracle\n",
    "    for j in range(nbits):\n",
    "        if (hiddenValue & (1 << j)):\n",
    "            bvCircuit.cx(qr[j], qr[nbits])\n",
    "#        else:\n",
    "#            bvCircuit.iden(qr[j])\n",
    "            \n",
    "    for i in range(nbits):\n",
    "        bvCircuit.h(qr[i])\n",
    "        \n",
    "    for i in range(nbits):\n",
    "        bvCircuit.measure(qr[i], cr[i])"
   ]
  },
  {
   "cell_type": "code",
   "execution_count": 29,
   "metadata": {},
   "outputs": [
    {
     "name": "stdout",
     "output_type": "stream",
     "text": [
      "BV2 size = 6 depth =  4 width =  7 \n",
      " OPs = OrderedDict([('u2', 2), ('measure', 2), ('u3', 1), ('cx', 1)]) subcircuits = 4\n",
      "BV2_assertion size = 14 depth =  8 width =  8 \n",
      " OPs = OrderedDict([('u2', 6), ('cx', 3), ('measure', 3), ('u3', 1), ('u1', 1)]) subcircuits = 3\n"
     ]
    }
   ],
   "source": [
    "qr = QuantumRegister(3)\n",
    "# for recording the measurement on qr\n",
    "cr = ClassicalRegister(2)\n",
    "\n",
    "circuitName = \"BV2\"\n",
    "circ = QuantumCircuit(qr, cr)\n",
    "BVCircuit(circ, 2, 2, qr, cr)\n",
    "trans_qc = transpile(circ, device)\n",
    "print(\"BV2 size =\",trans_qc.size(),\"depth = \",trans_qc.depth(), \"width = \",trans_qc.width(), \"\\n OPs =\", trans_qc.count_ops(), \"subcircuits =\",trans_qc.num_tensor_factors())\n",
    "\n",
    "\n",
    "#assertion\n",
    "qr = QuantumRegister(3)\n",
    "# for recording the measurement on qr\n",
    "cr = ClassicalRegister(2)\n",
    "\n",
    "circuitName = \"BV2_assertion\"\n",
    "circ = QuantumCircuit(qr, cr)\n",
    "BVCircuit(circ, 2, 2, qr, cr)\n",
    "qubitList = [qr[2]]\n",
    "phaseDict = {qr[2]:[pi/2, pi]}\n",
    "superposition_assertion(circ, qubitList, phaseDict, flag = 1)\n",
    "trans_qc_assert = transpile(circ, device)\n",
    "print(\"BV2_assertion size =\",trans_qc_assert.size(),\"depth = \",trans_qc_assert.depth(), \"width = \",trans_qc_assert.width(), \"\\n OPs =\", trans_qc_assert.count_ops(), \"subcircuits =\",trans_qc_assert.num_tensor_factors())\n"
   ]
  },
  {
   "cell_type": "code",
   "execution_count": 30,
   "metadata": {},
   "outputs": [],
   "source": [
    "transQcList.append(trans_qc)\n",
    "transQcList.append(trans_qc_assert)"
   ]
  },
  {
   "cell_type": "code",
   "execution_count": 31,
   "metadata": {},
   "outputs": [
    {
     "name": "stdout",
     "output_type": "stream",
     "text": [
      "BV3 size = 16 depth =  8 width =  8 \n",
      " OPs = OrderedDict([('cx', 8), ('u2', 4), ('measure', 3), ('u3', 1), ('barrier', 1)]) subcircuits = 2\n",
      "BV3_assertion size = 24 depth =  15 width =  9 \n",
      " OPs = OrderedDict([('cx', 10), ('u2', 8), ('measure', 4), ('u3', 1), ('u1', 1), ('barrier', 1)]) subcircuits = 2\n"
     ]
    }
   ],
   "source": [
    "#3bits\n",
    "qr = QuantumRegister(4)\n",
    "# for recording the measurement on qr\n",
    "cr = ClassicalRegister(3)\n",
    "\n",
    "circuitName = \"BV3\"\n",
    "circ= QuantumCircuit(qr, cr)\n",
    "BVCircuit(circ, 3, 6, qr, cr)\n",
    "trans_qc = transpile(circ, device)\n",
    "print(\"BV3 size =\",trans_qc.size(),\"depth = \",trans_qc.depth(), \"width = \",trans_qc.width(), \"\\n OPs =\", trans_qc.count_ops(), \"subcircuits =\",trans_qc.num_tensor_factors())\n",
    "\n",
    "\n",
    "#assertion\n",
    "qr = QuantumRegister(4)\n",
    "# for recording the measurement on qr\n",
    "cr = ClassicalRegister(3)\n",
    "\n",
    "circuitName = \"BV3_assertion\"\n",
    "circ = QuantumCircuit(qr, cr)\n",
    "BVCircuit(circ, 3, 6, qr, cr)\n",
    "qubitList = [qr[3]]\n",
    "phaseDict = {qr[3]:[pi/2, pi]}\n",
    "superposition_assertion(circ, qubitList, phaseDict, flag = 1)\n",
    "trans_qc_assert = transpile(circ, device)\n",
    "print(\"BV3_assertion size =\",trans_qc_assert.size(),\"depth = \",trans_qc_assert.depth(), \"width = \",trans_qc_assert.width(), \"\\n OPs =\", trans_qc_assert.count_ops(), \"subcircuits =\",trans_qc_assert.num_tensor_factors())\n"
   ]
  },
  {
   "cell_type": "code",
   "execution_count": 32,
   "metadata": {},
   "outputs": [],
   "source": [
    "transQcList.append(trans_qc)\n",
    "transQcList.append(trans_qc_assert)"
   ]
  },
  {
   "cell_type": "code",
   "execution_count": 33,
   "metadata": {},
   "outputs": [],
   "source": [
    "#BV5 with assertion requires 6 qubits, it does not fit on 5qubit machine ibmqx2\n",
    "# #4bits\n",
    "# qr = QuantumRegister(5)\n",
    "# # for recording the measurement on qr\n",
    "# cr = ClassicalRegister(4)\n",
    "\n",
    "# circuitName = \"BV4\"\n",
    "# circ = QuantumCircuit(qr, cr)\n",
    "# BVCircuit(circ, 4, 14, qr, cr)\n",
    "# trans_qc = transpile(circ, device, optimization_level = 3)\n",
    "# transQcList.append(trans_qc)\n",
    "# print(\"BV4 size =\",trans_qc.size(),\"depth = \",trans_qc.depth(), \"width = \",trans_qc.width(), \"\\n OPs =\", trans_qc.count_ops(), \"subcircuits =\",trans_qc.num_tensor_factors())\n",
    "\n",
    "\n",
    "# #assertion\n",
    "# qr = QuantumRegister(5)\n",
    "# # for recording the measurement on qr\n",
    "# cr = ClassicalRegister(4)\n",
    "\n",
    "# circuitName = \"BV4_assertion\"\n",
    "# circ = QuantumCircuit(qr, cr)\n",
    "# BVCircuit(circ, 4, 14, qr, cr)\n",
    "# qubitList = [qr[4]]\n",
    "# phaseDict = {qr[4]:[pi/2, pi]}\n",
    "# superposition_assertion(circ, qubitList, phaseDict, flag = 1)\n",
    "# trans_qc = transpile(circ, device, optimization_level = 2)\n",
    "# print(\"BV4_assertion size =\",trans_qc.size(),\"depth = \",trans_qc.depth(), \"width = \",trans_qc.width(), \"\\n OPs =\", trans_qc.count_ops(), \"subcircuits =\",trans_qc.num_tensor_factors())\n"
   ]
  },
  {
   "cell_type": "code",
   "execution_count": 35,
   "metadata": {},
   "outputs": [
    {
     "name": "stdout",
     "output_type": "stream",
     "text": [
      "\r",
      "Job Status: job is being initialized"
     ]
    },
    {
     "ename": "JobError",
     "evalue": "'403 Client Error: Forbidden for url: https://api-qcon.quantum-computing.ibm.com/api/Network/ibm-q/Groups/open/Projects/main/Jobs?access_token=.... Not enough credits to run job., Error code: 3458.'",
     "output_type": "error",
     "traceback": [
      "\u001b[1;31m---------------------------------------------------------------------------\u001b[0m",
      "\u001b[1;31mJobError\u001b[0m                                  Traceback (most recent call last)",
      "\u001b[1;32m<ipython-input-35-2f277e6a2a79>\u001b[0m in \u001b[0;36m<module>\u001b[1;34m\u001b[0m\n\u001b[0;32m      2\u001b[0m \u001b[1;31m#execute the job on real device\u001b[0m\u001b[1;33m\u001b[0m\u001b[1;33m\u001b[0m\u001b[1;33m\u001b[0m\u001b[0m\n\u001b[0;32m      3\u001b[0m \u001b[0mjob\u001b[0m \u001b[1;33m=\u001b[0m \u001b[0mexecute\u001b[0m\u001b[1;33m(\u001b[0m\u001b[0mtransQcList\u001b[0m\u001b[1;33m,\u001b[0m \u001b[0mbackend\u001b[0m\u001b[1;33m=\u001b[0m\u001b[0mdevice\u001b[0m\u001b[1;33m,\u001b[0m \u001b[0mshots\u001b[0m\u001b[1;33m=\u001b[0m\u001b[0mshots\u001b[0m\u001b[1;33m)\u001b[0m\u001b[1;33m\u001b[0m\u001b[1;33m\u001b[0m\u001b[0m\n\u001b[1;32m----> 4\u001b[1;33m \u001b[0mjob_monitor\u001b[0m\u001b[1;33m(\u001b[0m\u001b[0mjob\u001b[0m\u001b[1;33m)\u001b[0m\u001b[1;33m\u001b[0m\u001b[1;33m\u001b[0m\u001b[0m\n\u001b[0m\u001b[0;32m      5\u001b[0m \u001b[0mres\u001b[0m \u001b[1;33m=\u001b[0m \u001b[0mjob\u001b[0m\u001b[1;33m.\u001b[0m\u001b[0mresult\u001b[0m\u001b[1;33m(\u001b[0m\u001b[1;33m)\u001b[0m\u001b[1;33m\u001b[0m\u001b[1;33m\u001b[0m\u001b[0m\n",
      "\u001b[1;32mE:\\1.NCSU\\ECE\\lab\\quantum_computing\\anaconda\\envs\\Qiskitenv\\lib\\site-packages\\qiskit\\tools\\monitor\\job_monitor.py\u001b[0m in \u001b[0;36mjob_monitor\u001b[1;34m(job, interval, quiet, output)\u001b[0m\n\u001b[0;32m     82\u001b[0m \u001b[1;33m\u001b[0m\u001b[0m\n\u001b[0;32m     83\u001b[0m     _text_checker(job, interval, _interval_set,\n\u001b[1;32m---> 84\u001b[1;33m                   quiet=quiet, output=output)\n\u001b[0m",
      "\u001b[1;32mE:\\1.NCSU\\ECE\\lab\\quantum_computing\\anaconda\\envs\\Qiskitenv\\lib\\site-packages\\qiskit\\tools\\monitor\\job_monitor.py\u001b[0m in \u001b[0;36m_text_checker\u001b[1;34m(job, interval, _interval_set, quiet, output)\u001b[0m\n\u001b[0;32m     41\u001b[0m     \u001b[1;32mwhile\u001b[0m \u001b[0mstatus\u001b[0m\u001b[1;33m.\u001b[0m\u001b[0mname\u001b[0m \u001b[1;32mnot\u001b[0m \u001b[1;32min\u001b[0m \u001b[1;33m[\u001b[0m\u001b[1;34m'DONE'\u001b[0m\u001b[1;33m,\u001b[0m \u001b[1;34m'CANCELLED'\u001b[0m\u001b[1;33m,\u001b[0m \u001b[1;34m'ERROR'\u001b[0m\u001b[1;33m]\u001b[0m\u001b[1;33m:\u001b[0m\u001b[1;33m\u001b[0m\u001b[1;33m\u001b[0m\u001b[0m\n\u001b[0;32m     42\u001b[0m         \u001b[0mtime\u001b[0m\u001b[1;33m.\u001b[0m\u001b[0msleep\u001b[0m\u001b[1;33m(\u001b[0m\u001b[0minterval\u001b[0m\u001b[1;33m)\u001b[0m\u001b[1;33m\u001b[0m\u001b[1;33m\u001b[0m\u001b[0m\n\u001b[1;32m---> 43\u001b[1;33m         \u001b[0mstatus\u001b[0m \u001b[1;33m=\u001b[0m \u001b[0mjob\u001b[0m\u001b[1;33m.\u001b[0m\u001b[0mstatus\u001b[0m\u001b[1;33m(\u001b[0m\u001b[1;33m)\u001b[0m\u001b[1;33m\u001b[0m\u001b[1;33m\u001b[0m\u001b[0m\n\u001b[0m\u001b[0;32m     44\u001b[0m         \u001b[0mmsg\u001b[0m \u001b[1;33m=\u001b[0m \u001b[0mstatus\u001b[0m\u001b[1;33m.\u001b[0m\u001b[0mvalue\u001b[0m\u001b[1;33m\u001b[0m\u001b[1;33m\u001b[0m\u001b[0m\n\u001b[0;32m     45\u001b[0m \u001b[1;33m\u001b[0m\u001b[0m\n",
      "\u001b[1;32mE:\\1.NCSU\\ECE\\lab\\quantum_computing\\anaconda\\envs\\Qiskitenv\\lib\\site-packages\\qiskit\\providers\\ibmq\\job\\ibmqjob.py\u001b[0m in \u001b[0;36mstatus\u001b[1;34m(self)\u001b[0m\n\u001b[0;32m    303\u001b[0m         \u001b[1;31m# Implies self._job_id is None\u001b[0m\u001b[1;33m\u001b[0m\u001b[1;33m\u001b[0m\u001b[1;33m\u001b[0m\u001b[0m\n\u001b[0;32m    304\u001b[0m         \u001b[1;32mif\u001b[0m \u001b[0mself\u001b[0m\u001b[1;33m.\u001b[0m\u001b[0m_future_captured_exception\u001b[0m \u001b[1;32mis\u001b[0m \u001b[1;32mnot\u001b[0m \u001b[1;32mNone\u001b[0m\u001b[1;33m:\u001b[0m\u001b[1;33m\u001b[0m\u001b[1;33m\u001b[0m\u001b[0m\n\u001b[1;32m--> 305\u001b[1;33m             \u001b[1;32mraise\u001b[0m \u001b[0mJobError\u001b[0m\u001b[1;33m(\u001b[0m\u001b[0mstr\u001b[0m\u001b[1;33m(\u001b[0m\u001b[0mself\u001b[0m\u001b[1;33m.\u001b[0m\u001b[0m_future_captured_exception\u001b[0m\u001b[1;33m)\u001b[0m\u001b[1;33m)\u001b[0m\u001b[1;33m\u001b[0m\u001b[1;33m\u001b[0m\u001b[0m\n\u001b[0m\u001b[0;32m    306\u001b[0m \u001b[1;33m\u001b[0m\u001b[0m\n\u001b[0;32m    307\u001b[0m         \u001b[1;32mif\u001b[0m \u001b[0mself\u001b[0m\u001b[1;33m.\u001b[0m\u001b[0m_job_id\u001b[0m \u001b[1;32mis\u001b[0m \u001b[1;32mNone\u001b[0m \u001b[1;32mor\u001b[0m \u001b[0mself\u001b[0m\u001b[1;33m.\u001b[0m\u001b[0m_status\u001b[0m \u001b[1;32min\u001b[0m \u001b[0mJOB_FINAL_STATES\u001b[0m\u001b[1;33m:\u001b[0m\u001b[1;33m\u001b[0m\u001b[1;33m\u001b[0m\u001b[0m\n",
      "\u001b[1;31mJobError\u001b[0m: '403 Client Error: Forbidden for url: https://api-qcon.quantum-computing.ibm.com/api/Network/ibm-q/Groups/open/Projects/main/Jobs?access_token=.... Not enough credits to run job., Error code: 3458.'"
     ]
    }
   ],
   "source": [
    "shots = 8192\n",
    "#execute the job on real device\n",
    "job = execute(transQcList, backend=device, shots=shots)\n",
    "job_monitor(job)\n",
    "res = job.result()"
   ]
  },
  {
   "cell_type": "code",
   "execution_count": null,
   "metadata": {},
   "outputs": [],
   "source": [
    "plot_histogram([res.get_counts(0)])"
   ]
  },
  {
   "cell_type": "markdown",
   "metadata": {},
   "source": [
    "Success rate of BV2 without assertion"
   ]
  },
  {
   "cell_type": "code",
   "execution_count": null,
   "metadata": {},
   "outputs": [],
   "source": [
    "calcSuccessrate(res.get_counts(0), \"10\", 0)"
   ]
  },
  {
   "cell_type": "code",
   "execution_count": null,
   "metadata": {},
   "outputs": [],
   "source": [
    "plot_histogram([res.get_counts(1)])"
   ]
  },
  {
   "cell_type": "markdown",
   "metadata": {},
   "source": [
    "Success rate of BV2 with assertion"
   ]
  },
  {
   "cell_type": "code",
   "execution_count": null,
   "metadata": {},
   "outputs": [],
   "source": [
    "calcSuccessrate(res.get_counts(1), \"0 10\", 1)"
   ]
  },
  {
   "cell_type": "code",
   "execution_count": null,
   "metadata": {},
   "outputs": [],
   "source": [
    "plot_histogram([res.get_counts(2)])"
   ]
  },
  {
   "cell_type": "markdown",
   "metadata": {},
   "source": [
    "Success rate of BV3 without assertion"
   ]
  },
  {
   "cell_type": "code",
   "execution_count": null,
   "metadata": {},
   "outputs": [],
   "source": [
    "calcSuccessrate(res.get_counts(2), \"110\", 0)"
   ]
  },
  {
   "cell_type": "code",
   "execution_count": null,
   "metadata": {},
   "outputs": [],
   "source": [
    "plot_histogram([res.get_counts(3)])"
   ]
  },
  {
   "cell_type": "markdown",
   "metadata": {},
   "source": [
    "Success rate of BV3 with assertion"
   ]
  },
  {
   "cell_type": "code",
   "execution_count": null,
   "metadata": {},
   "outputs": [],
   "source": [
    "calcSuccessrate(res.get_counts(3), \"0 110\", 1)"
   ]
  },
  {
   "cell_type": "code",
   "execution_count": null,
   "metadata": {},
   "outputs": [],
   "source": []
  }
 ],
 "metadata": {
  "kernelspec": {
   "display_name": "Python 3",
   "language": "python",
   "name": "python3"
  },
  "language_info": {
   "codemirror_mode": {
    "name": "ipython",
    "version": 3
   },
   "file_extension": ".py",
   "mimetype": "text/x-python",
   "name": "python",
   "nbconvert_exporter": "python",
   "pygments_lexer": "ipython3",
   "version": "3.7.3"
  }
 },
 "nbformat": 4,
 "nbformat_minor": 2
}
