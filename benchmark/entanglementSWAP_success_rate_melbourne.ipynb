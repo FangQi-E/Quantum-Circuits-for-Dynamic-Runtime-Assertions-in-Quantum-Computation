{
 "cells": [
  {
   "cell_type": "code",
   "execution_count": 1,
   "metadata": {
    "scrolled": true
   },
   "outputs": [
    {
     "data": {
      "text/plain": [
       "{'qiskit-terra': '0.10.0',\n",
       " 'qiskit-aer': '0.3.2',\n",
       " 'qiskit-ignis': '0.2.0',\n",
       " 'qiskit-ibmq-provider': '0.3.3',\n",
       " 'qiskit-aqua': '0.6.1',\n",
       " 'qiskit': '0.13.0'}"
      ]
     },
     "execution_count": 1,
     "metadata": {},
     "output_type": "execute_result"
    }
   ],
   "source": [
    "from qiskit import IBMQ\n",
    "import qiskit\n",
    "qiskit.__qiskit_version__"
   ]
  },
  {
   "cell_type": "code",
   "execution_count": 2,
   "metadata": {},
   "outputs": [
    {
     "data": {
      "text/plain": [
       "[<IBMQSimulator('ibmq_qasm_simulator') from IBMQ(hub='ibm-q', group='open', project='main')>,\n",
       " <IBMQBackend('ibmqx2') from IBMQ(hub='ibm-q', group='open', project='main')>,\n",
       " <IBMQBackend('ibmq_16_melbourne') from IBMQ(hub='ibm-q', group='open', project='main')>,\n",
       " <IBMQBackend('ibmq_vigo') from IBMQ(hub='ibm-q', group='open', project='main')>,\n",
       " <IBMQBackend('ibmq_ourense') from IBMQ(hub='ibm-q', group='open', project='main')>,\n",
       " <IBMQBackend('ibmq_london') from IBMQ(hub='ibm-q', group='open', project='main')>,\n",
       " <IBMQBackend('ibmq_burlington') from IBMQ(hub='ibm-q', group='open', project='main')>,\n",
       " <IBMQBackend('ibmq_essex') from IBMQ(hub='ibm-q', group='open', project='main')>,\n",
       " <IBMQBackend('ibmq_armonk') from IBMQ(hub='ibm-q', group='open', project='main')>]"
      ]
     },
     "execution_count": 2,
     "metadata": {},
     "output_type": "execute_result"
    }
   ],
   "source": [
    "provider = IBMQ.load_account()\n",
    "#change the provider based on your Qiskit account\n",
    "#provider = IBMQ.get_provider(hub='ibm-q-ncsu', group='nc-state', project='on-boarding')\n",
    "#if you do not have access to the twenty qubit machine, use this publically available 15qubit 'ibmq_16_melbourne' machine instead\n",
    "provider = IBMQ.get_provider(hub='ibm-q', group='open', project='main')\n",
    "provider.backends()"
   ]
  },
  {
   "cell_type": "code",
   "execution_count": 3,
   "metadata": {},
   "outputs": [],
   "source": [
    "from qiskit import *\n",
    "from qiskit.compiler import transpile\n",
    "from qiskit.visualization import plot_histogram\n",
    "from qiskit.tools.monitor import job_monitor, backend_monitor, backend_overview\n",
    "from qiskit.providers.aer import noise\n",
    "import math\n",
    "\n",
    "#Include our assertion function\n",
    "from qiskit.compiler.assertion import classical_assertion, superposition_assertion, entanglement_assertion, calcSuccessrate"
   ]
  },
  {
   "cell_type": "code",
   "execution_count": 4,
   "metadata": {},
   "outputs": [
    {
     "name": "stdout",
     "output_type": "stream",
     "text": [
      "ibmq_16_melbourne\n",
      "=================\n",
      "Configuration\n",
      "-------------\n",
      "    n_qubits: 15\n",
      "    operational: True\n",
      "    status_msg: active\n",
      "    pending_jobs: 5\n",
      "    backend_version: 2.0.0\n",
      "    basis_gates: ['id', 'u1', 'u2', 'u3', 'cx']\n",
      "    local: False\n",
      "    simulator: False\n",
      "    conditional: False\n",
      "    url: None\n",
      "    max_shots: 8192\n",
      "    allow_q_circuit: False\n",
      "    online_date: 2018-11-06T05:00:00+00:00\n",
      "    allow_object_storage: True\n",
      "    memory: True\n",
      "    max_experiments: 75\n",
      "    open_pulse: False\n",
      "    coupling_map: [[0, 1], [0, 14], [1, 0], [1, 2], [1, 13], [2, 1], [2, 3], [2, 12], [3, 2], [3, 4], [3, 11], [4, 3], [4, 5], [4, 10], [5, 4], [5, 6], [5, 9], [6, 5], [6, 8], [7, 8], [8, 6], [8, 7], [8, 9], [9, 5], [9, 8], [9, 10], [10, 4], [10, 9], [10, 11], [11, 3], [11, 10], [11, 12], [12, 2], [12, 11], [12, 13], [13, 1], [13, 12], [13, 14], [14, 0], [14, 13]]\n",
      "    quantum_volume: None\n",
      "    n_registers: 1\n",
      "    backend_name: ibmq_16_melbourne\n",
      "    credits_required: True\n",
      "    allow_q_object: True\n",
      "    description: 15 qubit device\n",
      "    sample_name: albatross\n",
      "\n",
      "Qubits [Name / Freq / T1 / T2 / U1 err / U2 err / U3 err / Readout err]\n",
      "-----------------------------------------------------------------------\n",
      "    Q0 / 5.1001 GHz / 65.44582 µs / 19.25778 µs / 0.0 / 0.00058 / 0.00116 / 0.017\n",
      "    Q1 / 5.23849 GHz / 66.63379 µs / 62.9457 µs / 0.0 / 0.00119 / 0.00237 / 0.0325\n",
      "    Q2 / 5.03278 GHz / 63.44754 µs / 97.61203 µs / 0.0 / 0.00075 / 0.0015 / 0.0075\n",
      "    Q3 / 4.89608 GHz / 79.0904 µs / 38.6014 µs / 0.0 / 0.00045 / 0.00089 / 0.1285\n",
      "    Q4 / 5.02714 GHz / 76.02408 µs / 32.6867 µs / 0.0 / 0.0012 / 0.0024 / 0.0205\n",
      "    Q5 / 5.06719 GHz / 19.43592 µs / 56.24849 µs / 0.0 / 0.0018 / 0.00359 / 0.088\n",
      "    Q6 / 4.92376 GHz / 67.63837 µs / 56.58955 µs / 0.0 / 0.00123 / 0.00245 / 0.0285\n",
      "    Q7 / 4.97433 GHz / 52.20805 µs / 77.02094 µs / 0.0 / 0.00114 / 0.00228 / 0.1885\n",
      "    Q8 / 4.73797 GHz / 87.69044 µs / 131.44277 µs / 0.0 / 0.00077 / 0.00154 / 0.0805\n",
      "    Q9 / 4.96382 GHz / 44.04689 µs / 93.15821 µs / 0.0 / 0.00143 / 0.00286 / 0.014\n",
      "    Q10 / 4.94512 GHz / 58.13129 µs / 49.74166 µs / 0.0 / 0.00189 / 0.00378 / 0.045\n",
      "    Q11 / 5.00516 GHz / 36.35983 µs / 93.29572 µs / 0.0 / 0.00056 / 0.00112 / 0.076\n",
      "    Q12 / 4.75958 GHz / 8.12377 µs / 10.91818 µs / 0.0 / 0.00342 / 0.00685 / 0.2095\n",
      "    Q13 / 4.96866 GHz / 28.41925 µs / 50.35932 µs / 0.0 / 0.00161 / 0.00323 / 0.096\n",
      "    Q14 / 5.00165 GHz / 44.227 µs / 51.45347 µs / 0.0 / 0.00097 / 0.00195 / 0.0675\n",
      "\n",
      "Multi-Qubit Gates [Name / Type / Gate Error]\n",
      "--------------------------------------------\n",
      "    cx0_1 / cx / 0.01936\n",
      "    cx0_14 / cx / 0.04647\n",
      "    cx1_0 / cx / 0.01936\n",
      "    cx1_2 / cx / 0.01024\n",
      "    cx1_13 / cx / 0.07137\n",
      "    cx2_1 / cx / 0.01024\n",
      "    cx2_3 / cx / 0.02061\n",
      "    cx2_12 / cx / 0.03985\n",
      "    cx3_2 / cx / 0.02061\n",
      "    cx3_4 / cx / 0.01871\n",
      "    cx3_11 / cx / 0.03599\n",
      "    cx4_3 / cx / 0.01871\n",
      "    cx4_5 / cx / 0.02407\n",
      "    cx4_10 / cx / 0.03929\n",
      "    cx5_4 / cx / 0.02407\n",
      "    cx5_6 / cx / 0.0349\n",
      "    cx5_9 / cx / 0.03113\n",
      "    cx6_5 / cx / 0.0349\n",
      "    cx6_8 / cx / 0.02746\n",
      "    cx7_8 / cx / 0.02306\n",
      "    cx8_6 / cx / 0.02746\n",
      "    cx8_7 / cx / 0.02306\n",
      "    cx8_9 / cx / 0.02744\n",
      "    cx9_5 / cx / 0.03113\n",
      "    cx9_8 / cx / 0.02744\n",
      "    cx9_10 / cx / 0.03884\n",
      "    cx10_4 / cx / 0.03929\n",
      "    cx10_9 / cx / 0.03884\n",
      "    cx10_11 / cx / 0.04034\n",
      "    cx11_3 / cx / 0.03599\n",
      "    cx11_10 / cx / 0.04034\n",
      "    cx11_12 / cx / 0.03838\n",
      "    cx12_2 / cx / 0.03985\n",
      "    cx12_11 / cx / 0.03838\n",
      "    cx12_13 / cx / 0.07398\n",
      "    cx13_1 / cx / 0.07137\n",
      "    cx13_12 / cx / 0.07398\n",
      "    cx13_14 / cx / 0.03733\n",
      "    cx14_0 / cx / 0.04647\n",
      "    cx14_13 / cx / 0.03733\n"
     ]
    },
    {
     "data": {
      "text/plain": [
       "<IBMQBackend('ibmq_16_melbourne') from IBMQ(hub='ibm-q', group='open', project='main')>"
      ]
     },
     "execution_count": 4,
     "metadata": {},
     "output_type": "execute_result"
    }
   ],
   "source": [
    "#we used ibmq_20_tokyo for our experiment, however, that backend has retired. So we can use the 'ibmq_16_melbourne' instead\n",
    "device = provider.get_backend('ibmq_16_melbourne')\n",
    "backend_monitor(device)\n",
    "device"
   ]
  },
  {
   "cell_type": "code",
   "execution_count": 5,
   "metadata": {},
   "outputs": [],
   "source": [
    "transQcList = []\n",
    "\n",
    "pi = math.pi"
   ]
  },
  {
   "cell_type": "code",
   "execution_count": 6,
   "metadata": {},
   "outputs": [],
   "source": [
    "def entangleSWAP():\n",
    "    q = QuantumRegister(5)\n",
    "    c = ClassicalRegister(4)\n",
    "    circuit = QuantumCircuit(q,c)\n",
    "    circuit.h(q[1])\n",
    "    circuit.cx(q[1],q[0])\n",
    "    circuit.h(q[3])\n",
    "    circuit.cx(q[3],q[2])\n",
    "\n",
    "    circuit.cx(q[2],q[1])\n",
    "    circuit.h(q[2])\n",
    "    circuit.h(q[1])\n",
    "    circuit.cx(q[2],q[1])\n",
    "    circuit.h(q[2])\n",
    "    circuit.h(q[1])\n",
    "\n",
    "    circuit.cx(q[3],q[2])\n",
    "    circuit.h(q[3])\n",
    "    circuit.h(q[2])\n",
    "    circuit.cx(q[3],q[2])\n",
    "    circuit.h(q[3])\n",
    "    circuit.h(q[2])\n",
    "\n",
    "    circuit.cx(q[3],q[2])\n",
    "    circuit.h(q[2])\n",
    "\n",
    "    circuit.h(q[0])\n",
    "    circuit.cx(q[2],q[0])\n",
    "    circuit.h(q[0])\n",
    "\n",
    "    circuit.h(q[2])\n",
    "    circuit.cx(q[3],q[2])\n",
    "    circuit.h(q[3])\n",
    "    circuit.h(q[2])\n",
    "    circuit.cx(q[3],q[2])\n",
    "    circuit.h(q[3])\n",
    "    circuit.h(q[2])\n",
    "    circuit.cx(q[3],q[2])\n",
    "    for i in range(4):\n",
    "        circuit.measure(q[i],c[i])\n",
    "\n",
    "    trans_qc = transpile(circuit, backend=device, optimization_level = 3)\n",
    "    num_cnots = trans_qc.count_ops()['cx']\n",
    "    return trans_qc, num_cnots\n"
   ]
  },
  {
   "cell_type": "code",
   "execution_count": 7,
   "metadata": {},
   "outputs": [],
   "source": [
    "def entangleSWAP_init_assertion():\n",
    "    q = QuantumRegister(5)\n",
    "    c = ClassicalRegister(4)\n",
    "    circuit = QuantumCircuit(q,c)\n",
    "    circuit.h(q[1])\n",
    "    circuit.cx(q[1],q[0])\n",
    "    circuit.h(q[3])\n",
    "    circuit.cx(q[3],q[2])\n",
    "\n",
    "    #assertion:\n",
    "    qubitList = [q[2], q[3]]\n",
    "    success = entanglement_assertion(circuit, qubitList, flag = 0)\n",
    "\n",
    "    circuit.cx(q[2],q[1])\n",
    "    circuit.h(q[2])\n",
    "    circuit.h(q[1])\n",
    "    circuit.cx(q[2],q[1])\n",
    "    circuit.h(q[2])\n",
    "    circuit.h(q[1])\n",
    "\n",
    "    circuit.cx(q[3],q[2])\n",
    "    circuit.h(q[3])\n",
    "    circuit.h(q[2])\n",
    "    circuit.cx(q[3],q[2])\n",
    "    circuit.h(q[3])\n",
    "    circuit.h(q[2])\n",
    "\n",
    "    circuit.cx(q[3],q[2])\n",
    "    circuit.h(q[2])\n",
    "\n",
    "    circuit.h(q[0])\n",
    "    circuit.cx(q[2],q[0])\n",
    "    circuit.h(q[0])\n",
    "\n",
    "    circuit.h(q[2])\n",
    "    circuit.cx(q[3],q[2])\n",
    "    circuit.h(q[3])\n",
    "    circuit.h(q[2])\n",
    "    circuit.cx(q[3],q[2])\n",
    "    circuit.h(q[3])\n",
    "    circuit.h(q[2])\n",
    "    circuit.cx(q[3],q[2])\n",
    "\n",
    "    for i in range(4):\n",
    "        circuit.measure(q[i],c[i])\n",
    "\n",
    "    trans_qc = transpile(circuit, backend=device, optimization_level = 3)\n",
    "    num_cnots = trans_qc.count_ops()['cx']\n",
    "    return trans_qc, num_cnots\n"
   ]
  },
  {
   "cell_type": "code",
   "execution_count": 8,
   "metadata": {},
   "outputs": [],
   "source": [
    "def entangleSWAP_output_assertion():\n",
    "    q = QuantumRegister(5)\n",
    "    c = ClassicalRegister(4)\n",
    "    circuit = QuantumCircuit(q,c)\n",
    "    circuit.h(q[1])\n",
    "    circuit.cx(q[1],q[0])\n",
    "    circuit.h(q[3])\n",
    "    circuit.cx(q[3],q[2])\n",
    "\n",
    "\n",
    "    circuit.cx(q[2],q[1])\n",
    "    circuit.h(q[2])\n",
    "    circuit.h(q[1])\n",
    "    circuit.cx(q[2],q[1])\n",
    "    circuit.h(q[2])\n",
    "    circuit.h(q[1])\n",
    "\n",
    "    circuit.cx(q[3],q[2])\n",
    "    circuit.h(q[3])\n",
    "    circuit.h(q[2])\n",
    "    circuit.cx(q[3],q[2])\n",
    "    circuit.h(q[3])\n",
    "    circuit.h(q[2])\n",
    "\n",
    "    circuit.cx(q[3],q[2])\n",
    "    circuit.h(q[2])\n",
    "\n",
    "    circuit.h(q[0])\n",
    "    circuit.cx(q[2],q[0])\n",
    "    circuit.h(q[0])\n",
    "\n",
    "    circuit.h(q[2])\n",
    "    circuit.cx(q[3],q[2])\n",
    "    circuit.h(q[3])\n",
    "    circuit.h(q[2])\n",
    "    circuit.cx(q[3],q[2])\n",
    "    circuit.h(q[3])\n",
    "    circuit.h(q[2])\n",
    "    circuit.cx(q[3],q[2])\n",
    "\n",
    "    #assertion:\n",
    "    qubitList = [q[0], q[2]]\n",
    "    success = entanglement_assertion(circuit, qubitList, flag = 0)\n",
    "\n",
    "    for i in range(4):\n",
    "        circuit.measure(q[i],c[i])\n",
    "\n",
    "    trans_qc = transpile(circuit, backend=device, optimization_level = 3)\n",
    "    num_cnots = trans_qc.count_ops()['cx']\n",
    "    return trans_qc, num_cnots"
   ]
  },
  {
   "cell_type": "code",
   "execution_count": 9,
   "metadata": {},
   "outputs": [],
   "source": [
    "# def entnagleSWAP_output_assertion2():\n",
    "#     q = QuantumRegister(5)\n",
    "#     c = ClassicalRegister(4)\n",
    "#     circuit = QuantumCircuit(q,c)\n",
    "#     circuit.h(q[1])\n",
    "#     circuit.cx(q[1],q[0])\n",
    "#     circuit.h(q[3])\n",
    "#     circuit.cx(q[3],q[2])\n",
    "\n",
    "\n",
    "#     circuit.cx(q[2],q[1])\n",
    "#     circuit.h(q[2])\n",
    "#     circuit.h(q[1])\n",
    "#     circuit.cx(q[2],q[1])\n",
    "#     circuit.h(q[2])\n",
    "#     circuit.h(q[1])\n",
    "# #\n",
    "#     circuit.cx(q[3],q[2])\n",
    "#     circuit.h(q[3])\n",
    "#     circuit.h(q[2])\n",
    "#     circuit.cx(q[3],q[2])\n",
    "#     circuit.h(q[3])\n",
    "#     circuit.h(q[2])\n",
    "\n",
    "#     circuit.cx(q[3],q[2])\n",
    "#     circuit.h(q[2])\n",
    "\n",
    "#     circuit.h(q[0])\n",
    "#     circuit.cx(q[2],q[0])\n",
    "#     circuit.h(q[0])\n",
    "\n",
    "#     circuit.h(q[2])\n",
    "#     circuit.cx(q[3],q[2])\n",
    "#     circuit.h(q[3])\n",
    "#     circuit.h(q[2])\n",
    "#     circuit.cx(q[3],q[2])\n",
    "#     circuit.h(q[3])\n",
    "#     circuit.h(q[2])\n",
    "#     circuit.cx(q[3],q[2])\n",
    "\n",
    "#     #assertion:\n",
    "#     qubitList = [q[1], q[3]]\n",
    "#     success = entanglement_assertion(circuit, qubitList, flag = 0)\n",
    "\n",
    "#     for i in range(4):\n",
    "#         circuit.measure(q[i],c[i])\n",
    "\n",
    "#     trans_qc = transpile(circuit, backend=device, optimization_level = 3)\n",
    "\n",
    "#     num_cnots = trans_qc.count_ops()['cx']\n",
    "#     return trans_qc, num_cnots"
   ]
  },
  {
   "cell_type": "code",
   "execution_count": 10,
   "metadata": {},
   "outputs": [],
   "source": [
    "def entangleSWAPExperiment():\n",
    "    #This function run the transpiler multiple times and selects the mapping with fewest SWAP gates\n",
    "    min_cnots = -1\n",
    "    for i in range(10):\n",
    "        trans_qc, num_cnots = entangleSWAP()\n",
    "        if min_cnots < 0:\n",
    "            min_cnots = num_cnots\n",
    "        elif (num_cnots < min_cnots) and (min_cnots >= 0):\n",
    "            min_cnots = num_cnots\n",
    "    while 1:\n",
    "        trans_qc, num_cnots = entangleSWAP()\n",
    "        if num_cnots == min_cnots:\n",
    "            print(\"number of CNOTs in circuit without assertion: \", num_cnots)\n",
    "            transQcList.append(trans_qc)\n",
    "            break\n",
    "            \n",
    "    min_cnots = -1\n",
    "    for i in range(20):\n",
    "        trans_qc, num_cnots = entangleSWAP_init_assertion()\n",
    "        if min_cnots < 0:\n",
    "            min_cnots = num_cnots\n",
    "        elif (num_cnots < min_cnots) and (min_cnots >= 0):\n",
    "            min_cnots = num_cnots\n",
    "    while 1:\n",
    "        trans_qc, num_cnots = entangleSWAP_init_assertion()\n",
    "        if num_cnots == min_cnots:\n",
    "            print(\"number of CNOTs in circuit with assertion: \", num_cnots)\n",
    "            transQcList.append(trans_qc)\n",
    "            break\n",
    "            \n",
    "    min_cnots = -1\n",
    "    for i in range(20):\n",
    "        trans_qc, num_cnots = entangleSWAP_output_assertion()\n",
    "        if min_cnots < 0:\n",
    "            min_cnots = num_cnots\n",
    "        elif (num_cnots < min_cnots) and (min_cnots >= 0):\n",
    "            min_cnots = num_cnots\n",
    "    while 1:\n",
    "        trans_qc, num_cnots = entangleSWAP_output_assertion()\n",
    "        if num_cnots == min_cnots:\n",
    "            print(\"number of CNOTs in circuit with assertion: \", num_cnots)\n",
    "            transQcList.append(trans_qc)\n",
    "            break"
   ]
  },
  {
   "cell_type": "code",
   "execution_count": 11,
   "metadata": {},
   "outputs": [
    {
     "name": "stdout",
     "output_type": "stream",
     "text": [
      "number of CNOTs in circuit without assertion:  14\n",
      "number of CNOTs in circuit with assertion:  20\n",
      "number of CNOTs in circuit with assertion:  16\n"
     ]
    }
   ],
   "source": [
    "entangleSWAPExperiment()"
   ]
  },
  {
   "cell_type": "code",
   "execution_count": 12,
   "metadata": {},
   "outputs": [
    {
     "name": "stdout",
     "output_type": "stream",
     "text": [
      "Job Status: job has successfully run\n"
     ]
    }
   ],
   "source": [
    "shots = 8192\n",
    "#execute the job on real device\n",
    "job = execute(transQcList, backend=device, shots=shots)\n",
    "job_monitor(job)\n",
    "#the results are stored in res.get_counts(0) to res.get_counts(99)\n",
    "res = job.result()"
   ]
  },
  {
   "cell_type": "markdown",
   "metadata": {},
   "source": [
    "Success rate of SWAP protocol without entanglement assertion:"
   ]
  },
  {
   "cell_type": "code",
   "execution_count": 13,
   "metadata": {},
   "outputs": [
    {
     "name": "stdout",
     "output_type": "stream",
     "text": [
      "total_count =  8192 success_count =  2404 success_rate =  29.345703125 %\n"
     ]
    }
   ],
   "source": [
    "calcSuccessrate(res.get_counts(0), ['0000', '0101', '1010', '1111'], 0)"
   ]
  },
  {
   "cell_type": "markdown",
   "metadata": {},
   "source": [
    "Success rate of SWAP protocol with entanglement assertion at the initialization state:"
   ]
  },
  {
   "cell_type": "code",
   "execution_count": 14,
   "metadata": {},
   "outputs": [
    {
     "name": "stdout",
     "output_type": "stream",
     "text": [
      "total_count =  6429 success_count =  1566 success_rate =  24.35837610825945 %\n"
     ]
    }
   ],
   "source": [
    "calcSuccessrate(res.get_counts(1), ['0 0000', '0 0101', '0 1010', '0 1111'], 1)"
   ]
  },
  {
   "cell_type": "markdown",
   "metadata": {},
   "source": [
    "Success rate of SWAP protocol with entanglement assertion at the output state:"
   ]
  },
  {
   "cell_type": "code",
   "execution_count": 15,
   "metadata": {},
   "outputs": [
    {
     "name": "stdout",
     "output_type": "stream",
     "text": [
      "total_count =  4167 success_count =  1542 success_rate =  37.00503959683225 %\n"
     ]
    }
   ],
   "source": [
    "calcSuccessrate(res.get_counts(2), ['0 0000', '0 0101', '0 1010', '0 1111'], 1)"
   ]
  },
  {
   "cell_type": "code",
   "execution_count": null,
   "metadata": {},
   "outputs": [],
   "source": []
  }
 ],
 "metadata": {
  "kernelspec": {
   "display_name": "Python 3",
   "language": "python",
   "name": "python3"
  },
  "language_info": {
   "codemirror_mode": {
    "name": "ipython",
    "version": 3
   },
   "file_extension": ".py",
   "mimetype": "text/x-python",
   "name": "python",
   "nbconvert_exporter": "python",
   "pygments_lexer": "ipython3",
   "version": "3.7.3"
  }
 },
 "nbformat": 4,
 "nbformat_minor": 2
}
