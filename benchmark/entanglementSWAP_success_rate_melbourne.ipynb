{
 "cells": [
  {
   "cell_type": "code",
   "execution_count": 1,
   "metadata": {
    "scrolled": true
   },
   "outputs": [
    {
     "data": {
      "text/plain": [
       "{'qiskit-terra': '0.10.0',\n",
       " 'qiskit-aer': '0.3.2',\n",
       " 'qiskit-ignis': '0.2.0',\n",
       " 'qiskit-ibmq-provider': '0.3.3',\n",
       " 'qiskit-aqua': '0.6.1',\n",
       " 'qiskit': '0.13.0'}"
      ]
     },
     "execution_count": 1,
     "metadata": {},
     "output_type": "execute_result"
    }
   ],
   "source": [
    "from qiskit import IBMQ\n",
    "import qiskit\n",
    "qiskit.__qiskit_version__"
   ]
  },
  {
   "cell_type": "code",
   "execution_count": 2,
   "metadata": {},
   "outputs": [
    {
     "data": {
      "text/plain": [
       "[<IBMQSimulator('ibmq_qasm_simulator') from IBMQ(hub='ibm-q', group='open', project='main')>,\n",
       " <IBMQBackend('ibmqx2') from IBMQ(hub='ibm-q', group='open', project='main')>,\n",
       " <IBMQBackend('ibmq_16_melbourne') from IBMQ(hub='ibm-q', group='open', project='main')>,\n",
       " <IBMQBackend('ibmq_vigo') from IBMQ(hub='ibm-q', group='open', project='main')>,\n",
       " <IBMQBackend('ibmq_ourense') from IBMQ(hub='ibm-q', group='open', project='main')>,\n",
       " <IBMQBackend('ibmq_london') from IBMQ(hub='ibm-q', group='open', project='main')>,\n",
       " <IBMQBackend('ibmq_burlington') from IBMQ(hub='ibm-q', group='open', project='main')>,\n",
       " <IBMQBackend('ibmq_essex') from IBMQ(hub='ibm-q', group='open', project='main')>,\n",
       " <IBMQBackend('ibmq_armonk') from IBMQ(hub='ibm-q', group='open', project='main')>]"
      ]
     },
     "execution_count": 2,
     "metadata": {},
     "output_type": "execute_result"
    }
   ],
   "source": [
    "provider = IBMQ.load_account()\n",
    "#change the provider based on your Qiskit account\n",
    "#provider = IBMQ.get_provider(hub='ibm-q-ncsu', group='nc-state', project='on-boarding')\n",
    "#if you do not have access to the twenty qubit machine, use this publically available 15qubit 'ibmq_16_melbourne' machine instead\n",
    "provider = IBMQ.get_provider(hub='ibm-q', group='open', project='main')\n",
    "provider.backends()"
   ]
  },
  {
   "cell_type": "code",
   "execution_count": 3,
   "metadata": {},
   "outputs": [],
   "source": [
    "from qiskit import *\n",
    "from qiskit.compiler import transpile\n",
    "from qiskit.visualization import plot_histogram\n",
    "from qiskit.tools.monitor import job_monitor, backend_monitor, backend_overview\n",
    "from qiskit.providers.aer import noise\n",
    "import math\n",
    "\n",
    "#Include our assertion function\n",
    "from qiskit.compiler.assertion import classical_assertion, superposition_assertion, entanglement_assertion, calcSuccessrate"
   ]
  },
  {
   "cell_type": "code",
   "execution_count": 4,
   "metadata": {},
   "outputs": [
    {
     "name": "stdout",
     "output_type": "stream",
     "text": [
      "ibmq_16_melbourne\n",
      "=================\n",
      "Configuration\n",
      "-------------\n",
      "    n_qubits: 15\n",
      "    operational: True\n",
      "    status_msg: active\n",
      "    pending_jobs: 6\n",
      "    backend_version: 2.0.0\n",
      "    basis_gates: ['id', 'u1', 'u2', 'u3', 'cx']\n",
      "    local: False\n",
      "    simulator: False\n",
      "    url: None\n",
      "    memory: True\n",
      "    max_experiments: 75\n",
      "    online_date: 2018-11-06T05:00:00+00:00\n",
      "    quantum_volume: None\n",
      "    allow_object_storage: True\n",
      "    max_shots: 8192\n",
      "    credits_required: True\n",
      "    open_pulse: False\n",
      "    allow_q_circuit: False\n",
      "    n_registers: 1\n",
      "    backend_name: ibmq_16_melbourne\n",
      "    description: 15 qubit device\n",
      "    conditional: False\n",
      "    coupling_map: [[0, 1], [0, 14], [1, 0], [1, 2], [1, 13], [2, 1], [2, 3], [2, 12], [3, 2], [3, 4], [3, 11], [4, 3], [4, 5], [4, 10], [5, 4], [5, 6], [5, 9], [6, 5], [6, 8], [7, 8], [8, 6], [8, 7], [8, 9], [9, 5], [9, 8], [9, 10], [10, 4], [10, 9], [10, 11], [11, 3], [11, 10], [11, 12], [12, 2], [12, 11], [12, 13], [13, 1], [13, 12], [13, 14], [14, 0], [14, 13]]\n",
      "    sample_name: albatross\n",
      "    allow_q_object: True\n",
      "\n",
      "Qubits [Name / Freq / T1 / T2 / U1 err / U2 err / U3 err / Readout err]\n",
      "-----------------------------------------------------------------------\n",
      "    Q0 / 5.1001 GHz / 60.17104 µs / 19.25778 µs / 0.0 / 0.00059 / 0.00118 / 0.0215\n",
      "    Q1 / 5.23849 GHz / 66.45444 µs / 69.75233 µs / 0.0 / 0.00101 / 0.00202 / 0.021\n",
      "    Q2 / 5.03278 GHz / 63.44754 µs / 108.93726 µs / 0.0 / 0.0007 / 0.0014 / 0.0145\n",
      "    Q3 / 4.89608 GHz / 85.76489 µs / 53.65255 µs / 0.0 / 0.00044 / 0.00089 / 0.1085\n",
      "    Q4 / 5.02714 GHz / 61.72308 µs / 32.9583 µs / 0.0 / 0.00156 / 0.00312 / 0.0245\n",
      "    Q5 / 5.06719 GHz / 21.21094 µs / 55.71005 µs / 0.0 / 0.00192 / 0.00385 / 0.0535\n",
      "    Q6 / 4.92376 GHz / 74.72466 µs / 63.07231 µs / 0.0 / 0.00113 / 0.00226 / 0.014\n",
      "    Q7 / 4.97433 GHz / 50.44004 µs / 85.5172 µs / 0.0 / 0.00222 / 0.00444 / 0.1015\n",
      "    Q8 / 4.73797 GHz / 103.37351 µs / 132.2115 µs / 0.0 / 0.00057 / 0.00115 / 0.094\n",
      "    Q9 / 4.96382 GHz / 44.04689 µs / 60.71316 µs / 0.0 / 0.0016 / 0.00319 / 0.0275\n",
      "    Q10 / 4.94511 GHz / 72.59368 µs / 57.18132 µs / 0.0 / 0.00253 / 0.00506 / 0.051\n",
      "    Q11 / 5.00515 GHz / 36.35983 µs / 65.65161 µs / 0.0 / 0.0006 / 0.0012 / 0.012\n",
      "    Q12 / 4.75958 GHz / 6.6223 µs / 11.7799 µs / 0.0 / 0.00321 / 0.00641 / 0.1865\n",
      "    Q13 / 4.96866 GHz / 31.06434 µs / 52.9145 µs / 0.0 / 0.00174 / 0.00349 / 0.113\n",
      "    Q14 / 5.00165 GHz / 43.87055 µs / 48.15942 µs / 0.0 / 0.00057 / 0.00114 / 0.0435\n",
      "\n",
      "Multi-Qubit Gates [Name / Type / Gate Error]\n",
      "--------------------------------------------\n",
      "    cx0_1 / cx / 0.0224\n",
      "    cx0_14 / cx / 0.02691\n",
      "    cx1_0 / cx / 0.0224\n",
      "    cx1_2 / cx / 0.00995\n",
      "    cx1_13 / cx / 0.06846\n",
      "    cx2_1 / cx / 0.00995\n",
      "    cx2_3 / cx / 0.0226\n",
      "    cx2_12 / cx / 0.04383\n",
      "    cx3_2 / cx / 0.0226\n",
      "    cx3_4 / cx / 0.01882\n",
      "    cx3_11 / cx / 0.03202\n",
      "    cx4_3 / cx / 0.01882\n",
      "    cx4_5 / cx / 0.02572\n",
      "    cx4_10 / cx / 0.08111\n",
      "    cx5_4 / cx / 0.02572\n",
      "    cx5_6 / cx / 0.04284\n",
      "    cx5_9 / cx / 0.03392\n",
      "    cx6_5 / cx / 0.04284\n",
      "    cx6_8 / cx / 0.01957\n",
      "    cx7_8 / cx / 0.02254\n",
      "    cx8_6 / cx / 0.01957\n",
      "    cx8_7 / cx / 0.02254\n",
      "    cx8_9 / cx / 0.02382\n",
      "    cx9_5 / cx / 0.03392\n",
      "    cx9_8 / cx / 0.02382\n",
      "    cx9_10 / cx / 0.03949\n",
      "    cx10_4 / cx / 0.08111\n",
      "    cx10_9 / cx / 0.03949\n",
      "    cx10_11 / cx / 0.02846\n",
      "    cx11_3 / cx / 0.03202\n",
      "    cx11_10 / cx / 0.02846\n",
      "    cx11_12 / cx / 0.05473\n",
      "    cx12_2 / cx / 0.04383\n",
      "    cx12_11 / cx / 0.05473\n",
      "    cx12_13 / cx / 0.07206\n",
      "    cx13_1 / cx / 0.06846\n",
      "    cx13_12 / cx / 0.07206\n",
      "    cx13_14 / cx / 0.03412\n",
      "    cx14_0 / cx / 0.02691\n",
      "    cx14_13 / cx / 0.03412\n"
     ]
    },
    {
     "data": {
      "text/plain": [
       "<IBMQBackend('ibmq_16_melbourne') from IBMQ(hub='ibm-q', group='open', project='main')>"
      ]
     },
     "execution_count": 4,
     "metadata": {},
     "output_type": "execute_result"
    }
   ],
   "source": [
    "#we used ibmq_20_tokyo for our experiment, however, that backend has retired. So we can use the 'ibmq_16_melbourne' instead\n",
    "device = provider.get_backend('ibmq_16_melbourne')\n",
    "backend_monitor(device)\n",
    "device"
   ]
  },
  {
   "cell_type": "code",
   "execution_count": 5,
   "metadata": {},
   "outputs": [],
   "source": [
    "transQcList = []\n",
    "\n",
    "pi = math.pi"
   ]
  },
  {
   "cell_type": "code",
   "execution_count": 6,
   "metadata": {},
   "outputs": [],
   "source": [
    "def entangleSWAP():\n",
    "    q = QuantumRegister(5)\n",
    "    c = ClassicalRegister(4)\n",
    "    circuit = QuantumCircuit(q,c)\n",
    "    circuit.h(q[1])\n",
    "    circuit.cx(q[1],q[0])\n",
    "    circuit.h(q[3])\n",
    "    circuit.cx(q[3],q[2])\n",
    "\n",
    "    circuit.cx(q[2],q[1])\n",
    "    circuit.h(q[2])\n",
    "    circuit.h(q[1])\n",
    "    circuit.cx(q[2],q[1])\n",
    "    circuit.h(q[2])\n",
    "    circuit.h(q[1])\n",
    "\n",
    "    circuit.cx(q[3],q[2])\n",
    "    circuit.h(q[3])\n",
    "    circuit.h(q[2])\n",
    "    circuit.cx(q[3],q[2])\n",
    "    circuit.h(q[3])\n",
    "    circuit.h(q[2])\n",
    "\n",
    "    circuit.cx(q[3],q[2])\n",
    "    circuit.h(q[2])\n",
    "\n",
    "    circuit.h(q[0])\n",
    "    circuit.cx(q[2],q[0])\n",
    "    circuit.h(q[0])\n",
    "\n",
    "    circuit.h(q[2])\n",
    "    circuit.cx(q[3],q[2])\n",
    "    circuit.h(q[3])\n",
    "    circuit.h(q[2])\n",
    "    circuit.cx(q[3],q[2])\n",
    "    circuit.h(q[3])\n",
    "    circuit.h(q[2])\n",
    "    circuit.cx(q[3],q[2])\n",
    "    for i in range(4):\n",
    "        circuit.measure(q[i],c[i])\n",
    "\n",
    "    trans_qc = transpile(circuit, backend=device, optimization_level = 3)\n",
    "    num_cnots = trans_qc.count_ops()['cx']\n",
    "    return trans_qc, num_cnots\n"
   ]
  },
  {
   "cell_type": "code",
   "execution_count": 7,
   "metadata": {},
   "outputs": [],
   "source": [
    "def entangleSWAP_init_assertion():\n",
    "    q = QuantumRegister(5)\n",
    "    c = ClassicalRegister(4)\n",
    "    circuit = QuantumCircuit(q,c)\n",
    "    circuit.h(q[1])\n",
    "    circuit.cx(q[1],q[0])\n",
    "    circuit.h(q[3])\n",
    "    circuit.cx(q[3],q[2])\n",
    "\n",
    "    #assertion:\n",
    "    qubitList = [q[2], q[3]]\n",
    "    success = entanglement_assertion(circuit, qubitList, flag = 0)\n",
    "\n",
    "    circuit.cx(q[2],q[1])\n",
    "    circuit.h(q[2])\n",
    "    circuit.h(q[1])\n",
    "    circuit.cx(q[2],q[1])\n",
    "    circuit.h(q[2])\n",
    "    circuit.h(q[1])\n",
    "\n",
    "    circuit.cx(q[3],q[2])\n",
    "    circuit.h(q[3])\n",
    "    circuit.h(q[2])\n",
    "    circuit.cx(q[3],q[2])\n",
    "    circuit.h(q[3])\n",
    "    circuit.h(q[2])\n",
    "\n",
    "    circuit.cx(q[3],q[2])\n",
    "    circuit.h(q[2])\n",
    "\n",
    "    circuit.h(q[0])\n",
    "    circuit.cx(q[2],q[0])\n",
    "    circuit.h(q[0])\n",
    "\n",
    "    circuit.h(q[2])\n",
    "    circuit.cx(q[3],q[2])\n",
    "    circuit.h(q[3])\n",
    "    circuit.h(q[2])\n",
    "    circuit.cx(q[3],q[2])\n",
    "    circuit.h(q[3])\n",
    "    circuit.h(q[2])\n",
    "    circuit.cx(q[3],q[2])\n",
    "\n",
    "    for i in range(4):\n",
    "        circuit.measure(q[i],c[i])\n",
    "\n",
    "    trans_qc = transpile(circuit, backend=device, optimization_level = 3)\n",
    "    num_cnots = trans_qc.count_ops()['cx']\n",
    "    return trans_qc, num_cnots\n"
   ]
  },
  {
   "cell_type": "code",
   "execution_count": 8,
   "metadata": {},
   "outputs": [],
   "source": [
    "def entangleSWAP_output_assertion():\n",
    "    q = QuantumRegister(5)\n",
    "    c = ClassicalRegister(4)\n",
    "    circuit = QuantumCircuit(q,c)\n",
    "    circuit.h(q[1])\n",
    "    circuit.cx(q[1],q[0])\n",
    "    circuit.h(q[3])\n",
    "    circuit.cx(q[3],q[2])\n",
    "\n",
    "\n",
    "    circuit.cx(q[2],q[1])\n",
    "    circuit.h(q[2])\n",
    "    circuit.h(q[1])\n",
    "    circuit.cx(q[2],q[1])\n",
    "    circuit.h(q[2])\n",
    "    circuit.h(q[1])\n",
    "\n",
    "    circuit.cx(q[3],q[2])\n",
    "    circuit.h(q[3])\n",
    "    circuit.h(q[2])\n",
    "    circuit.cx(q[3],q[2])\n",
    "    circuit.h(q[3])\n",
    "    circuit.h(q[2])\n",
    "\n",
    "    circuit.cx(q[3],q[2])\n",
    "    circuit.h(q[2])\n",
    "\n",
    "    circuit.h(q[0])\n",
    "    circuit.cx(q[2],q[0])\n",
    "    circuit.h(q[0])\n",
    "\n",
    "    circuit.h(q[2])\n",
    "    circuit.cx(q[3],q[2])\n",
    "    circuit.h(q[3])\n",
    "    circuit.h(q[2])\n",
    "    circuit.cx(q[3],q[2])\n",
    "    circuit.h(q[3])\n",
    "    circuit.h(q[2])\n",
    "    circuit.cx(q[3],q[2])\n",
    "\n",
    "    #assertion:\n",
    "    qubitList = [q[0], q[2]]\n",
    "    success = entanglement_assertion(circuit, qubitList, flag = 0)\n",
    "\n",
    "    for i in range(4):\n",
    "        circuit.measure(q[i],c[i])\n",
    "\n",
    "    trans_qc = transpile(circuit, backend=device, optimization_level = 3)\n",
    "    num_cnots = trans_qc.count_ops()['cx']\n",
    "    return trans_qc, num_cnots"
   ]
  },
  {
   "cell_type": "code",
   "execution_count": 9,
   "metadata": {},
   "outputs": [],
   "source": [
    "# def entnagleSWAP_output_assertion2():\n",
    "#     q = QuantumRegister(5)\n",
    "#     c = ClassicalRegister(4)\n",
    "#     circuit = QuantumCircuit(q,c)\n",
    "#     circuit.h(q[1])\n",
    "#     circuit.cx(q[1],q[0])\n",
    "#     circuit.h(q[3])\n",
    "#     circuit.cx(q[3],q[2])\n",
    "\n",
    "\n",
    "#     circuit.cx(q[2],q[1])\n",
    "#     circuit.h(q[2])\n",
    "#     circuit.h(q[1])\n",
    "#     circuit.cx(q[2],q[1])\n",
    "#     circuit.h(q[2])\n",
    "#     circuit.h(q[1])\n",
    "# #\n",
    "#     circuit.cx(q[3],q[2])\n",
    "#     circuit.h(q[3])\n",
    "#     circuit.h(q[2])\n",
    "#     circuit.cx(q[3],q[2])\n",
    "#     circuit.h(q[3])\n",
    "#     circuit.h(q[2])\n",
    "\n",
    "#     circuit.cx(q[3],q[2])\n",
    "#     circuit.h(q[2])\n",
    "\n",
    "#     circuit.h(q[0])\n",
    "#     circuit.cx(q[2],q[0])\n",
    "#     circuit.h(q[0])\n",
    "\n",
    "#     circuit.h(q[2])\n",
    "#     circuit.cx(q[3],q[2])\n",
    "#     circuit.h(q[3])\n",
    "#     circuit.h(q[2])\n",
    "#     circuit.cx(q[3],q[2])\n",
    "#     circuit.h(q[3])\n",
    "#     circuit.h(q[2])\n",
    "#     circuit.cx(q[3],q[2])\n",
    "\n",
    "#     #assertion:\n",
    "#     qubitList = [q[1], q[3]]\n",
    "#     success = entanglement_assertion(circuit, qubitList, flag = 0)\n",
    "\n",
    "#     for i in range(4):\n",
    "#         circuit.measure(q[i],c[i])\n",
    "\n",
    "#     trans_qc = transpile(circuit, backend=device, optimization_level = 3)\n",
    "\n",
    "#     num_cnots = trans_qc.count_ops()['cx']\n",
    "#     return trans_qc, num_cnots"
   ]
  },
  {
   "cell_type": "code",
   "execution_count": 10,
   "metadata": {},
   "outputs": [],
   "source": [
    "def entangleSWAPExperiment():\n",
    "    #This function run the transpiler multiple times and selects the mapping with fewest SWAP gates\n",
    "    min_cnots = -1\n",
    "    num_cnots_original = -1\n",
    "    for i in range(10):\n",
    "        trans_qc, num_cnots = entangleSWAP()\n",
    "        if min_cnots < 0:\n",
    "            min_cnots = num_cnots\n",
    "        elif (num_cnots < min_cnots) and (min_cnots >= 0):\n",
    "            min_cnots = num_cnots\n",
    "    while 1:\n",
    "        trans_qc, num_cnots = entangleSWAP()\n",
    "        if num_cnots == min_cnots:\n",
    "            print(\"\\nnumber of CNOTs in circuit without assertion: \", num_cnots)\n",
    "            num_cnots_original = num_cnots\n",
    "            transQcList.append(trans_qc)\n",
    "            break\n",
    "\n",
    "    print(\"\\nassertion at the initialization stage:\")\n",
    "    min_cnots = -1\n",
    "    for i in range(20):\n",
    "        trans_qc, num_cnots = entangleSWAP_init_assertion()\n",
    "        if min_cnots < 0:\n",
    "            min_cnots = num_cnots\n",
    "        elif (num_cnots < min_cnots) and (min_cnots >= 0):\n",
    "            min_cnots = num_cnots\n",
    "    while 1:\n",
    "        trans_qc, num_cnots = entangleSWAP_init_assertion()\n",
    "        if num_cnots == min_cnots:\n",
    "            print(\"number of CNOTs in circuit with assertion: \", num_cnots)\n",
    "            percent = abs(1 - num_cnots_original/num_cnots) * 100\n",
    "            print(\"    Percentage of the assertion circuit size in total size: \", percent, \"%\")\n",
    "            if percent > 20:\n",
    "                print(\"    Warning: assertion circuit size is comparable to circuit size, may lead to lower success rate.\")\n",
    "            transQcList.append(trans_qc)\n",
    "            break\n",
    "            \n",
    "    print(\"\\nassertion at the initialization stage:\")\n",
    "    min_cnots = -1\n",
    "    for i in range(20):\n",
    "        trans_qc, num_cnots = entangleSWAP_output_assertion()\n",
    "        if min_cnots < 0:\n",
    "            min_cnots = num_cnots\n",
    "        elif (num_cnots < min_cnots) and (min_cnots >= 0):\n",
    "            min_cnots = num_cnots\n",
    "    while 1:\n",
    "        trans_qc, num_cnots = entangleSWAP_output_assertion()\n",
    "        if num_cnots == min_cnots:\n",
    "            print(\"number of CNOTs in circuit with assertion: \", num_cnots)\n",
    "            percent = abs(1 - num_cnots_original/num_cnots) * 100\n",
    "            print(\"    Percentage of the assertion circuit size in total size: \", percent, \"%\")\n",
    "            if percent > 20:\n",
    "                print(\"    Warning: assertion circuit size is comparable to circuit size, may lead to lower success rate.\")\n",
    "            transQcList.append(trans_qc)\n",
    "            break"
   ]
  },
  {
   "cell_type": "code",
   "execution_count": 11,
   "metadata": {},
   "outputs": [
    {
     "name": "stdout",
     "output_type": "stream",
     "text": [
      "\n",
      "number of CNOTs in circuit without assertion:  14\n",
      "\n",
      "assertion at the initialization stage:\n",
      "number of CNOTs in circuit with assertion:  20\n",
      "Percentage of the assertion circuit size in total size:  30.000000000000004 %\n",
      "Warning: assertion circuit size is comparable to circuit size, may lead to lower success rate.\n",
      "\n",
      "assertion at the initialization stage:\n",
      "number of CNOTs in circuit with assertion:  16\n",
      "    Percentage of the assertion circuit size in total size:  12.5 %\n"
     ]
    }
   ],
   "source": [
    "entangleSWAPExperiment()"
   ]
  },
  {
   "cell_type": "code",
   "execution_count": 12,
   "metadata": {},
   "outputs": [
    {
     "name": "stdout",
     "output_type": "stream",
     "text": [
      "Job Status: job has successfully run\n"
     ]
    }
   ],
   "source": [
    "shots = 8192\n",
    "#execute the job on real device\n",
    "job = execute(transQcList, backend=device, shots=shots)\n",
    "job_monitor(job)\n",
    "res = job.result()"
   ]
  },
  {
   "cell_type": "markdown",
   "metadata": {},
   "source": [
    "Success rate of SWAP protocol without entanglement assertion:"
   ]
  },
  {
   "cell_type": "code",
   "execution_count": 13,
   "metadata": {},
   "outputs": [
    {
     "name": "stdout",
     "output_type": "stream",
     "text": [
      "total_count =  8192 success_count =  2351 success_rate =  28.69873046875 %\n"
     ]
    }
   ],
   "source": [
    "calcSuccessrate(res.get_counts(0), ['0000', '0101', '1010', '1111'], 0)"
   ]
  },
  {
   "cell_type": "markdown",
   "metadata": {},
   "source": [
    "Success rate of SWAP protocol with entanglement assertion at the initialization state:"
   ]
  },
  {
   "cell_type": "code",
   "execution_count": 14,
   "metadata": {},
   "outputs": [
    {
     "name": "stdout",
     "output_type": "stream",
     "text": [
      "total_count =  6531 success_count =  1363 success_rate =  20.86969836165978 %\n"
     ]
    }
   ],
   "source": [
    "calcSuccessrate(res.get_counts(1), ['0 0000', '0 0101', '0 1010', '0 1111'], 1)"
   ]
  },
  {
   "cell_type": "markdown",
   "metadata": {},
   "source": [
    "Success rate of SWAP protocol with entanglement assertion at the output state:"
   ]
  },
  {
   "cell_type": "code",
   "execution_count": 15,
   "metadata": {},
   "outputs": [
    {
     "name": "stdout",
     "output_type": "stream",
     "text": [
      "total_count =  5127 success_count =  2073 success_rate =  40.433001755412526 %\n"
     ]
    }
   ],
   "source": [
    "calcSuccessrate(res.get_counts(2), ['0 0000', '0 0101', '0 1010', '0 1111'], 1)"
   ]
  },
  {
   "cell_type": "code",
   "execution_count": null,
   "metadata": {},
   "outputs": [],
   "source": []
  }
 ],
 "metadata": {
  "kernelspec": {
   "display_name": "Python 3",
   "language": "python",
   "name": "python3"
  },
  "language_info": {
   "codemirror_mode": {
    "name": "ipython",
    "version": 3
   },
   "file_extension": ".py",
   "mimetype": "text/x-python",
   "name": "python",
   "nbconvert_exporter": "python",
   "pygments_lexer": "ipython3",
   "version": "3.7.3"
  }
 },
 "nbformat": 4,
 "nbformat_minor": 2
}
