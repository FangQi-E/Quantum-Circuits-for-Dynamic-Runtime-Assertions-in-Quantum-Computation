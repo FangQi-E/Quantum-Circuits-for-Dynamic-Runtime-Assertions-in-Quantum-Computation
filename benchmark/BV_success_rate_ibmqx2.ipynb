{
 "cells": [
  {
   "cell_type": "code",
   "execution_count": 1,
   "metadata": {
    "scrolled": true
   },
   "outputs": [
    {
     "data": {
      "text/plain": [
       "{'qiskit-terra': '0.10.0',\n",
       " 'qiskit-aer': '0.3.2',\n",
       " 'qiskit-ignis': '0.2.0',\n",
       " 'qiskit-ibmq-provider': '0.3.3',\n",
       " 'qiskit-aqua': '0.6.1',\n",
       " 'qiskit': '0.13.0'}"
      ]
     },
     "execution_count": 1,
     "metadata": {},
     "output_type": "execute_result"
    }
   ],
   "source": [
    "from qiskit import IBMQ\n",
    "import qiskit\n",
    "qiskit.__qiskit_version__"
   ]
  },
  {
   "cell_type": "code",
   "execution_count": 2,
   "metadata": {},
   "outputs": [
    {
     "data": {
      "text/plain": [
       "[<IBMQSimulator('ibmq_qasm_simulator') from IBMQ(hub='ibm-q', group='open', project='main')>,\n",
       " <IBMQBackend('ibmqx2') from IBMQ(hub='ibm-q', group='open', project='main')>,\n",
       " <IBMQBackend('ibmq_16_melbourne') from IBMQ(hub='ibm-q', group='open', project='main')>,\n",
       " <IBMQBackend('ibmq_vigo') from IBMQ(hub='ibm-q', group='open', project='main')>,\n",
       " <IBMQBackend('ibmq_ourense') from IBMQ(hub='ibm-q', group='open', project='main')>,\n",
       " <IBMQBackend('ibmq_london') from IBMQ(hub='ibm-q', group='open', project='main')>,\n",
       " <IBMQBackend('ibmq_burlington') from IBMQ(hub='ibm-q', group='open', project='main')>,\n",
       " <IBMQBackend('ibmq_essex') from IBMQ(hub='ibm-q', group='open', project='main')>,\n",
       " <IBMQBackend('ibmq_armonk') from IBMQ(hub='ibm-q', group='open', project='main')>]"
      ]
     },
     "execution_count": 2,
     "metadata": {},
     "output_type": "execute_result"
    }
   ],
   "source": [
    "provider = IBMQ.load_account()\n",
    "provider = IBMQ.get_provider(hub='ibm-q', group='open', project='main')\n",
    "provider.backends()"
   ]
  },
  {
   "cell_type": "code",
   "execution_count": 3,
   "metadata": {},
   "outputs": [],
   "source": [
    "from qiskit import *\n",
    "from qiskit.compiler import transpile\n",
    "from qiskit.visualization import plot_histogram\n",
    "from qiskit.tools.monitor import job_monitor, backend_monitor, backend_overview\n",
    "from qiskit.providers.aer import noise\n",
    "import math\n",
    "\n",
    "#Include our assertion function\n",
    "from qiskit.compiler.assertion import classical_assertion, superposition_assertion, entanglement_assertion, calcSuccessrate"
   ]
  },
  {
   "cell_type": "code",
   "execution_count": 4,
   "metadata": {},
   "outputs": [
    {
     "name": "stdout",
     "output_type": "stream",
     "text": [
      "ibmqx2\n",
      "======\n",
      "Configuration\n",
      "-------------\n",
      "    n_qubits: 5\n",
      "    operational: True\n",
      "    status_msg: active\n",
      "    pending_jobs: 86\n",
      "    backend_version: 2.0.2\n",
      "    basis_gates: ['u1', 'u2', 'u3', 'cx', 'id']\n",
      "    local: False\n",
      "    simulator: False\n",
      "    url: None\n",
      "    description: 5 qubit device\n",
      "    allow_q_circuit: False\n",
      "    backend_name: ibmqx2\n",
      "    sample_name: sparrow\n",
      "    online_date: 2017-01-24T05:00:00+00:00\n",
      "    credits_required: True\n",
      "    conditional: False\n",
      "    coupling_map: [[0, 1], [0, 2], [1, 0], [1, 2], [2, 0], [2, 1], [2, 3], [2, 4], [3, 2], [3, 4], [4, 2], [4, 3]]\n",
      "    allow_object_storage: True\n",
      "    memory: True\n",
      "    open_pulse: False\n",
      "    n_registers: 1\n",
      "    allow_q_object: True\n",
      "    max_shots: 8192\n",
      "    max_experiments: 75\n",
      "    quantum_volume: 8\n",
      "\n",
      "Qubits [Name / Freq / T1 / T2 / U1 err / U2 err / U3 err / Readout err]\n",
      "-----------------------------------------------------------------------\n",
      "    Q0 / 5.28627 GHz / 50.31548 µs / 53.02446 µs / 0.0 / 0.00074 / 0.00147 / 0.019\n",
      "    Q1 / 5.2379 GHz / 73.73208 µs / 56.56405 µs / 0.0 / 0.00051 / 0.00103 / 0.0105\n",
      "    Q2 / 5.0303 GHz / 67.88818 µs / 73.08468 µs / 0.0 / 0.00035 / 0.00071 / 0.0155\n",
      "    Q3 / 5.29533 GHz / 47.32753 µs / 28.03521 µs / 0.0 / 0.00073 / 0.00146 / 0.05\n",
      "    Q4 / 5.08453 GHz / 32.95173 µs / 28.16845 µs / 0.0 / 0.00099 / 0.00197 / 0.026\n",
      "\n",
      "Multi-Qubit Gates [Name / Type / Gate Error]\n",
      "--------------------------------------------\n",
      "    cx0_1 / cx / 0.01601\n",
      "    cx0_2 / cx / 0.01981\n",
      "    cx1_0 / cx / 0.01601\n",
      "    cx1_2 / cx / 0.01267\n",
      "    cx2_0 / cx / 0.01981\n",
      "    cx2_1 / cx / 0.01267\n",
      "    cx2_3 / cx / 0.01437\n",
      "    cx2_4 / cx / 0.01325\n",
      "    cx3_2 / cx / 0.01437\n",
      "    cx3_4 / cx / 0.0279\n",
      "    cx4_2 / cx / 0.01325\n",
      "    cx4_3 / cx / 0.0279\n"
     ]
    },
    {
     "data": {
      "text/plain": [
       "<IBMQBackend('ibmqx2') from IBMQ(hub='ibm-q', group='open', project='main')>"
      ]
     },
     "execution_count": 4,
     "metadata": {},
     "output_type": "execute_result"
    }
   ],
   "source": [
    "#we used ibmq_20_tokyo for our experiment, however, that backend has retired.  So we can use the ibmqx2 instead \n",
    "device = provider.get_backend('ibmqx2')\n",
    "backend_monitor(device)\n",
    "device"
   ]
  },
  {
   "cell_type": "code",
   "execution_count": 5,
   "metadata": {},
   "outputs": [],
   "source": [
    "pi = math.pi\n",
    "transQcList = []"
   ]
  },
  {
   "cell_type": "code",
   "execution_count": 6,
   "metadata": {},
   "outputs": [],
   "source": [
    "def BVCircuit(bvCircuit, nbits, hiddenValue, qr, cr):\n",
    "    for i in range(nbits):\n",
    "        bvCircuit.h(qr[i])\n",
    "    bvCircuit.x(qr[nbits])\n",
    "    bvCircuit.h(qr[nbits])\n",
    "    \n",
    "    # Apply the inner-product oracle\n",
    "    for j in range(nbits):\n",
    "        if (hiddenValue & (1 << j)):\n",
    "            bvCircuit.cx(qr[j], qr[nbits])\n",
    "#        else:\n",
    "#            bvCircuit.iden(qr[j])\n",
    "            \n",
    "    for i in range(nbits):\n",
    "        bvCircuit.h(qr[i])\n",
    "        \n",
    "    for i in range(nbits):\n",
    "        bvCircuit.measure(qr[i], cr[i])"
   ]
  },
  {
   "cell_type": "code",
   "execution_count": 7,
   "metadata": {},
   "outputs": [],
   "source": [
    "def BV2():\n",
    "    qr = QuantumRegister(3)\n",
    "    # for recording the measurement on qr\n",
    "    cr = ClassicalRegister(2)\n",
    "\n",
    "    circuitName = \"BV2\"\n",
    "    circ = QuantumCircuit(qr, cr)\n",
    "    BVCircuit(circ, 2, 2, qr, cr)\n",
    "    trans_qc = transpile(circ, device, optimization_level = 3)\n",
    "    #print(\"BV2 size =\",trans_qc.size(),\"depth = \",trans_qc.depth(), \"width = \",trans_qc.width(), \"\\n OPs =\", trans_qc.count_ops(), \"subcircuits =\",trans_qc.num_tensor_factors())\n",
    "    num_cnots = trans_qc.count_ops()['cx']\n",
    "    return trans_qc, num_cnots\n",
    "\n",
    "def BV2_assertion():\n",
    "    #assertion\n",
    "    qr = QuantumRegister(3)\n",
    "    # for recording the measurement on qr\n",
    "    cr = ClassicalRegister(2)\n",
    "\n",
    "    circuitName = \"BV2_assertion\"\n",
    "    circ = QuantumCircuit(qr, cr)\n",
    "    BVCircuit(circ, 2, 2, qr, cr)\n",
    "    qubitList = [qr[2]]\n",
    "    phaseDict = {qr[2]:[pi/2, pi]}\n",
    "    superposition_assertion(circ, qubitList, phaseDict, flag = 1)\n",
    "    trans_qc = transpile(circ, device, optimization_level = 3)\n",
    "    #print(\"BV2_assertion size =\",trans_qc_assert.size(),\"depth = \",trans_qc_assert.depth(), \"width = \",trans_qc_assert.width(), \"\\n OPs =\", trans_qc_assert.count_ops(), \"subcircuits =\",trans_qc_assert.num_tensor_factors())\n",
    "    num_cnots = trans_qc.count_ops()['cx']\n",
    "    return trans_qc, num_cnots"
   ]
  },
  {
   "cell_type": "code",
   "execution_count": 8,
   "metadata": {},
   "outputs": [],
   "source": [
    "def BV2_experiment():\n",
    "    #This function run the transpiler multiple times and selects the mapping with fewest SWAP gates\n",
    "    min_cnots = -1\n",
    "    num_cnots_original = -1\n",
    "    for i in range(10):\n",
    "        trans_qc, num_cnots = BV2()\n",
    "        if min_cnots < 0:\n",
    "            min_cnots = num_cnots\n",
    "        elif (num_cnots < min_cnots) and (min_cnots >= 0):\n",
    "            min_cnots = num_cnots\n",
    "    while 1:\n",
    "        trans_qc, num_cnots = BV2()\n",
    "        if num_cnots == min_cnots:\n",
    "            print(\"\\nnumber of CNOTs in circuit without assertion: \", num_cnots)\n",
    "            num_cnots_original = num_cnots\n",
    "            transQcList.append(trans_qc)\n",
    "            break\n",
    "            \n",
    "    min_cnots = -1\n",
    "    for i in range(20):\n",
    "        trans_qc, num_cnots = BV2_assertion()\n",
    "        if min_cnots < 0:\n",
    "            min_cnots = num_cnots\n",
    "        elif (num_cnots < min_cnots) and (min_cnots >= 0):\n",
    "            min_cnots = num_cnots\n",
    "    while 1:\n",
    "        trans_qc, num_cnots = BV2_assertion()\n",
    "        if num_cnots == min_cnots:\n",
    "            print(\"number of CNOTs in circuit with assertion: \", num_cnots)\n",
    "            percent = abs(1 - num_cnots_original/num_cnots) * 100\n",
    "            print(\"    Percentage of the assertion circuit size in total size: \", percent, \"%\")\n",
    "            if percent > 15:\n",
    "                print(\"    Warning: assertion circuit size is comparable to circuit size, may lead to lower success rate.\")\n",
    "            transQcList.append(trans_qc)\n",
    "            break"
   ]
  },
  {
   "cell_type": "code",
   "execution_count": 9,
   "metadata": {},
   "outputs": [],
   "source": [
    "def BV3():\n",
    "    #3bits\n",
    "    qr = QuantumRegister(4)\n",
    "    # for recording the measurement on qr\n",
    "    cr = ClassicalRegister(3)\n",
    "\n",
    "    circuitName = \"BV3\"\n",
    "    circ= QuantumCircuit(qr, cr)\n",
    "    BVCircuit(circ, 3, 6, qr, cr)\n",
    "    trans_qc = transpile(circ, device)\n",
    "    #print(\"BV3 size =\",trans_qc.size(),\"depth = \",trans_qc.depth(), \"width = \",trans_qc.width(), \"\\n OPs =\", trans_qc.count_ops(), \"subcircuits =\",trans_qc.num_tensor_factors())\n",
    "    num_cnots = trans_qc.count_ops()['cx']\n",
    "    return trans_qc, num_cnots\n",
    "\n",
    "def BV3_assertion():\n",
    "    #assertion\n",
    "    qr = QuantumRegister(4)\n",
    "    # for recording the measurement on qr\n",
    "    cr = ClassicalRegister(3)\n",
    "    circuitName = \"BV3_assertion\"\n",
    "    circ = QuantumCircuit(qr, cr)\n",
    "    BVCircuit(circ, 3, 6, qr, cr)\n",
    "    qubitList = [qr[3]]\n",
    "    phaseDict = {qr[3]:[pi/2, pi]}\n",
    "    superposition_assertion(circ, qubitList, phaseDict, flag = 1)\n",
    "    trans_qc = transpile(circ, device)\n",
    "    #print(\"BV3_assertion size =\",trans_qc_assert.size(),\"depth = \",trans_qc_assert.depth(), \"width = \",trans_qc_assert.width(), \"\\n OPs =\", trans_qc_assert.count_ops(), \"subcircuits =\",trans_qc_assert.num_tensor_factors())\n",
    "    num_cnots = trans_qc.count_ops()['cx']\n",
    "    return trans_qc, num_cnots"
   ]
  },
  {
   "cell_type": "code",
   "execution_count": 10,
   "metadata": {},
   "outputs": [],
   "source": [
    "def BV3_experiment():\n",
    "    #This function run the transpiler multiple times and selects the mapping with fewest SWAP gates\n",
    "    min_cnots = -1\n",
    "    num_cnots_original = -1\n",
    "    for i in range(10):\n",
    "        trans_qc, num_cnots = BV3()\n",
    "        if min_cnots < 0:\n",
    "            min_cnots = num_cnots\n",
    "        elif (num_cnots < min_cnots) and (min_cnots >= 0):\n",
    "            min_cnots = num_cnots\n",
    "    while 1:\n",
    "        trans_qc, num_cnots = BV3()\n",
    "        if num_cnots == min_cnots:\n",
    "            print(\"\\nnumber of CNOTs in circuit without assertion: \", num_cnots)\n",
    "            num_cnots_original = num_cnots\n",
    "            transQcList.append(trans_qc)\n",
    "            break\n",
    "            \n",
    "    min_cnots = -1\n",
    "    for i in range(20):\n",
    "        trans_qc, num_cnots = BV3_assertion()\n",
    "        if min_cnots < 0:\n",
    "            min_cnots = num_cnots\n",
    "        elif (num_cnots < min_cnots) and (min_cnots >= 0):\n",
    "            min_cnots = num_cnots\n",
    "    while 1:\n",
    "        trans_qc, num_cnots = BV3_assertion()\n",
    "        if num_cnots == min_cnots:\n",
    "            print(\"number of CNOTs in circuit with assertion: \", num_cnots)\n",
    "            percent = abs(1 - num_cnots_original/num_cnots) * 100\n",
    "            print(\"    Percentage of the assertion circuit size in total size: \", percent, \"%\")\n",
    "            if percent > 15:\n",
    "                print(\"    Warning: assertion circuit size is comparable to circuit size, may lead to lower success rate.\")\n",
    "            transQcList.append(trans_qc)\n",
    "            break"
   ]
  },
  {
   "cell_type": "code",
   "execution_count": 11,
   "metadata": {},
   "outputs": [],
   "source": [
    "#BV4 with assertion requires 6 qubits, therefore it is not executable on ibmqx2 \n",
    "# def BV4():\n",
    "#     #4bits\n",
    "#     qr = QuantumRegister(5)\n",
    "#     # for recording the measurement on qr\n",
    "#     cr = ClassicalRegister(4)\n",
    "\n",
    "#     circuitName = \"BV4\"\n",
    "#     circ = QuantumCircuit(qr, cr)\n",
    "#     BVCircuit(circ, 4, 14, qr, cr)\n",
    "#     trans_qc = transpile(circ, device, optimization_level = 3)\n",
    "#     transQcList.append(trans_qc)\n",
    "#     #print(\"BV4 size =\",trans_qc.size(),\"depth = \",trans_qc.depth(), \"width = \",trans_qc.width(), \"\\n OPs =\", trans_qc.count_ops(), \"subcircuits =\",trans_qc.num_tensor_factors())\n",
    "#     num_cnots = trans_qc.count_ops()['cx']\n",
    "#     return trans_qc, num_cnots\n",
    "\n",
    "# def BV4_assertion():\n",
    "#     #assertion\n",
    "#     qr = QuantumRegister(5)\n",
    "#     # for recording the measurement on qr\n",
    "#     cr = ClassicalRegister(4)\n",
    "\n",
    "#     circuitName = \"BV4_assertion\"\n",
    "#     circ = QuantumCircuit(qr, cr)\n",
    "#     BVCircuit(circ, 4, 14, qr, cr)\n",
    "#     qubitList = [qr[4]]\n",
    "#     phaseDict = {qr[4]:[pi/2, pi]}\n",
    "#     superposition_assertion(circ, qubitList, phaseDict, flag = 1)\n",
    "#     trans_qc = transpile(circ, device, optimization_level = 3)\n",
    "#     #print(\"BV4_assertion size =\",trans_qc.size(),\"depth = \",trans_qc.depth(), \"width = \",trans_qc.width(), \"\\n OPs =\", trans_qc.count_ops(), \"subcircuits =\",trans_qc.num_tensor_factors())\n",
    "#     num_cnots = trans_qc.count_ops()['cx']\n",
    "#     return trans_qc, num_cnots"
   ]
  },
  {
   "cell_type": "code",
   "execution_count": 12,
   "metadata": {},
   "outputs": [],
   "source": [
    "#BV4 with assertion requires 6 qubits, therefore it is not executable on ibmqx2 \n",
    "# def BV4_experiment():\n",
    "#     #This function run the transpiler multiple times and selects the mapping with fewest SWAP gates\n",
    "#     min_cnots = -1\n",
    "#     for i in range(10):\n",
    "#         trans_qc, num_cnots = BV4()\n",
    "#         if min_cnots < 0:\n",
    "#             min_cnots = num_cnots\n",
    "#         elif (num_cnots < min_cnots) and (min_cnots >= 0):\n",
    "#             min_cnots = num_cnots\n",
    "#     while 1:\n",
    "#         trans_qc, num_cnots = BV4()\n",
    "#         if num_cnots == min_cnots:\n",
    "#             print(\"number of CNOTs in circuit without assertion: \", num_cnots)\n",
    "#             transQcList.append(trans_qc)\n",
    "#             break\n",
    "            \n",
    "#     min_cnots = -1\n",
    "#     for i in range(20):\n",
    "#         trans_qc, num_cnots = BV4_assertion()\n",
    "#         if min_cnots < 0:\n",
    "#             min_cnots = num_cnots\n",
    "#         elif (num_cnots < min_cnots) and (min_cnots >= 0):\n",
    "#             min_cnots = num_cnots\n",
    "#     while 1:\n",
    "#         trans_qc, num_cnots = BV4_assertion()\n",
    "#         if num_cnots == min_cnots:\n",
    "#             print(\"number of CNOTs in circuit with assertion: \", num_cnots)\n",
    "#             transQcList.append(trans_qc)\n",
    "#             break"
   ]
  },
  {
   "cell_type": "code",
   "execution_count": 13,
   "metadata": {},
   "outputs": [
    {
     "name": "stdout",
     "output_type": "stream",
     "text": [
      "\n",
      "number of CNOTs in circuit without assertion:  1\n",
      "number of CNOTs in circuit with assertion:  2\n",
      "    Percentage of the assertion circuit size in total size:  50.0 %\n",
      "    Warning: assertion circuit size is comparable to circuit size, may lead to lower success rate.\n",
      "\n",
      "number of CNOTs in circuit without assertion:  5\n",
      "number of CNOTs in circuit with assertion:  7\n",
      "    Percentage of the assertion circuit size in total size:  28.57142857142857 %\n",
      "    Warning: assertion circuit size is comparable to circuit size, may lead to lower success rate.\n"
     ]
    }
   ],
   "source": [
    "BV2_experiment()\n",
    "BV3_experiment()\n",
    "#BV4_experiment()"
   ]
  },
  {
   "cell_type": "code",
   "execution_count": 14,
   "metadata": {},
   "outputs": [
    {
     "name": "stdout",
     "output_type": "stream",
     "text": [
      "Job Status: job has successfully run\n"
     ]
    }
   ],
   "source": [
    "shots = 8192\n",
    "#execute the job on real device\n",
    "job = execute(transQcList, backend=device, shots=shots)\n",
    "job_monitor(job)\n",
    "res = job.result()"
   ]
  },
  {
   "cell_type": "markdown",
   "metadata": {},
   "source": [
    "Success rate of BV2 without assertion"
   ]
  },
  {
   "cell_type": "code",
   "execution_count": 15,
   "metadata": {},
   "outputs": [
    {
     "name": "stdout",
     "output_type": "stream",
     "text": [
      "total_count =  8192 success_count =  7566 success_rate =  92.3583984375 %\n"
     ]
    }
   ],
   "source": [
    "calcSuccessrate(res.get_counts(0), [\"10\"], 0)"
   ]
  },
  {
   "cell_type": "markdown",
   "metadata": {},
   "source": [
    "Success rate of BV2 with assertion"
   ]
  },
  {
   "cell_type": "code",
   "execution_count": 16,
   "metadata": {},
   "outputs": [
    {
     "name": "stdout",
     "output_type": "stream",
     "text": [
      "total_count =  7867 success_count =  6896 success_rate =  87.65730265666708 %\n"
     ]
    }
   ],
   "source": [
    "calcSuccessrate(res.get_counts(1), [\"0 10\"], 1)"
   ]
  },
  {
   "cell_type": "markdown",
   "metadata": {},
   "source": [
    "Success rate of BV3 without assertion"
   ]
  },
  {
   "cell_type": "code",
   "execution_count": 17,
   "metadata": {},
   "outputs": [
    {
     "name": "stdout",
     "output_type": "stream",
     "text": [
      "total_count =  8192 success_count =  6448 success_rate =  78.7109375 %\n"
     ]
    }
   ],
   "source": [
    "calcSuccessrate(res.get_counts(2), [\"110\"], 0)"
   ]
  },
  {
   "cell_type": "markdown",
   "metadata": {},
   "source": [
    "Success rate of BV3 with assertion"
   ]
  },
  {
   "cell_type": "code",
   "execution_count": 18,
   "metadata": {},
   "outputs": [
    {
     "name": "stdout",
     "output_type": "stream",
     "text": [
      "total_count =  7658 success_count =  5476 success_rate =  71.50692086706711 %\n"
     ]
    }
   ],
   "source": [
    "calcSuccessrate(res.get_counts(3), [\"0 110\"], 1)"
   ]
  },
  {
   "cell_type": "code",
   "execution_count": null,
   "metadata": {},
   "outputs": [],
   "source": []
  }
 ],
 "metadata": {
  "kernelspec": {
   "display_name": "Python 3",
   "language": "python",
   "name": "python3"
  },
  "language_info": {
   "codemirror_mode": {
    "name": "ipython",
    "version": 3
   },
   "file_extension": ".py",
   "mimetype": "text/x-python",
   "name": "python",
   "nbconvert_exporter": "python",
   "pygments_lexer": "ipython3",
   "version": "3.7.3"
  }
 },
 "nbformat": 4,
 "nbformat_minor": 2
}
