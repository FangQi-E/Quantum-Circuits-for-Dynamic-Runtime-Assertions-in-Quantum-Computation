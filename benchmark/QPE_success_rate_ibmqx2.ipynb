{
 "cells": [
  {
   "cell_type": "code",
   "execution_count": 1,
   "metadata": {
    "scrolled": true
   },
   "outputs": [
    {
     "data": {
      "text/plain": [
       "{'qiskit-terra': '0.10.0',\n",
       " 'qiskit-aer': '0.3.2',\n",
       " 'qiskit-ignis': '0.2.0',\n",
       " 'qiskit-ibmq-provider': '0.3.3',\n",
       " 'qiskit-aqua': '0.6.1',\n",
       " 'qiskit': '0.13.0'}"
      ]
     },
     "execution_count": 1,
     "metadata": {},
     "output_type": "execute_result"
    }
   ],
   "source": [
    "from qiskit import IBMQ\n",
    "import qiskit\n",
    "qiskit.__qiskit_version__"
   ]
  },
  {
   "cell_type": "code",
   "execution_count": 2,
   "metadata": {},
   "outputs": [
    {
     "data": {
      "text/plain": [
       "[<IBMQSimulator('ibmq_qasm_simulator') from IBMQ(hub='ibm-q', group='open', project='main')>,\n",
       " <IBMQBackend('ibmqx2') from IBMQ(hub='ibm-q', group='open', project='main')>,\n",
       " <IBMQBackend('ibmq_16_melbourne') from IBMQ(hub='ibm-q', group='open', project='main')>,\n",
       " <IBMQBackend('ibmq_vigo') from IBMQ(hub='ibm-q', group='open', project='main')>,\n",
       " <IBMQBackend('ibmq_ourense') from IBMQ(hub='ibm-q', group='open', project='main')>,\n",
       " <IBMQBackend('ibmq_london') from IBMQ(hub='ibm-q', group='open', project='main')>,\n",
       " <IBMQBackend('ibmq_burlington') from IBMQ(hub='ibm-q', group='open', project='main')>,\n",
       " <IBMQBackend('ibmq_essex') from IBMQ(hub='ibm-q', group='open', project='main')>,\n",
       " <IBMQBackend('ibmq_armonk') from IBMQ(hub='ibm-q', group='open', project='main')>]"
      ]
     },
     "execution_count": 2,
     "metadata": {},
     "output_type": "execute_result"
    }
   ],
   "source": [
    "provider = IBMQ.load_account()\n",
    "#change the provider based on your Qiskit account\n",
    "#provider = IBMQ.get_provider(hub='ibm-q-ncsu', group='nc-state', project='on-boarding')\n",
    "#if you do not have access to the twenty qubit machine, use this publically available ibmqx2 instead\n",
    "provider = IBMQ.get_provider(hub='ibm-q', group='open', project='main')\n",
    "provider.backends()"
   ]
  },
  {
   "cell_type": "code",
   "execution_count": 3,
   "metadata": {},
   "outputs": [],
   "source": [
    "from qiskit import *\n",
    "from qiskit.compiler import transpile\n",
    "from qiskit.visualization import plot_histogram\n",
    "from qiskit.tools.monitor import job_monitor, backend_monitor, backend_overview\n",
    "from qiskit.providers.aer import noise\n",
    "import math\n",
    "\n",
    "#Include our assertion function\n",
    "from qiskit.compiler.assertion import classical_assertion, superposition_assertion, entanglement_assertion, calcSuccessrate"
   ]
  },
  {
   "cell_type": "code",
   "execution_count": 4,
   "metadata": {},
   "outputs": [
    {
     "name": "stdout",
     "output_type": "stream",
     "text": [
      "ibmqx2\n",
      "======\n",
      "Configuration\n",
      "-------------\n",
      "    n_qubits: 5\n",
      "    operational: True\n",
      "    status_msg: active\n",
      "    pending_jobs: 86\n",
      "    backend_version: 2.0.2\n",
      "    basis_gates: ['u1', 'u2', 'u3', 'cx', 'id']\n",
      "    local: False\n",
      "    simulator: False\n",
      "    description: 5 qubit device\n",
      "    backend_name: ibmqx2\n",
      "    online_date: 2017-01-24T05:00:00+00:00\n",
      "    credits_required: True\n",
      "    allow_object_storage: True\n",
      "    open_pulse: False\n",
      "    allow_q_object: True\n",
      "    quantum_volume: 8\n",
      "    conditional: False\n",
      "    allow_q_circuit: False\n",
      "    sample_name: sparrow\n",
      "    coupling_map: [[0, 1], [0, 2], [1, 0], [1, 2], [2, 0], [2, 1], [2, 3], [2, 4], [3, 2], [3, 4], [4, 2], [4, 3]]\n",
      "    url: None\n",
      "    max_shots: 8192\n",
      "    memory: True\n",
      "    max_experiments: 75\n",
      "    n_registers: 1\n",
      "\n",
      "Qubits [Name / Freq / T1 / T2 / U1 err / U2 err / U3 err / Readout err]\n",
      "-----------------------------------------------------------------------\n",
      "    Q0 / 5.28627 GHz / 50.31548 µs / 53.02446 µs / 0.0 / 0.00074 / 0.00147 / 0.019\n",
      "    Q1 / 5.2379 GHz / 73.73208 µs / 56.56405 µs / 0.0 / 0.00051 / 0.00103 / 0.0105\n",
      "    Q2 / 5.0303 GHz / 67.88818 µs / 73.08468 µs / 0.0 / 0.00035 / 0.00071 / 0.0155\n",
      "    Q3 / 5.29533 GHz / 47.32753 µs / 28.03521 µs / 0.0 / 0.00073 / 0.00146 / 0.05\n",
      "    Q4 / 5.08453 GHz / 32.95173 µs / 28.16845 µs / 0.0 / 0.00099 / 0.00197 / 0.026\n",
      "\n",
      "Multi-Qubit Gates [Name / Type / Gate Error]\n",
      "--------------------------------------------\n",
      "    cx0_1 / cx / 0.01601\n",
      "    cx0_2 / cx / 0.01981\n",
      "    cx1_0 / cx / 0.01601\n",
      "    cx1_2 / cx / 0.01267\n",
      "    cx2_0 / cx / 0.01981\n",
      "    cx2_1 / cx / 0.01267\n",
      "    cx2_3 / cx / 0.01437\n",
      "    cx2_4 / cx / 0.01325\n",
      "    cx3_2 / cx / 0.01437\n",
      "    cx3_4 / cx / 0.0279\n",
      "    cx4_2 / cx / 0.01325\n",
      "    cx4_3 / cx / 0.0279\n"
     ]
    },
    {
     "data": {
      "text/plain": [
       "<IBMQBackend('ibmqx2') from IBMQ(hub='ibm-q', group='open', project='main')>"
      ]
     },
     "execution_count": 4,
     "metadata": {},
     "output_type": "execute_result"
    }
   ],
   "source": [
    "#we used ibmq_20_tokyo for our experiment, however, that backend has retired. So we can use the ibmqx2 instead\n",
    "device = provider.get_backend('ibmqx2')\n",
    "backend_monitor(device)\n",
    "device"
   ]
  },
  {
   "cell_type": "code",
   "execution_count": 5,
   "metadata": {},
   "outputs": [],
   "source": [
    "transQcList = []\n",
    "pi = math.pi"
   ]
  },
  {
   "cell_type": "code",
   "execution_count": 6,
   "metadata": {},
   "outputs": [],
   "source": [
    "import numpy as np\n",
    "def input_state(circ, nqubits, value):\n",
    "    for j in range(nqubits):\n",
    "        circ.h(j)\n",
    "        circ.u1(-value * math.pi/float(2**(j)), j)\n",
    "def qft(circ, q, n):\n",
    "    \"\"\"n-qubit QFT on q in circ.\"\"\"\n",
    "    for j in range(n):\n",
    "        for k in range(j):\n",
    "            circ.cu1(np.pi / float(2**(j - k)), q[j], q[k])\n",
    "        circ.h(q[j])\n",
    "        \n",
    "def qpe(value):\n",
    "    q = QuantumRegister(4)\n",
    "    c = ClassicalRegister(4)\n",
    "    circuit = QuantumCircuit(q,c)\n",
    "\n",
    "    input_state(circuit, 4, value)\n",
    "\n",
    "\n",
    "    qft(circuit, q, 4)\n",
    "\n",
    "    for k in range(4):\n",
    "        circuit.measure(q[k],c[k])\n",
    "\n",
    "    trans_qc = transpile(circuit, backend=device, optimization_level = 3)\n",
    "    #print(\"QPE circuit size =\",trans_qc.size(),\"depth = \",trans_qc.depth(), \"width = \",trans_qc.width(), \" CNOT =\",num_cnots, \"subcircuits =\",trans_qc.num_tensor_factors())\n",
    "    num_cnots = trans_qc.count_ops()['cx']\n",
    "    return trans_qc, num_cnots\n",
    "\n",
    "def qpe_assertion(value):\n",
    "    q = QuantumRegister(4)\n",
    "    c = ClassicalRegister(4)\n",
    "    circuit = QuantumCircuit(q,c)\n",
    "\n",
    "    input_state(circuit, 4, value)\n",
    "        \n",
    "\n",
    "    qft(circuit, q, 4)\n",
    "    qubitList = [q[3]]\n",
    "    \n",
    "    assertion_value = int(\"{0:04b}\".format(value)[0])\n",
    "    #print(\"{0:04b}\".format(value))\n",
    "    #print(assertion_value)\n",
    "    classical_assertion(circuit, qubitList, assertion_value)\n",
    "\n",
    "    for k in range(4):\n",
    "        circuit.measure(q[k],c[k])\n",
    "\n",
    "        \n",
    "    trans_qc = transpile(circuit, backend=device, optimization_level = 3)\n",
    "    num_cnots = trans_qc.count_ops()['cx']\n",
    "    #print(\"QPE circuit with assertion size =\",trans_qc.size(),\"depth = \",trans_qc.depth(), \"width = \",trans_qc.width(), \"CNOT =\", num_cnots , \"subcircuits =\",trans_qc.num_tensor_factors())\n",
    "    return trans_qc, num_cnots"
   ]
  },
  {
   "cell_type": "code",
   "execution_count": 7,
   "metadata": {},
   "outputs": [],
   "source": [
    "def qpeExperiment(value):\n",
    "    #This function run the transpiler multiple times and selects the mapping with fewest SWAP gates\n",
    "    min_cnots = -1\n",
    "    num_cnots_original = -1\n",
    "    for i in range(10):\n",
    "        trans_qc, num_cnots = qpe(value)\n",
    "        if min_cnots < 0:\n",
    "            min_cnots = num_cnots\n",
    "        elif (num_cnots < min_cnots) and (min_cnots >= 0):\n",
    "            min_cnots = num_cnots\n",
    "    while 1:\n",
    "        trans_qc, num_cnots = qpe(value)\n",
    "        if num_cnots == min_cnots:\n",
    "            print(\"\\nnumber of CNOTs in circuit without assertion: \", num_cnots)\n",
    "            num_cnots_original = num_cnots\n",
    "            transQcList.append(trans_qc)\n",
    "            break\n",
    "            \n",
    "    min_cnots = -1\n",
    "    for i in range(20):\n",
    "        trans_qc, num_cnots = qpe_assertion(value)\n",
    "        if min_cnots < 0:\n",
    "            min_cnots = num_cnots\n",
    "        elif (num_cnots < min_cnots) and (min_cnots >= 0):\n",
    "            min_cnots = num_cnots\n",
    "    while 1:\n",
    "        trans_qc, num_cnots = qpe_assertion(value)\n",
    "        if num_cnots == min_cnots:\n",
    "            print(\"number of CNOTs in circuit with assertion: \", num_cnots)\n",
    "            percent = abs(1 - num_cnots_original/num_cnots) * 100\n",
    "            print(\"    Percentage of the assertion circuit size in total size: \", percent, \"%\")\n",
    "            if percent > 15:\n",
    "                print(\"    Warning: assertion circuit size is comparable to circuit size, may lead to lower success rate.\")\n",
    "            transQcList.append(trans_qc)\n",
    "            break\n"
   ]
  },
  {
   "cell_type": "code",
   "execution_count": 8,
   "metadata": {},
   "outputs": [
    {
     "name": "stdout",
     "output_type": "stream",
     "text": [
      "\n",
      "number of CNOTs in circuit without assertion:  16\n",
      "number of CNOTs in circuit with assertion:  17\n",
      "    Percentage of the assertion circuit size in total size:  5.882352941176472 %\n",
      "\n",
      "number of CNOTs in circuit without assertion:  16\n",
      "number of CNOTs in circuit with assertion:  17\n",
      "    Percentage of the assertion circuit size in total size:  5.882352941176472 %\n",
      "\n",
      "number of CNOTs in circuit without assertion:  16\n",
      "number of CNOTs in circuit with assertion:  17\n",
      "    Percentage of the assertion circuit size in total size:  5.882352941176472 %\n",
      "\n",
      "number of CNOTs in circuit without assertion:  17\n",
      "number of CNOTs in circuit with assertion:  17\n",
      "    Percentage of the assertion circuit size in total size:  0.0 %\n",
      "\n",
      "number of CNOTs in circuit without assertion:  16\n",
      "number of CNOTs in circuit with assertion:  17\n",
      "    Percentage of the assertion circuit size in total size:  5.882352941176472 %\n",
      "\n",
      "number of CNOTs in circuit without assertion:  16\n",
      "number of CNOTs in circuit with assertion:  17\n",
      "    Percentage of the assertion circuit size in total size:  5.882352941176472 %\n",
      "\n",
      "number of CNOTs in circuit without assertion:  16\n",
      "number of CNOTs in circuit with assertion:  17\n",
      "    Percentage of the assertion circuit size in total size:  5.882352941176472 %\n",
      "\n",
      "number of CNOTs in circuit without assertion:  16\n",
      "number of CNOTs in circuit with assertion:  17\n",
      "    Percentage of the assertion circuit size in total size:  5.882352941176472 %\n"
     ]
    }
   ],
   "source": [
    "qpeExperiment(0)\n",
    "qpeExperiment(1)\n",
    "qpeExperiment(8)\n",
    "qpeExperiment(3)\n",
    "qpeExperiment(12)\n",
    "qpeExperiment(7)\n",
    "qpeExperiment(14)\n",
    "qpeExperiment(15)"
   ]
  },
  {
   "cell_type": "code",
   "execution_count": 11,
   "metadata": {},
   "outputs": [
    {
     "name": "stdout",
     "output_type": "stream",
     "text": [
      "Job Status: job has successfully run\n"
     ]
    }
   ],
   "source": [
    "shots = 8192\n",
    "#execute the job on real device\n",
    "job = execute(transQcList, backend=device, shots=shots)\n",
    "job_monitor(job)\n",
    "res = job.result()"
   ]
  },
  {
   "cell_type": "markdown",
   "metadata": {},
   "source": [
    "Success rate of output state |0000> without assertion"
   ]
  },
  {
   "cell_type": "code",
   "execution_count": 12,
   "metadata": {},
   "outputs": [
    {
     "name": "stdout",
     "output_type": "stream",
     "text": [
      "total_count =  8192 success_count =  2818 success_rate =  34.3994140625 %\n"
     ]
    }
   ],
   "source": [
    "calcSuccessrate(res.get_counts(0), [\"0000\"], 0)"
   ]
  },
  {
   "cell_type": "markdown",
   "metadata": {},
   "source": [
    "Success rate of output state |0000> with assertion"
   ]
  },
  {
   "cell_type": "code",
   "execution_count": 13,
   "metadata": {},
   "outputs": [
    {
     "name": "stdout",
     "output_type": "stream",
     "text": [
      "total_count =  5760 success_count =  4287 success_rate =  74.42708333333333 %\n"
     ]
    }
   ],
   "source": [
    "calcSuccessrate(res.get_counts(1), [\"0 0000\"], 1)"
   ]
  },
  {
   "cell_type": "markdown",
   "metadata": {},
   "source": [
    "Success rate of output state |0001> without assertion"
   ]
  },
  {
   "cell_type": "code",
   "execution_count": 14,
   "metadata": {},
   "outputs": [
    {
     "name": "stdout",
     "output_type": "stream",
     "text": [
      "total_count =  8192 success_count =  2202 success_rate =  26.8798828125 %\n"
     ]
    }
   ],
   "source": [
    "calcSuccessrate(res.get_counts(2), [\"0001\"], 0)"
   ]
  },
  {
   "cell_type": "markdown",
   "metadata": {},
   "source": [
    "Success rate of output state |0001> with assertion"
   ]
  },
  {
   "cell_type": "code",
   "execution_count": 15,
   "metadata": {},
   "outputs": [
    {
     "name": "stdout",
     "output_type": "stream",
     "text": [
      "total_count =  5468 success_count =  3294 success_rate =  60.24140453547915 %\n"
     ]
    }
   ],
   "source": [
    "calcSuccessrate(res.get_counts(3), [\"0 0001\"], 1)"
   ]
  },
  {
   "cell_type": "markdown",
   "metadata": {},
   "source": [
    "Success rate of output state |1000> without assertion"
   ]
  },
  {
   "cell_type": "code",
   "execution_count": 16,
   "metadata": {},
   "outputs": [
    {
     "name": "stdout",
     "output_type": "stream",
     "text": [
      "total_count =  8192 success_count =  1761 success_rate =  21.49658203125 %\n"
     ]
    }
   ],
   "source": [
    "calcSuccessrate(res.get_counts(4), [\"1000\"], 0)"
   ]
  },
  {
   "cell_type": "markdown",
   "metadata": {},
   "source": [
    "Success rate of output state |1000> with assertion"
   ]
  },
  {
   "cell_type": "code",
   "execution_count": 17,
   "metadata": {},
   "outputs": [
    {
     "name": "stdout",
     "output_type": "stream",
     "text": [
      "total_count =  5673 success_count =  2987 success_rate =  52.652917327692585 %\n"
     ]
    }
   ],
   "source": [
    "calcSuccessrate(res.get_counts(5), [\"0 1000\"], 1)"
   ]
  },
  {
   "cell_type": "markdown",
   "metadata": {},
   "source": [
    "Success rate of output state |0011> without assertion"
   ]
  },
  {
   "cell_type": "code",
   "execution_count": 18,
   "metadata": {},
   "outputs": [
    {
     "name": "stdout",
     "output_type": "stream",
     "text": [
      "total_count =  8192 success_count =  3558 success_rate =  43.4326171875 %\n"
     ]
    }
   ],
   "source": [
    "calcSuccessrate(res.get_counts(6), [\"0011\"], 0)"
   ]
  },
  {
   "cell_type": "markdown",
   "metadata": {},
   "source": [
    "Success rate of output state |0011> with assertion"
   ]
  },
  {
   "cell_type": "code",
   "execution_count": 19,
   "metadata": {},
   "outputs": [
    {
     "name": "stdout",
     "output_type": "stream",
     "text": [
      "total_count =  5905 success_count =  3202 success_rate =  54.22523285351397 %\n"
     ]
    }
   ],
   "source": [
    "calcSuccessrate(res.get_counts(7), [\"0 0011\"], 1)"
   ]
  },
  {
   "cell_type": "markdown",
   "metadata": {},
   "source": [
    "Success rate of output state |1100> without assertion"
   ]
  },
  {
   "cell_type": "code",
   "execution_count": 20,
   "metadata": {},
   "outputs": [
    {
     "name": "stdout",
     "output_type": "stream",
     "text": [
      "total_count =  8192 success_count =  2035 success_rate =  24.84130859375 %\n"
     ]
    }
   ],
   "source": [
    "calcSuccessrate(res.get_counts(8), [\"1100\"], 0)"
   ]
  },
  {
   "cell_type": "markdown",
   "metadata": {},
   "source": [
    "Success rate of output state |1100> with assertion"
   ]
  },
  {
   "cell_type": "code",
   "execution_count": 21,
   "metadata": {},
   "outputs": [
    {
     "name": "stdout",
     "output_type": "stream",
     "text": [
      "total_count =  6273 success_count =  2446 success_rate =  38.99250757213454 %\n"
     ]
    }
   ],
   "source": [
    "calcSuccessrate(res.get_counts(9), [\"0 1100\"], 1)"
   ]
  },
  {
   "cell_type": "markdown",
   "metadata": {},
   "source": [
    "Success rate of output state |0111> without assertion"
   ]
  },
  {
   "cell_type": "code",
   "execution_count": 22,
   "metadata": {},
   "outputs": [
    {
     "name": "stdout",
     "output_type": "stream",
     "text": [
      "total_count =  8192 success_count =  1382 success_rate =  16.8701171875 %\n"
     ]
    }
   ],
   "source": [
    "calcSuccessrate(res.get_counts(10), [\"0111\"], 0)"
   ]
  },
  {
   "cell_type": "markdown",
   "metadata": {},
   "source": [
    "Success rate of output state |0111> with assertion"
   ]
  },
  {
   "cell_type": "code",
   "execution_count": 23,
   "metadata": {},
   "outputs": [
    {
     "name": "stdout",
     "output_type": "stream",
     "text": [
      "total_count =  6201 success_count =  2787 success_rate =  44.94436381228834 %\n"
     ]
    }
   ],
   "source": [
    "calcSuccessrate(res.get_counts(11), [\"0 0111\"], 1)"
   ]
  },
  {
   "cell_type": "markdown",
   "metadata": {},
   "source": [
    "Success rate of output state |1110> without assertion"
   ]
  },
  {
   "cell_type": "code",
   "execution_count": 24,
   "metadata": {},
   "outputs": [
    {
     "name": "stdout",
     "output_type": "stream",
     "text": [
      "total_count =  8192 success_count =  1811 success_rate =  22.10693359375 %\n"
     ]
    }
   ],
   "source": [
    "calcSuccessrate(res.get_counts(12), [\"1110\"], 0)"
   ]
  },
  {
   "cell_type": "markdown",
   "metadata": {},
   "source": [
    "Success rate of output state |1110> with assertion"
   ]
  },
  {
   "cell_type": "code",
   "execution_count": 25,
   "metadata": {},
   "outputs": [
    {
     "name": "stdout",
     "output_type": "stream",
     "text": [
      "total_count =  6076 success_count =  3164 success_rate =  52.07373271889401 %\n"
     ]
    }
   ],
   "source": [
    "calcSuccessrate(res.get_counts(13), [\"0 1110\"], 1)"
   ]
  },
  {
   "cell_type": "markdown",
   "metadata": {},
   "source": [
    "Success rate of output state |1111> without assertion"
   ]
  },
  {
   "cell_type": "code",
   "execution_count": 26,
   "metadata": {},
   "outputs": [
    {
     "name": "stdout",
     "output_type": "stream",
     "text": [
      "total_count =  8192 success_count =  1683 success_rate =  20.54443359375 %\n"
     ]
    }
   ],
   "source": [
    "calcSuccessrate(res.get_counts(14), [\"1111\"], 0)"
   ]
  },
  {
   "cell_type": "markdown",
   "metadata": {},
   "source": [
    "Success rate of output state |1111> with assertion"
   ]
  },
  {
   "cell_type": "code",
   "execution_count": 27,
   "metadata": {},
   "outputs": [
    {
     "name": "stdout",
     "output_type": "stream",
     "text": [
      "total_count =  5855 success_count =  2687 success_rate =  45.89239965841161 %\n"
     ]
    }
   ],
   "source": [
    "calcSuccessrate(res.get_counts(15), [\"0 1111\"], 1)"
   ]
  }
 ],
 "metadata": {
  "kernelspec": {
   "display_name": "Python 3",
   "language": "python",
   "name": "python3"
  },
  "language_info": {
   "codemirror_mode": {
    "name": "ipython",
    "version": 3
   },
   "file_extension": ".py",
   "mimetype": "text/x-python",
   "name": "python",
   "nbconvert_exporter": "python",
   "pygments_lexer": "ipython3",
   "version": "3.7.3"
  }
 },
 "nbformat": 4,
 "nbformat_minor": 2
}
