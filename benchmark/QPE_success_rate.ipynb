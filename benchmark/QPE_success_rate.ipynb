{
 "cells": [
  {
   "cell_type": "code",
   "execution_count": 1,
   "metadata": {
    "scrolled": true
   },
   "outputs": [
    {
     "data": {
      "text/plain": [
       "{'qiskit-terra': '0.10.0',\n",
       " 'qiskit-aer': '0.3.2',\n",
       " 'qiskit-ignis': '0.2.0',\n",
       " 'qiskit-ibmq-provider': '0.3.3',\n",
       " 'qiskit-aqua': '0.6.1',\n",
       " 'qiskit': '0.13.0'}"
      ]
     },
     "execution_count": 1,
     "metadata": {},
     "output_type": "execute_result"
    }
   ],
   "source": [
    "from qiskit import IBMQ\n",
    "import qiskit\n",
    "qiskit.__qiskit_version__"
   ]
  },
  {
   "cell_type": "code",
   "execution_count": 2,
   "metadata": {},
   "outputs": [
    {
     "data": {
      "text/plain": [
       "[<IBMQSimulator('ibmq_qasm_simulator') from IBMQ(hub='ibm-q-ncsu', group='nc-state', project='on-boarding')>,\n",
       " <IBMQBackend('ibmq_20_tokyo') from IBMQ(hub='ibm-q-ncsu', group='nc-state', project='on-boarding')>,\n",
       " <IBMQBackend('ibmq_poughkeepsie') from IBMQ(hub='ibm-q-ncsu', group='nc-state', project='on-boarding')>,\n",
       " <IBMQBackend('ibmq_boeblingen') from IBMQ(hub='ibm-q-ncsu', group='nc-state', project='on-boarding')>,\n",
       " <IBMQBackend('ibmq_vigo') from IBMQ(hub='ibm-q-ncsu', group='nc-state', project='on-boarding')>,\n",
       " <IBMQBackend('ibmq_ourense') from IBMQ(hub='ibm-q-ncsu', group='nc-state', project='on-boarding')>,\n",
       " <IBMQBackend('ibmq_valencia') from IBMQ(hub='ibm-q-ncsu', group='nc-state', project='on-boarding')>,\n",
       " <IBMQBackend('ibmq_london') from IBMQ(hub='ibm-q-ncsu', group='nc-state', project='on-boarding')>,\n",
       " <IBMQBackend('ibmq_burlington') from IBMQ(hub='ibm-q-ncsu', group='nc-state', project='on-boarding')>,\n",
       " <IBMQBackend('ibmq_almaden') from IBMQ(hub='ibm-q-ncsu', group='nc-state', project='on-boarding')>,\n",
       " <IBMQBackend('ibmq_rochester') from IBMQ(hub='ibm-q-ncsu', group='nc-state', project='on-boarding')>,\n",
       " <IBMQBackend('ibmq_essex') from IBMQ(hub='ibm-q-ncsu', group='nc-state', project='on-boarding')>]"
      ]
     },
     "execution_count": 2,
     "metadata": {},
     "output_type": "execute_result"
    }
   ],
   "source": [
    "provider = IBMQ.load_account()\n",
    "#change the provider based on your Qiskit account\n",
    "provider = IBMQ.get_provider(hub='ibm-q-ncsu', group='nc-state', project='on-boarding')\n",
    "#if you do not have access to the twenty qubit machine, use this publically available 14 qubit machine instead\n",
    "#provider = IBMQ.get_provider(hub='ibm-q', group='open', project='main')\n",
    "provider.backends()"
   ]
  },
  {
   "cell_type": "code",
   "execution_count": 3,
   "metadata": {},
   "outputs": [],
   "source": [
    "from qiskit import *\n",
    "from qiskit.compiler import transpile\n",
    "from qiskit.visualization import plot_histogram\n",
    "from qiskit.tools.monitor import job_monitor, backend_monitor, backend_overview\n",
    "from qiskit.providers.aer import noise\n",
    "import math\n",
    "\n",
    "#Include our assertion function\n",
    "from qiskit.compiler.assertion import classical_assertion, superposition_assertion, entanglement_assertion, calcSuccessrate"
   ]
  },
  {
   "cell_type": "code",
   "execution_count": 4,
   "metadata": {},
   "outputs": [
    {
     "name": "stdout",
     "output_type": "stream",
     "text": [
      "ibmq_boeblingen\n",
      "===============\n",
      "Configuration\n",
      "-------------\n",
      "    n_qubits: 20\n",
      "    operational: True\n",
      "    status_msg: active\n",
      "    pending_jobs: 88\n",
      "    backend_version: 1.0.3\n",
      "    basis_gates: ['u1', 'u2', 'u3', 'cx', 'id']\n",
      "    local: False\n",
      "    simulator: False\n",
      "    credits_required: True\n",
      "    online_date: 2019-07-03T04:00:00+00:00\n",
      "    quantum_volume: 16\n",
      "    open_pulse: True\n",
      "    description: 20 qubit device Boeblingen\n",
      "    allow_q_object: True\n",
      "    meas_levels: [1, 2]\n",
      "    url: None\n",
      "    hamiltonian: {'description': 'Qubits are modelled as a two level system. Qubits are coupled through resonator buses. The provided Hamiltonian has been projected into the zero excitation subspace of the resonator buses leading to an effective qubit-qubit flip-flop interaction. The qubit resonance frequencies in the Hamiltonian are the cavity dressed frequencies and not exactly what is returned by the backend defaults, which also includes the dressing due to the qubit-qubit interactions.\\nWarning: Currently not all system Hamiltonian information is available to the public, missing values have been replaced with 0.\\n', 'h_latex': '\\\\begin{align} \\\\mathcal{H}/\\\\hbar = & \\\\sum_{i=0}^{19}\\\\left(\\\\frac{\\\\omega_{q,i}}{2} (\\\\mathbb{1}_i-\\\\sigma_i^{z})+ \\\\Omega_{d,i}D_i(t)\\\\sigma_i^{X}\\\\right) \\\\\\\\ & + J_{11,16}(\\\\sigma_{11}^{+}\\\\sigma_{16}^{-}+\\\\sigma_{11}^{-}\\\\sigma_{16}^{+}) + J_{10,11}(\\\\sigma_{10}^{+}\\\\sigma_{11}^{-}+\\\\sigma_{10}^{-}\\\\sigma_{11}^{+}) + J_{5,6}(\\\\sigma_{5}^{+}\\\\sigma_{6}^{-}+\\\\sigma_{5}^{-}\\\\sigma_{6}^{+}) + J_{7,12}(\\\\sigma_{7}^{+}\\\\sigma_{12}^{-}+\\\\sigma_{7}^{-}\\\\sigma_{12}^{+}) \\\\\\\\ & + J_{8,9}(\\\\sigma_{8}^{+}\\\\sigma_{9}^{-}+\\\\sigma_{8}^{-}\\\\sigma_{9}^{+}) + J_{15,16}(\\\\sigma_{15}^{+}\\\\sigma_{16}^{-}+\\\\sigma_{15}^{-}\\\\sigma_{16}^{+}) + J_{1,6}(\\\\sigma_{1}^{+}\\\\sigma_{6}^{-}+\\\\sigma_{1}^{-}\\\\sigma_{6}^{+}) + J_{18,19}(\\\\sigma_{18}^{+}\\\\sigma_{19}^{-}+\\\\sigma_{18}^{-}\\\\sigma_{19}^{+}) \\\\\\\\ & + J_{1,2}(\\\\sigma_{1}^{+}\\\\sigma_{2}^{-}+\\\\sigma_{1}^{-}\\\\sigma_{2}^{+}) + J_{16,17}(\\\\sigma_{16}^{+}\\\\sigma_{17}^{-}+\\\\sigma_{16}^{-}\\\\sigma_{17}^{+}) + J_{6,7}(\\\\sigma_{6}^{+}\\\\sigma_{7}^{-}+\\\\sigma_{6}^{-}\\\\sigma_{7}^{+}) + J_{12,13}(\\\\sigma_{12}^{+}\\\\sigma_{13}^{-}+\\\\sigma_{12}^{-}\\\\sigma_{13}^{+}) \\\\\\\\ & + J_{3,4}(\\\\sigma_{3}^{+}\\\\sigma_{4}^{-}+\\\\sigma_{3}^{-}\\\\sigma_{4}^{+}) + J_{9,14}(\\\\sigma_{9}^{+}\\\\sigma_{14}^{-}+\\\\sigma_{9}^{-}\\\\sigma_{14}^{+}) + J_{2,3}(\\\\sigma_{2}^{+}\\\\sigma_{3}^{-}+\\\\sigma_{2}^{-}\\\\sigma_{3}^{+}) + J_{11,12}(\\\\sigma_{11}^{+}\\\\sigma_{12}^{-}+\\\\sigma_{11}^{-}\\\\sigma_{12}^{+}) \\\\\\\\ & + J_{0,1}(\\\\sigma_{0}^{+}\\\\sigma_{1}^{-}+\\\\sigma_{0}^{-}\\\\sigma_{1}^{+}) + J_{17,18}(\\\\sigma_{17}^{+}\\\\sigma_{18}^{-}+\\\\sigma_{17}^{-}\\\\sigma_{18}^{+}) + J_{5,10}(\\\\sigma_{5}^{+}\\\\sigma_{10}^{-}+\\\\sigma_{5}^{-}\\\\sigma_{10}^{+}) + J_{13,14}(\\\\sigma_{13}^{+}\\\\sigma_{14}^{-}+\\\\sigma_{13}^{-}\\\\sigma_{14}^{+}) \\\\\\\\ & + J_{3,8}(\\\\sigma_{3}^{+}\\\\sigma_{8}^{-}+\\\\sigma_{3}^{-}\\\\sigma_{8}^{+}) + J_{13,18}(\\\\sigma_{13}^{+}\\\\sigma_{18}^{-}+\\\\sigma_{13}^{-}\\\\sigma_{18}^{+}) + J_{7,8}(\\\\sigma_{7}^{+}\\\\sigma_{8}^{-}+\\\\sigma_{7}^{-}\\\\sigma_{8}^{+}) \\\\\\\\ & + \\\\Omega_{d,0}(U_{0}^{(0,1)}(t))\\\\sigma_{0}^{X} + \\\\Omega_{d,1}(U_{1}^{(1,0)}(t)+U_{3}^{(1,6)}(t)+U_{2}^{(1,2)}(t))\\\\sigma_{1}^{X} \\\\\\\\ & + \\\\Omega_{d,2}(U_{4}^{(2,1)}(t)+U_{5}^{(2,3)}(t))\\\\sigma_{2}^{X} + \\\\Omega_{d,3}(U_{7}^{(3,4)}(t)+U_{6}^{(3,2)}(t)+U_{8}^{(3,8)}(t))\\\\sigma_{3}^{X} \\\\\\\\ & + \\\\Omega_{d,4}(U_{9}^{(4,3)}(t))\\\\sigma_{4}^{X} + \\\\Omega_{d,5}(U_{11}^{(5,10)}(t)+U_{10}^{(5,6)}(t))\\\\sigma_{5}^{X} \\\\\\\\ & + \\\\Omega_{d,6}(U_{14}^{(6,7)}(t)+U_{12}^{(6,1)}(t)+U_{13}^{(6,5)}(t))\\\\sigma_{6}^{X} + \\\\Omega_{d,7}(U_{15}^{(7,6)}(t)+U_{16}^{(7,8)}(t)+U_{17}^{(7,12)}(t))\\\\sigma_{7}^{X} \\\\\\\\ & + \\\\Omega_{d,8}(U_{19}^{(8,7)}(t)+U_{18}^{(8,3)}(t)+U_{20}^{(8,9)}(t))\\\\sigma_{8}^{X} + \\\\Omega_{d,9}(U_{21}^{(9,8)}(t)+U_{22}^{(9,14)}(t))\\\\sigma_{9}^{X} \\\\\\\\ & + \\\\Omega_{d,10}(U_{24}^{(10,11)}(t)+U_{23}^{(10,5)}(t))\\\\sigma_{10}^{X} + \\\\Omega_{d,11}(U_{25}^{(11,10)}(t)+U_{26}^{(11,12)}(t)+U_{27}^{(11,16)}(t))\\\\sigma_{11}^{X} \\\\\\\\ & + \\\\Omega_{d,12}(U_{28}^{(12,7)}(t)+U_{30}^{(12,13)}(t)+U_{29}^{(12,11)}(t))\\\\sigma_{12}^{X} + \\\\Omega_{d,13}(U_{31}^{(13,12)}(t)+U_{32}^{(13,14)}(t)+U_{33}^{(13,18)}(t))\\\\sigma_{13}^{X} \\\\\\\\ & + \\\\Omega_{d,14}(U_{34}^{(14,9)}(t)+U_{35}^{(14,13)}(t))\\\\sigma_{14}^{X} + \\\\Omega_{d,15}(U_{36}^{(15,16)}(t))\\\\sigma_{15}^{X} \\\\\\\\ & + \\\\Omega_{d,16}(U_{38}^{(16,15)}(t)+U_{39}^{(16,17)}(t)+U_{37}^{(16,11)}(t))\\\\sigma_{16}^{X} + \\\\Omega_{d,17}(U_{41}^{(17,18)}(t)+U_{40}^{(17,16)}(t))\\\\sigma_{17}^{X} \\\\\\\\ & + \\\\Omega_{d,18}(U_{42}^{(18,13)}(t)+U_{43}^{(18,17)}(t)+U_{44}^{(18,19)}(t))\\\\sigma_{18}^{X} + \\\\Omega_{d,19}(U_{45}^{(19,18)}(t))\\\\sigma_{19}^{X} \\\\\\\\ \\\\end{align}', 'h_str': ['_SUM[i,0,19,wq{i}/2*(I{i}-Z{i})]', '_SUM[i,0,19,omegad{i}*X{i}||D{i}]', 'jq11q16*Sp11*Sm16', 'jq11q16*Sm11*Sp16', 'jq10q11*Sp10*Sm11', 'jq10q11*Sm10*Sp11', 'jq5q6*Sp5*Sm6', 'jq5q6*Sm5*Sp6', 'jq7q12*Sp7*Sm12', 'jq7q12*Sm7*Sp12', 'jq8q9*Sp8*Sm9', 'jq8q9*Sm8*Sp9', 'jq15q16*Sp15*Sm16', 'jq15q16*Sm15*Sp16', 'jq1q6*Sp1*Sm6', 'jq1q6*Sm1*Sp6', 'jq18q19*Sp18*Sm19', 'jq18q19*Sm18*Sp19', 'jq1q2*Sp1*Sm2', 'jq1q2*Sm1*Sp2', 'jq16q17*Sp16*Sm17', 'jq16q17*Sm16*Sp17', 'jq6q7*Sp6*Sm7', 'jq6q7*Sm6*Sp7', 'jq12q13*Sp12*Sm13', 'jq12q13*Sm12*Sp13', 'jq3q4*Sp3*Sm4', 'jq3q4*Sm3*Sp4', 'jq9q14*Sp9*Sm14', 'jq9q14*Sm9*Sp14', 'jq2q3*Sp2*Sm3', 'jq2q3*Sm2*Sp3', 'jq11q12*Sp11*Sm12', 'jq11q12*Sm11*Sp12', 'jq0q1*Sp0*Sm1', 'jq0q1*Sm0*Sp1', 'jq17q18*Sp17*Sm18', 'jq17q18*Sm17*Sp18', 'jq5q10*Sp5*Sm10', 'jq5q10*Sm5*Sp10', 'jq13q14*Sp13*Sm14', 'jq13q14*Sm13*Sp14', 'jq3q8*Sp3*Sm8', 'jq3q8*Sm3*Sp8', 'jq13q18*Sp13*Sm18', 'jq13q18*Sm13*Sp18', 'jq7q8*Sp7*Sm8', 'jq7q8*Sm7*Sp8', 'omegad1*X0||U0', 'omegad0*X1||U1', 'omegad6*X1||U3', 'omegad2*X1||U2', 'omegad1*X2||U4', 'omegad3*X2||U5', 'omegad4*X3||U7', 'omegad2*X3||U6', 'omegad8*X3||U8', 'omegad3*X4||U9', 'omegad10*X5||U11', 'omegad6*X5||U10', 'omegad7*X6||U14', 'omegad1*X6||U12', 'omegad5*X6||U13', 'omegad6*X7||U15', 'omegad8*X7||U16', 'omegad12*X7||U17', 'omegad7*X8||U19', 'omegad3*X8||U18', 'omegad9*X8||U20', 'omegad8*X9||U21', 'omegad14*X9||U22', 'omegad11*X10||U24', 'omegad5*X10||U23', 'omegad10*X11||U25', 'omegad12*X11||U26', 'omegad16*X11||U27', 'omegad7*X12||U28', 'omegad13*X12||U30', 'omegad11*X12||U29', 'omegad12*X13||U31', 'omegad14*X13||U32', 'omegad18*X13||U33', 'omegad9*X14||U34', 'omegad13*X14||U35', 'omegad16*X15||U36', 'omegad15*X16||U38', 'omegad17*X16||U39', 'omegad11*X16||U37', 'omegad18*X17||U41', 'omegad16*X17||U40', 'omegad13*X18||U42', 'omegad17*X18||U43', 'omegad19*X18||U44', 'omegad18*X19||U45'], 'osc': {}, 'qub': {'0': 2, '1': 2, '2': 2, '3': 2, '4': 2, '5': 2, '6': 2, '7': 2, '8': 2, '9': 2, '10': 2, '11': 2, '12': 2, '13': 2, '14': 2, '15': 2, '16': 2, '17': 2, '18': 2, '19': 2}, 'vars': {'jq0q1': 0, 'jq10q11': 0, 'jq11q12': 0, 'jq11q16': 0, 'jq12q13': 0, 'jq13q14': 0, 'jq13q18': 0, 'jq15q16': 0, 'jq16q17': 0, 'jq17q18': 0, 'jq18q19': 0, 'jq1q2': 0, 'jq1q6': 0, 'jq2q3': 0, 'jq3q4': 0, 'jq3q8': 0, 'jq5q10': 0, 'jq5q6': 0, 'jq6q7': 0, 'jq7q12': 0, 'jq7q8': 0, 'jq8q9': 0, 'jq9q14': 0, 'omegad0': 0, 'omegad1': 0, 'omegad10': 0, 'omegad11': 0, 'omegad12': 0, 'omegad13': 0, 'omegad14': 0, 'omegad15': 0, 'omegad16': 0, 'omegad17': 0, 'omegad18': 0, 'omegad19': 0, 'omegad2': 0, 'omegad3': 0, 'omegad4': 0, 'omegad5': 0, 'omegad6': 0, 'omegad7': 0, 'omegad8': 0, 'omegad9': 0, 'wq0': 31.710621058694457, 'wq1': 30.456488599136993, 'wq10': 31.13510006138799, 'wq11': 28.41071998810702, 'wq12': 29.73493663912421, 'wq13': 29.126197871918528, 'wq14': 28.620512639896663, 'wq15': 28.791270942033382, 'wq16': 29.880455399982335, 'wq17': 28.838701974491663, 'wq18': 29.860430520227926, 'wq19': 31.638171186151403, 'wq2': 29.553952608350688, 'wq3': 29.997941887020666, 'wq4': 27.433583815889705, 'wq5': 30.860532428250742, 'wq6': 29.699863042503072, 'wq7': 28.56359400445444, 'wq8': 29.269922591874586, 'wq9': 29.946734109807387}}\n",
      "    allow_object_storage: True\n",
      "    max_experiments: 900\n",
      "    memory: True\n",
      "    conditional_latency: []\n",
      "    meas_kernels: ['boxcar']\n",
      "    dt: 3.5555555555555554\n",
      "    qubit_lo_range: [[4.7469020900051735, 5.346902090005173], [4.547300709774607, 5.147300709774607], [4.4036576455226255, 5.003657645522625], [4.474320733902758, 5.074320733902757], [4.066190471024667, 4.666190471024667], [4.611606282403837, 5.211606282403837], [4.426880012366662, 5.026880012366662], [4.246037178278949, 4.846037178278949], [4.358452864413982, 4.958452864413982], [4.4661707630345155, 5.066170763034515], [4.655305078430673, 5.2553050784306725], [4.221706522906946, 4.821706522906946], [4.432462148640927, 5.032462148640927], [4.335578364788476, 4.9355783647884754], [4.255096060463624, 4.855096060463624], [4.282273088322663, 4.882273088322663], [4.455622178744106, 5.055622178744105], [4.28982197159435, 4.889821971594349], [4.4524351201463706, 5.05243512014637], [4.7353713346635695, 5.335371334663569]]\n",
      "    sample_name: HexV2\n",
      "    u_channel_lo: [[{'scale': [1.0, 0.0], 'q': 1}], [{'scale': [1.0, 0.0], 'q': 0}], [{'scale': [1.0, 0.0], 'q': 2}], [{'scale': [1.0, 0.0], 'q': 6}], [{'scale': [1.0, 0.0], 'q': 1}], [{'scale': [1.0, 0.0], 'q': 3}], [{'scale': [1.0, 0.0], 'q': 2}], [{'scale': [1.0, 0.0], 'q': 4}], [{'scale': [1.0, 0.0], 'q': 8}], [{'scale': [1.0, 0.0], 'q': 3}], [{'scale': [1.0, 0.0], 'q': 6}], [{'scale': [1.0, 0.0], 'q': 10}], [{'scale': [1.0, 0.0], 'q': 1}], [{'scale': [1.0, 0.0], 'q': 5}], [{'scale': [1.0, 0.0], 'q': 7}], [{'scale': [1.0, 0.0], 'q': 6}], [{'scale': [1.0, 0.0], 'q': 8}], [{'scale': [1.0, 0.0], 'q': 12}], [{'scale': [1.0, 0.0], 'q': 3}], [{'scale': [1.0, 0.0], 'q': 7}], [{'scale': [1.0, 0.0], 'q': 9}], [{'scale': [1.0, 0.0], 'q': 8}], [{'scale': [1.0, 0.0], 'q': 14}], [{'scale': [1.0, 0.0], 'q': 5}], [{'scale': [1.0, 0.0], 'q': 11}], [{'scale': [1.0, 0.0], 'q': 10}], [{'scale': [1.0, 0.0], 'q': 12}], [{'scale': [1.0, 0.0], 'q': 16}], [{'scale': [1.0, 0.0], 'q': 7}], [{'scale': [1.0, 0.0], 'q': 11}], [{'scale': [1.0, 0.0], 'q': 13}], [{'scale': [1.0, 0.0], 'q': 12}], [{'scale': [1.0, 0.0], 'q': 14}], [{'scale': [1.0, 0.0], 'q': 18}], [{'scale': [1.0, 0.0], 'q': 9}], [{'scale': [1.0, 0.0], 'q': 13}], [{'scale': [1.0, 0.0], 'q': 16}], [{'scale': [1.0, 0.0], 'q': 11}], [{'scale': [1.0, 0.0], 'q': 15}], [{'scale': [1.0, 0.0], 'q': 17}], [{'scale': [1.0, 0.0], 'q': 16}], [{'scale': [1.0, 0.0], 'q': 18}], [{'scale': [1.0, 0.0], 'q': 13}], [{'scale': [1.0, 0.0], 'q': 17}], [{'scale': [1.0, 0.0], 'q': 19}], [{'scale': [1.0, 0.0], 'q': 18}]]\n",
      "    n_uchannels: 46\n",
      "    rep_times: [1000]\n",
      "    coupling_map: [[0, 1], [1, 0], [1, 2], [1, 6], [2, 1], [2, 3], [3, 2], [3, 4], [3, 8], [4, 3], [5, 6], [5, 10], [6, 1], [6, 5], [6, 7], [7, 6], [7, 8], [7, 12], [8, 3], [8, 7], [8, 9], [9, 8], [9, 14], [10, 5], [10, 11], [11, 10], [11, 12], [11, 16], [12, 7], [12, 11], [12, 13], [13, 12], [13, 14], [13, 18], [14, 9], [14, 13], [15, 16], [16, 11], [16, 15], [16, 17], [17, 16], [17, 18], [18, 13], [18, 17], [18, 19], [19, 18]]\n",
      "    meas_map: [[0, 1, 2, 3, 4, 5, 6, 7, 8, 9, 10, 11, 12, 13, 14, 15, 16, 17, 18, 19]]\n",
      "    acquisition_latency: []\n",
      "    backend_name: ibmq_boeblingen\n",
      "    discriminators: ['linear_discriminator', 'quadratic_discriminator']\n",
      "    meas_lo_range: [[6.994712006, 7.594712006], [6.779713403000001, 7.379713403], [6.926848078, 7.5268480779999996], [6.8374699230000004, 7.437469923], [6.890658781, 7.490658781], [6.708355500000001, 7.3083555], [6.851377353, 7.451377353], [6.740531036, 7.340531036], [7.013978215, 7.6139782149999995], [6.79917412, 7.39917412], [6.958808909, 7.558808909], [6.777617339, 7.3776173389999995], [6.907348522, 7.507348522], [6.84283313, 7.4428331299999995], [6.892647377, 7.492647377], [6.68180818, 7.28180818], [6.853627322, 7.453627322], [6.7356533270000005, 7.335653327], [6.994454291, 7.594454291], [6.8075499100000005, 7.40754991]]\n",
      "    max_shots: 8192\n",
      "    conditional: False\n",
      "    n_registers: 1\n",
      "    dtm: 3.5555555555555554\n",
      "    allow_q_circuit: False\n",
      "\n",
      "Qubits [Name / Freq / T1 / T2 / U1 err / U2 err / U3 err / Readout err]\n",
      "-----------------------------------------------------------------------\n",
      "    Q0 / 5.0469 GHz / 94.5781 µs / 151.83236 µs / 0.0 / 0.00026 / 0.00053 / 0.1\n",
      "    Q1 / 4.8473 GHz / 74.52727 µs / 102.71966 µs / 0.0 / 0.00042 / 0.00084 / 0.02667\n",
      "    Q2 / 4.70366 GHz / 80.70946 µs / 92.7578 µs / 0.0 / 0.00033 / 0.00065 / 0.07\n",
      "    Q3 / 4.77432 GHz / 59.12555 µs / 51.70323 µs / 0.0 / 0.00045 / 0.0009 / 0.025\n",
      "    Q4 / 4.36619 GHz / 64.75668 µs / 84.29123 µs / 0.0 / 0.00029 / 0.00057 / 0.05167\n",
      "    Q5 / 4.91161 GHz / 62.88606 µs / 50.42115 µs / 0.0 / 0.00068 / 0.00136 / 0.02833\n",
      "    Q6 / 4.72688 GHz / 49.47725 µs / 90.64071 µs / 0.0 / 0.00038 / 0.00076 / 0.05833\n",
      "    Q7 / 4.54604 GHz / 36.05718 µs / 60.56066 µs / 0.0 / 0.00029 / 0.00058 / 0.04667\n",
      "    Q8 / 4.65845 GHz / 65.47404 µs / 49.90581 µs / 0.0 / 0.00051 / 0.00101 / 0.05\n",
      "    Q9 / 4.76617 GHz / 37.31091 µs / 71.40234 µs / 0.0 / 0.00054 / 0.00108 / 0.06333\n",
      "    Q10 / 4.95531 GHz / 92.22873 µs / 120.00717 µs / 0.0 / 0.00093 / 0.00187 / 0.02333\n",
      "    Q11 / 4.52171 GHz / 126.71254 µs / 100.88277 µs / 0.0 / 0.00038 / 0.00076 / 0.02833\n",
      "    Q12 / 4.73246 GHz / 33.51474 µs / 54.83285 µs / 0.0 / 0.00054 / 0.00108 / 0.055\n",
      "    Q13 / 4.63558 GHz / 48.04977 µs / 52.08192 µs / 0.0 / 0.00063 / 0.00125 / 0.085\n",
      "    Q14 / 4.5551 GHz / 49.97561 µs / 41.79454 µs / 0.0 / 0.00169 / 0.00338 / 0.04667\n",
      "    Q15 / 4.58227 GHz / 74.22626 µs / 110.24345 µs / 0.0 / 0.00036 / 0.00072 / 0.025\n",
      "    Q16 / 4.75562 GHz / 72.61326 µs / 54.56649 µs / 0.0 / 0.0003 / 0.00061 / 0.025\n",
      "    Q17 / 4.58982 GHz / 87.89436 µs / 152.89134 µs / 0.0 / 0.00025 / 0.00051 / 0.01667\n",
      "    Q18 / 4.75244 GHz / 75.38667 µs / 64.9454 µs / 0.0 / 0.00044 / 0.00088 / 0.04333\n",
      "    Q19 / 5.03537 GHz / 89.8092 µs / 46.52164 µs / 0.0 / 0.00088 / 0.00176 / 0.03333\n",
      "\n",
      "Multi-Qubit Gates [Name / Type / Gate Error]\n",
      "--------------------------------------------\n",
      "    cx0_1 / cx / 0.01033\n",
      "    cx1_0 / cx / 0.01033\n",
      "    cx1_2 / cx / 0.00815\n",
      "    cx1_6 / cx / 0.03522\n",
      "    cx2_1 / cx / 0.00815\n",
      "    cx2_3 / cx / 0.00965\n",
      "    cx3_2 / cx / 0.00965\n",
      "    cx3_4 / cx / 0.01743\n",
      "    cx3_8 / cx / 0.00928\n",
      "    cx4_3 / cx / 0.01743\n",
      "    cx5_6 / cx / 0.01339\n",
      "    cx5_10 / cx / 0.01512\n",
      "    cx6_1 / cx / 0.03522\n",
      "    cx6_5 / cx / 0.01339\n",
      "    cx6_7 / cx / 0.00748\n",
      "    cx7_6 / cx / 0.00748\n",
      "    cx7_8 / cx / 0.00902\n",
      "    cx7_12 / cx / 0.00933\n",
      "    cx8_3 / cx / 0.00928\n",
      "    cx8_7 / cx / 0.00902\n",
      "    cx8_9 / cx / 0.01199\n",
      "    cx9_8 / cx / 0.01199\n",
      "    cx9_14 / cx / 0.02436\n",
      "    cx10_5 / cx / 0.01512\n",
      "    cx10_11 / cx / 0.014\n",
      "    cx11_10 / cx / 0.014\n",
      "    cx11_12 / cx / 0.0116\n",
      "    cx11_16 / cx / 0.01286\n",
      "    cx12_7 / cx / 0.00933\n",
      "    cx12_11 / cx / 0.0116\n",
      "    cx12_13 / cx / 0.01068\n",
      "    cx13_12 / cx / 0.01068\n",
      "    cx13_14 / cx / 0.01998\n",
      "    cx13_18 / cx / 0.02113\n",
      "    cx14_9 / cx / 0.02436\n",
      "    cx14_13 / cx / 0.01998\n",
      "    cx15_16 / cx / 0.00903\n",
      "    cx16_11 / cx / 0.01286\n",
      "    cx16_15 / cx / 0.00903\n",
      "    cx16_17 / cx / 0.00964\n",
      "    cx17_16 / cx / 0.00964\n",
      "    cx17_18 / cx / 0.01322\n",
      "    cx18_13 / cx / 0.02113\n",
      "    cx18_17 / cx / 0.01322\n",
      "    cx18_19 / cx / 0.02837\n",
      "    cx19_18 / cx / 0.02837\n"
     ]
    },
    {
     "data": {
      "text/plain": [
       "<IBMQBackend('ibmq_boeblingen') from IBMQ(hub='ibm-q-ncsu', group='nc-state', project='on-boarding')>"
      ]
     },
     "execution_count": 4,
     "metadata": {},
     "output_type": "execute_result"
    }
   ],
   "source": [
    "#we used ibmq_20_tokyo for our experiment, however, that backend has retired. So we can use the 20qubit boeblingen instead\n",
    "device = provider.get_backend('ibmq_boeblingen')\n",
    "backend_monitor(device)\n",
    "device"
   ]
  },
  {
   "cell_type": "code",
   "execution_count": 5,
   "metadata": {},
   "outputs": [],
   "source": [
    "transQcList = []\n",
    "\n",
    "pi = math.pi"
   ]
  },
  {
   "cell_type": "code",
   "execution_count": 6,
   "metadata": {},
   "outputs": [],
   "source": [
    "import numpy as np\n",
    "def input_state(circ, nqubits, value):\n",
    "    for j in range(nqubits):\n",
    "        circ.h(j)\n",
    "        circ.u1(-value * math.pi/float(2**(j)), j)\n",
    "def qft(circ, q, n):\n",
    "    \"\"\"n-qubit QFT on q in circ.\"\"\"\n",
    "    for j in range(n):\n",
    "        for k in range(j):\n",
    "            circ.cu1(np.pi / float(2**(j - k)), q[j], q[k])\n",
    "        circ.h(q[j])"
   ]
  },
  {
   "cell_type": "code",
   "execution_count": 7,
   "metadata": {},
   "outputs": [],
   "source": [
    "def qpeExperiment(value):\n",
    "    q = QuantumRegister(5)\n",
    "    c = ClassicalRegister(4)\n",
    "    circuit = QuantumCircuit(q,c)\n",
    "    \n",
    "    circuit.x(q[4])\n",
    "    input_state(circuit, 4, value)\n",
    "    \n",
    "    \n",
    "    qft(circuit, q, 4)\n",
    "\n",
    "    for k in range(4):\n",
    "        circuit.measure(q[k],c[k])\n",
    "    \n",
    "    trans_qc = transpile(circuit, backend=device, optimization_level = 3)\n",
    "    transQcList.append(trans_qc)\n",
    "    print(\"QPE circuit size =\",trans_qc.size(),\"depth = \",trans_qc.depth(), \"width = \",trans_qc.width(), \"\\n OPs =\", trans_qc.count_ops(), \"subcircuits =\",trans_qc.num_tensor_factors())\n",
    "\n",
    "    \n",
    "    q = QuantumRegister(5)\n",
    "    c = ClassicalRegister(4)\n",
    "    circuit = QuantumCircuit(q,c)\n",
    "\n",
    "    input_state(circuit, 4, value)\n",
    "        \n",
    "\n",
    "    qft(circuit, q, 4)\n",
    "    qubitList = [q[3]]\n",
    "    \n",
    "    assertion_value = int(\"{0:04b}\".format(value)[0])\n",
    "    print(\"{0:04b}\".format(value))\n",
    "    print(assertion_value)\n",
    "    classical_assertion(circuit, qubitList, assertion_value)\n",
    "\n",
    "    for k in range(4):\n",
    "        circuit.measure(q[k],c[k])\n",
    "\n",
    "        \n",
    "    trans_qc = transpile(circuit, backend=device, optimization_level = 3)\n",
    "    transQcList.append(trans_qc)\n",
    "    print(\"QPE circuit with assertion size =\",trans_qc.size(),\"depth = \",trans_qc.depth(), \"width = \",trans_qc.width(), \"\\n OPs =\", trans_qc.count_ops(), \"subcircuits =\",trans_qc.num_tensor_factors())\n",
    "    circuit.draw()"
   ]
  },
  {
   "cell_type": "code",
   "execution_count": 9,
   "metadata": {},
   "outputs": [
    {
     "name": "stdout",
     "output_type": "stream",
     "text": [
      "QPE circuit size = 49 depth =  36 width =  24 \n",
      " OPs = OrderedDict([('cx', 24), ('u1', 14), ('u2', 6), ('measure', 4), ('u3', 1), ('barrier', 1)]) subcircuits = 17\n",
      "0000\n",
      "0\n",
      "QPE circuit with assertion size = 63 depth =  45 width =  25 \n",
      " OPs = OrderedDict([('cx', 30), ('u3', 10), ('u2', 9), ('u1', 9), ('measure', 5), ('barrier', 1)]) subcircuits = 16\n",
      "QPE circuit size = 50 depth =  35 width =  24 \n",
      " OPs = OrderedDict([('cx', 24), ('u1', 14), ('u2', 6), ('measure', 4), ('u3', 2), ('barrier', 1)]) subcircuits = 17\n",
      "0001\n",
      "0\n",
      "QPE circuit with assertion size = 64 depth =  44 width =  25 \n",
      " OPs = OrderedDict([('cx', 30), ('u3', 13), ('u1', 10), ('u2', 6), ('measure', 5), ('barrier', 1)]) subcircuits = 16\n",
      "QPE circuit size = 51 depth =  35 width =  24 \n",
      " OPs = OrderedDict([('cx', 22), ('u1', 10), ('u2', 9), ('u3', 6), ('measure', 4), ('barrier', 1)]) subcircuits = 17\n",
      "1000\n",
      "1\n",
      "QPE circuit with assertion size = 58 depth =  41 width =  25 \n",
      " OPs = OrderedDict([('cx', 29), ('u1', 10), ('u2', 9), ('u3', 5), ('measure', 5), ('barrier', 1)]) subcircuits = 16\n",
      "QPE circuit size = 52 depth =  34 width =  24 \n",
      " OPs = OrderedDict([('cx', 22), ('u1', 10), ('u3', 8), ('u2', 8), ('measure', 4), ('barrier', 1)]) subcircuits = 17\n",
      "0011\n",
      "0\n",
      "QPE circuit with assertion size = 53 depth =  37 width =  25 \n",
      " OPs = OrderedDict([('cx', 27), ('u1', 14), ('u2', 6), ('measure', 5), ('u3', 1), ('barrier', 1)]) subcircuits = 16\n",
      "QPE circuit size = 49 depth =  36 width =  24 \n",
      " OPs = OrderedDict([('cx', 24), ('u1', 14), ('u2', 6), ('measure', 4), ('u3', 1), ('barrier', 1)]) subcircuits = 17\n",
      "1100\n",
      "1\n",
      "QPE circuit with assertion size = 58 depth =  41 width =  25 \n",
      " OPs = OrderedDict([('cx', 29), ('u1', 10), ('u3', 7), ('u2', 7), ('measure', 5), ('barrier', 1)]) subcircuits = 16\n",
      "QPE circuit size = 52 depth =  34 width =  24 \n",
      " OPs = OrderedDict([('cx', 22), ('u1', 10), ('u2', 9), ('u3', 7), ('measure', 4), ('barrier', 1)]) subcircuits = 17\n",
      "0111\n",
      "0\n",
      "QPE circuit with assertion size = 62 depth =  42 width =  25 \n",
      " OPs = OrderedDict([('cx', 32), ('u1', 12), ('u3', 7), ('u2', 6), ('measure', 5), ('barrier', 1)]) subcircuits = 16\n",
      "QPE circuit size = 49 depth =  35 width =  24 \n",
      " OPs = OrderedDict([('cx', 24), ('u1', 14), ('u2', 6), ('measure', 4), ('u3', 1), ('barrier', 1)]) subcircuits = 17\n",
      "1110\n",
      "1\n",
      "QPE circuit with assertion size = 57 depth =  39 width =  25 \n",
      " OPs = OrderedDict([('cx', 31), ('u1', 14), ('u2', 6), ('measure', 5), ('u3', 1), ('barrier', 1)]) subcircuits = 16\n",
      "QPE circuit size = 50 depth =  36 width =  24 \n",
      " OPs = OrderedDict([('cx', 24), ('u1', 14), ('u2', 6), ('measure', 4), ('u3', 2), ('barrier', 1)]) subcircuits = 17\n",
      "1111\n",
      "1\n",
      "QPE circuit with assertion size = 68 depth =  48 width =  25 \n",
      " OPs = OrderedDict([('cx', 33), ('u3', 13), ('u1', 9), ('u2', 8), ('measure', 5), ('barrier', 1)]) subcircuits = 16\n"
     ]
    }
   ],
   "source": [
    "qpeExperiment(0)\n",
    "qpeExperiment(1)\n",
    "qpeExperiment(8)\n",
    "qpeExperiment(3)\n",
    "qpeExperiment(12)\n",
    "qpeExperiment(7)\n",
    "qpeExperiment(14)\n",
    "qpeExperiment(15)"
   ]
  },
  {
   "cell_type": "code",
   "execution_count": 10,
   "metadata": {},
   "outputs": [
    {
     "name": "stdout",
     "output_type": "stream",
     "text": [
      "Job Status: job has successfully run\n"
     ]
    }
   ],
   "source": [
    "shots = 8192\n",
    "#execute the job on real device\n",
    "job = execute(transQcList, backend=device, shots=shots)\n",
    "job_monitor(job)\n",
    "res = job.result()"
   ]
  },
  {
   "cell_type": "markdown",
   "metadata": {},
   "source": [
    "Success rate of output state |0000> without assertion"
   ]
  },
  {
   "cell_type": "code",
   "execution_count": 12,
   "metadata": {},
   "outputs": [
    {
     "name": "stdout",
     "output_type": "stream",
     "text": [
      "total_count =  8192 success_count =  1994 success_rate =  24.3408203125 %\n"
     ]
    }
   ],
   "source": [
    "calcSuccessrate(res.get_counts(0), \"0000\", 0)"
   ]
  },
  {
   "cell_type": "markdown",
   "metadata": {},
   "source": [
    "Success rate of output state |0000> with assertion"
   ]
  },
  {
   "cell_type": "code",
   "execution_count": 14,
   "metadata": {},
   "outputs": [
    {
     "name": "stdout",
     "output_type": "stream",
     "text": [
      "total_count =  4598 success_count =  647 success_rate =  14.071335363201392 %\n"
     ]
    }
   ],
   "source": [
    "calcSuccessrate(res.get_counts(1), \"0 0000\", 1)"
   ]
  },
  {
   "cell_type": "markdown",
   "metadata": {},
   "source": [
    "Success rate of output state |0001> without assertion"
   ]
  },
  {
   "cell_type": "code",
   "execution_count": 15,
   "metadata": {},
   "outputs": [
    {
     "name": "stdout",
     "output_type": "stream",
     "text": [
      "total_count =  8192 success_count =  2668 success_rate =  32.568359375 %\n"
     ]
    }
   ],
   "source": [
    "calcSuccessrate(res.get_counts(2), \"0001\", 0)"
   ]
  },
  {
   "cell_type": "markdown",
   "metadata": {},
   "source": [
    "Success rate of output state |0001> with assertion"
   ]
  },
  {
   "cell_type": "code",
   "execution_count": 17,
   "metadata": {},
   "outputs": [
    {
     "name": "stdout",
     "output_type": "stream",
     "text": [
      "total_count =  4280 success_count =  2138 success_rate =  49.953271028037385 %\n"
     ]
    }
   ],
   "source": [
    "calcSuccessrate(res.get_counts(3), \"0 0001\", 1)"
   ]
  },
  {
   "cell_type": "markdown",
   "metadata": {},
   "source": [
    "Success rate of output state |1000> without assertion"
   ]
  },
  {
   "cell_type": "code",
   "execution_count": 18,
   "metadata": {},
   "outputs": [
    {
     "name": "stdout",
     "output_type": "stream",
     "text": [
      "total_count =  8192 success_count =  1796 success_rate =  21.923828125 %\n"
     ]
    }
   ],
   "source": [
    "calcSuccessrate(res.get_counts(4), \"1000\", 0)"
   ]
  },
  {
   "cell_type": "markdown",
   "metadata": {},
   "source": [
    "Success rate of output state |1000> with assertion"
   ]
  },
  {
   "cell_type": "code",
   "execution_count": 19,
   "metadata": {},
   "outputs": [
    {
     "name": "stdout",
     "output_type": "stream",
     "text": [
      "total_count =  3965 success_count =  859 success_rate =  21.664564943253467 %\n"
     ]
    }
   ],
   "source": [
    "calcSuccessrate(res.get_counts(5), \"0 1000\", 1)"
   ]
  },
  {
   "cell_type": "markdown",
   "metadata": {},
   "source": [
    "Success rate of output state |0011> without assertion"
   ]
  },
  {
   "cell_type": "code",
   "execution_count": 20,
   "metadata": {},
   "outputs": [
    {
     "name": "stdout",
     "output_type": "stream",
     "text": [
      "total_count =  8192 success_count =  4083 success_rate =  49.84130859375 %\n"
     ]
    }
   ],
   "source": [
    "calcSuccessrate(res.get_counts(6), \"0011\", 0)"
   ]
  },
  {
   "cell_type": "markdown",
   "metadata": {},
   "source": [
    "Success rate of output state |0011> with assertion"
   ]
  },
  {
   "cell_type": "code",
   "execution_count": 21,
   "metadata": {},
   "outputs": [
    {
     "name": "stdout",
     "output_type": "stream",
     "text": [
      "total_count =  5705 success_count =  3438 success_rate =  60.26292725679229 %\n"
     ]
    }
   ],
   "source": [
    "calcSuccessrate(res.get_counts(7), \"0 0011\", 1)"
   ]
  },
  {
   "cell_type": "markdown",
   "metadata": {},
   "source": [
    "Success rate of output state |1100> without assertion"
   ]
  },
  {
   "cell_type": "code",
   "execution_count": 22,
   "metadata": {},
   "outputs": [
    {
     "name": "stdout",
     "output_type": "stream",
     "text": [
      "total_count =  8192 success_count =  1633 success_rate =  19.93408203125 %\n"
     ]
    }
   ],
   "source": [
    "calcSuccessrate(res.get_counts(8), \"1100\", 0)"
   ]
  },
  {
   "cell_type": "markdown",
   "metadata": {},
   "source": [
    "Success rate of output state |1100> with assertion"
   ]
  },
  {
   "cell_type": "code",
   "execution_count": 23,
   "metadata": {},
   "outputs": [
    {
     "name": "stdout",
     "output_type": "stream",
     "text": [
      "total_count =  3503 success_count =  673 success_rate =  19.212103910933486 %\n"
     ]
    }
   ],
   "source": [
    "calcSuccessrate(res.get_counts(9), \"0 1100\", 1)"
   ]
  },
  {
   "cell_type": "markdown",
   "metadata": {},
   "source": [
    "Success rate of output state |0111> without assertion"
   ]
  },
  {
   "cell_type": "code",
   "execution_count": 24,
   "metadata": {},
   "outputs": [
    {
     "name": "stdout",
     "output_type": "stream",
     "text": [
      "total_count =  8192 success_count =  2966 success_rate =  36.2060546875 %\n"
     ]
    }
   ],
   "source": [
    "calcSuccessrate(res.get_counts(10), \"0111\", 0)"
   ]
  },
  {
   "cell_type": "markdown",
   "metadata": {},
   "source": [
    "Success rate of output state |0111> with assertion"
   ]
  },
  {
   "cell_type": "code",
   "execution_count": 25,
   "metadata": {},
   "outputs": [
    {
     "name": "stdout",
     "output_type": "stream",
     "text": [
      "total_count =  3836 success_count =  1689 success_rate =  44.03023983315954 %\n"
     ]
    }
   ],
   "source": [
    "calcSuccessrate(res.get_counts(11), \"0 0111\", 1)"
   ]
  },
  {
   "cell_type": "markdown",
   "metadata": {},
   "source": [
    "Success rate of output state |1110> without assertion"
   ]
  },
  {
   "cell_type": "code",
   "execution_count": 26,
   "metadata": {},
   "outputs": [
    {
     "name": "stdout",
     "output_type": "stream",
     "text": [
      "total_count =  8192 success_count =  2400 success_rate =  29.296875 %\n"
     ]
    }
   ],
   "source": [
    "calcSuccessrate(res.get_counts(12), \"1110\", 0)"
   ]
  },
  {
   "cell_type": "markdown",
   "metadata": {},
   "source": [
    "Success rate of output state |1110> with assertion"
   ]
  },
  {
   "cell_type": "code",
   "execution_count": 27,
   "metadata": {},
   "outputs": [
    {
     "name": "stdout",
     "output_type": "stream",
     "text": [
      "total_count =  3056 success_count =  1190 success_rate =  38.93979057591623 %\n"
     ]
    }
   ],
   "source": [
    "calcSuccessrate(res.get_counts(13), \"0 1110\", 1)"
   ]
  },
  {
   "cell_type": "markdown",
   "metadata": {},
   "source": [
    "Success rate of output state |1111> without assertion"
   ]
  },
  {
   "cell_type": "code",
   "execution_count": 28,
   "metadata": {},
   "outputs": [
    {
     "name": "stdout",
     "output_type": "stream",
     "text": [
      "total_count =  8192 success_count =  1897 success_rate =  23.15673828125 %\n"
     ]
    }
   ],
   "source": [
    "calcSuccessrate(res.get_counts(14), \"1111\", 0)"
   ]
  },
  {
   "cell_type": "markdown",
   "metadata": {},
   "source": [
    "Success rate of output state |1111> with assertion"
   ]
  },
  {
   "cell_type": "code",
   "execution_count": 29,
   "metadata": {},
   "outputs": [
    {
     "name": "stdout",
     "output_type": "stream",
     "text": [
      "total_count =  3676 success_count =  661 success_rate =  17.981501632208925 %\n"
     ]
    }
   ],
   "source": [
    "calcSuccessrate(res.get_counts(15), \"0 1111\", 1)"
   ]
  }
 ],
 "metadata": {
  "kernelspec": {
   "display_name": "Python 3",
   "language": "python",
   "name": "python3"
  },
  "language_info": {
   "codemirror_mode": {
    "name": "ipython",
    "version": 3
   },
   "file_extension": ".py",
   "mimetype": "text/x-python",
   "name": "python",
   "nbconvert_exporter": "python",
   "pygments_lexer": "ipython3",
   "version": "3.7.3"
  }
 },
 "nbformat": 4,
 "nbformat_minor": 2
}
