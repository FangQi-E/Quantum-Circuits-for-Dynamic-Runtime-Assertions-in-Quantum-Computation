{
 "cells": [
  {
   "cell_type": "markdown",
   "metadata": {},
   "source": [
    "# In this test file we will use the toffoli gate benchmark to test the functionality of state tomography and our assertion circuit"
   ]
  },
  {
   "cell_type": "code",
   "execution_count": 1,
   "metadata": {
    "scrolled": true
   },
   "outputs": [
    {
     "data": {
      "text/plain": [
       "{'qiskit-terra': '0.10.0',\n",
       " 'qiskit-aer': '0.3.2',\n",
       " 'qiskit-ignis': '0.2.0',\n",
       " 'qiskit-ibmq-provider': '0.3.3',\n",
       " 'qiskit-aqua': '0.6.1',\n",
       " 'qiskit': '0.13.0'}"
      ]
     },
     "execution_count": 1,
     "metadata": {},
     "output_type": "execute_result"
    }
   ],
   "source": [
    "from qiskit import IBMQ\n",
    "import qiskit\n",
    "qiskit.__qiskit_version__"
   ]
  },
  {
   "cell_type": "code",
   "execution_count": 2,
   "metadata": {},
   "outputs": [
    {
     "data": {
      "text/plain": [
       "[<IBMQSimulator('ibmq_qasm_simulator') from IBMQ(hub='ibm-q', group='open', project='main')>,\n",
       " <IBMQBackend('ibmqx2') from IBMQ(hub='ibm-q', group='open', project='main')>,\n",
       " <IBMQBackend('ibmq_16_melbourne') from IBMQ(hub='ibm-q', group='open', project='main')>,\n",
       " <IBMQBackend('ibmq_vigo') from IBMQ(hub='ibm-q', group='open', project='main')>,\n",
       " <IBMQBackend('ibmq_ourense') from IBMQ(hub='ibm-q', group='open', project='main')>,\n",
       " <IBMQBackend('ibmq_london') from IBMQ(hub='ibm-q', group='open', project='main')>,\n",
       " <IBMQBackend('ibmq_burlington') from IBMQ(hub='ibm-q', group='open', project='main')>,\n",
       " <IBMQBackend('ibmq_essex') from IBMQ(hub='ibm-q', group='open', project='main')>,\n",
       " <IBMQBackend('ibmq_armonk') from IBMQ(hub='ibm-q', group='open', project='main')>]"
      ]
     },
     "execution_count": 2,
     "metadata": {},
     "output_type": "execute_result"
    }
   ],
   "source": [
    "provider = IBMQ.load_account()\n",
    "provider = IBMQ.get_provider(hub='ibm-q', group='open', project='main')\n",
    "provider.backends()"
   ]
  },
  {
   "cell_type": "code",
   "execution_count": 3,
   "metadata": {},
   "outputs": [],
   "source": [
    "from qiskit import *\n",
    "from qiskit.compiler import transpile\n",
    "from qiskit.visualization import plot_histogram\n",
    "from qiskit.tools.monitor import job_monitor, backend_monitor, backend_overview\n",
    "from qiskit.providers.aer import noise\n",
    "import math\n",
    "\n",
    "# Tomography functions\n",
    "from qiskit.quantum_info import state_fidelity\n",
    "from qiskit.ignis.verification.tomography import state_tomography_circuits, StateTomographyFitter\n",
    "\n",
    "#Include our assertion function\n",
    "from qiskit.compiler.assertion import classical_assertion, superposition_assertion, entanglement_assertion, calcSuccessrate"
   ]
  },
  {
   "cell_type": "code",
   "execution_count": 4,
   "metadata": {},
   "outputs": [
    {
     "name": "stdout",
     "output_type": "stream",
     "text": [
      "ibmqx2\n",
      "======\n",
      "Configuration\n",
      "-------------\n",
      "    n_qubits: 5\n",
      "    operational: True\n",
      "    status_msg: active\n",
      "    pending_jobs: 2\n",
      "    backend_version: 2.0.2\n",
      "    basis_gates: ['u1', 'u2', 'u3', 'cx', 'id']\n",
      "    local: False\n",
      "    simulator: False\n",
      "    allow_q_object: True\n",
      "    coupling_map: [[0, 1], [0, 2], [1, 0], [1, 2], [2, 0], [2, 1], [2, 3], [2, 4], [3, 2], [3, 4], [4, 2], [4, 3]]\n",
      "    quantum_volume: 8\n",
      "    memory: True\n",
      "    allow_object_storage: True\n",
      "    backend_name: ibmqx2\n",
      "    credits_required: True\n",
      "    conditional: False\n",
      "    online_date: 2017-01-24T05:00:00+00:00\n",
      "    url: None\n",
      "    n_registers: 1\n",
      "    sample_name: sparrow\n",
      "    max_shots: 8192\n",
      "    max_experiments: 75\n",
      "    open_pulse: False\n",
      "    description: 5 qubit device\n",
      "    allow_q_circuit: False\n",
      "\n",
      "Qubits [Name / Freq / T1 / T2 / U1 err / U2 err / U3 err / Readout err]\n",
      "-----------------------------------------------------------------------\n",
      "    Q0 / 5.28627 GHz / 34.92678 µs / 36.50602 µs / 0.0 / 0.00058 / 0.00117 / 0.014\n",
      "    Q1 / 5.23782 GHz / 57.77644 µs / 45.84214 µs / 0.0 / 0.0035 / 0.007 / 0.022\n",
      "    Q2 / 5.03029 GHz / 57.38234 µs / 64.34316 µs / 0.0 / 0.00039 / 0.00077 / 0.016\n",
      "    Q3 / 5.29537 GHz / 59.90303 µs / 37.96511 µs / 0.0 / 0.00043 / 0.00085 / 0.0525\n",
      "    Q4 / 5.08451 GHz / 40.95408 µs / 30.93968 µs / 0.0 / 0.001 / 0.002 / 0.0235\n",
      "\n",
      "Multi-Qubit Gates [Name / Type / Gate Error]\n",
      "--------------------------------------------\n",
      "    cx0_1 / cx / 0.03058\n",
      "    cx0_2 / cx / 0.01567\n",
      "    cx1_0 / cx / 0.03058\n",
      "    cx1_2 / cx / 0.03386\n",
      "    cx2_0 / cx / 0.01567\n",
      "    cx2_1 / cx / 0.03386\n",
      "    cx2_3 / cx / 0.01381\n",
      "    cx2_4 / cx / 0.01306\n",
      "    cx3_2 / cx / 0.01381\n",
      "    cx3_4 / cx / 0.01768\n",
      "    cx4_2 / cx / 0.01306\n",
      "    cx4_3 / cx / 0.01768\n"
     ]
    },
    {
     "data": {
      "text/plain": [
       "<IBMQBackend('ibmqx2') from IBMQ(hub='ibm-q', group='open', project='main')>"
      ]
     },
     "execution_count": 4,
     "metadata": {},
     "output_type": "execute_result"
    }
   ],
   "source": [
    "#We used ibmq_20_tokyo for our experiment, however, that backend has retired. So we can use the publically available ibmqx2 backend instead\n",
    "device = provider.get_backend('ibmqx2')\n",
    "#if you have access to the twenty qubit machine, use this 20 qubit machine\n",
    "#device = provider.get_backend('ibmq_boeblingen')\n",
    "backend_monitor(device)\n",
    "device"
   ]
  },
  {
   "cell_type": "markdown",
   "metadata": {},
   "source": [
    "# Test for State Tomography to calculate fidelity"
   ]
  },
  {
   "cell_type": "code",
   "execution_count": 5,
   "metadata": {},
   "outputs": [],
   "source": [
    "#Toffoli gate\n",
    "qr = QuantumRegister(3)\n",
    "circuit = QuantumCircuit(qr)\n",
    "\n",
    "circuit.ccx(qr[2], qr[1], qr[0])\n",
    "\n",
    "tomocircuits=state_tomography_circuits(circuit, qr, meas_labels='Pauli', meas_basis='Pauli')\n",
    "trans_qc = transpile(tomocircuits, device, optimization_level = 3)"
   ]
  },
  {
   "cell_type": "code",
   "execution_count": 6,
   "metadata": {},
   "outputs": [
    {
     "name": "stdout",
     "output_type": "stream",
     "text": [
      "[1.+0.j 0.+0.j 0.+0.j 0.+0.j 0.+0.j 0.+0.j 0.+0.j 0.+0.j]\n"
     ]
    }
   ],
   "source": [
    "jobSim = qiskit.execute(circuit, Aer.get_backend('statevector_simulator'))\n",
    "psi_circ = jobSim.result().get_statevector(circuit)\n",
    "print(psi_circ)"
   ]
  },
  {
   "cell_type": "code",
   "execution_count": 7,
   "metadata": {},
   "outputs": [
    {
     "name": "stdout",
     "output_type": "stream",
     "text": [
      "Job Status: job has successfully run\n"
     ]
    }
   ],
   "source": [
    "shots = 8192\n",
    "#execute the job on real device\n",
    "job = execute(trans_qc, backend=device, shots=shots)\n",
    "job_monitor(job)\n",
    "res = job.result()"
   ]
  },
  {
   "cell_type": "code",
   "execution_count": 8,
   "metadata": {},
   "outputs": [
    {
     "name": "stdout",
     "output_type": "stream",
     "text": [
      "Fidelity function correct, Toffoli gate fidelity = 0.728026564283783\n"
     ]
    }
   ],
   "source": [
    "tomo_state = StateTomographyFitter(job.result(), tomocircuits)\n",
    "rho_bell = tomo_state.fit()\n",
    "F_state = state_fidelity(psi_circ, rho_bell)\n",
    "print('Fidelity function correct, Toffoli gate fidelity =', F_state)"
   ]
  },
  {
   "cell_type": "markdown",
   "metadata": {},
   "source": [
    "# Test for assertion circuits and success rate calculation"
   ]
  },
  {
   "cell_type": "code",
   "execution_count": 9,
   "metadata": {},
   "outputs": [
    {
     "name": "stdout",
     "output_type": "stream",
     "text": [
      "Toffoli without assertion, size = 19 depth =  12 width =  8 \n",
      " OPs = OrderedDict([('cx', 6), ('u1', 6), ('measure', 3), ('u2', 2), ('u3', 2)]) subcircuits = 3\n",
      "Toffoli with assertion, size = 31 depth =  17 width =  9 \n",
      " OPs = OrderedDict([('cx', 11), ('u3', 8), ('u2', 5), ('measure', 4), ('u1', 3), ('barrier', 1)]) subcircuits = 2\n"
     ]
    }
   ],
   "source": [
    "transQcList = []\n",
    "\n",
    "#Toffoli gate without assertion:\n",
    "qr = QuantumRegister(3)\n",
    "cr = ClassicalRegister(3)\n",
    "\n",
    "circuit = QuantumCircuit(qr, cr)\n",
    "\n",
    "circuit.x(qr[1])\n",
    "circuit.x(qr[2])\n",
    "circuit.ccx(qr[2], qr[1], qr[0])\n",
    "circuit.measure(qr, cr)\n",
    "trans_qc = transpile(circuit, backend=device, optimization_level = 3)\n",
    "transQcList.append(trans_qc)\n",
    "print(\"Toffoli without assertion, size =\",trans_qc.size(),\"depth = \",trans_qc.depth(), \"width = \",trans_qc.width(), \"\\n OPs =\", trans_qc.count_ops(), \"subcircuits =\",trans_qc.num_tensor_factors())\n",
    "\n",
    "#Toffoli gate with assertion:\n",
    "\n",
    "qr = QuantumRegister(3)\n",
    "cr = ClassicalRegister(3)\n",
    "\n",
    "circuit = QuantumCircuit(qr, cr)\n",
    "\n",
    "circuit.x(qr[1])\n",
    "circuit.x(qr[2])\n",
    "circuit.ccx(qr[2], qr[1], qr[0])\n",
    "qubitList = [qr[2]]\n",
    "success = classical_assertion(circuit, qubitList, value = 1)\n",
    "circuit.measure(qr, cr)\n",
    "\n",
    "trans_qc = transpile(circuit, backend=device, optimization_level = 3)\n",
    "transQcList.append(trans_qc)\n",
    "print(\"Toffoli with assertion, size =\",trans_qc.size(),\"depth = \",trans_qc.depth(), \"width = \",trans_qc.width(), \"\\n OPs =\", trans_qc.count_ops(), \"subcircuits =\",trans_qc.num_tensor_factors())"
   ]
  },
  {
   "cell_type": "code",
   "execution_count": 10,
   "metadata": {},
   "outputs": [
    {
     "name": "stdout",
     "output_type": "stream",
     "text": [
      "Job Status: job has successfully run\n"
     ]
    }
   ],
   "source": [
    "shots = 8192\n",
    "#execute the job on real device\n",
    "job = execute(transQcList, backend=device, shots=shots)\n",
    "job_monitor(job)\n",
    "res = job.result()"
   ]
  },
  {
   "cell_type": "markdown",
   "metadata": {},
   "source": [
    "Success rate of toffoli gate without assertion:"
   ]
  },
  {
   "cell_type": "code",
   "execution_count": 11,
   "metadata": {},
   "outputs": [
    {
     "name": "stdout",
     "output_type": "stream",
     "text": [
      "total_count =  8192 success_count =  6115 success_rate =  74.64599609375 %\n"
     ]
    }
   ],
   "source": [
    "calcSuccessrate(res.get_counts(0), ['111'], 0)"
   ]
  },
  {
   "cell_type": "markdown",
   "metadata": {},
   "source": [
    "Success rate of toffoli with assertion:"
   ]
  },
  {
   "cell_type": "code",
   "execution_count": 12,
   "metadata": {},
   "outputs": [
    {
     "name": "stdout",
     "output_type": "stream",
     "text": [
      "total_count =  7115 success_count =  5494 success_rate =  77.21714687280394 %\n"
     ]
    }
   ],
   "source": [
    "calcSuccessrate(res.get_counts(1), ['0 111'], 1)"
   ]
  },
  {
   "cell_type": "code",
   "execution_count": null,
   "metadata": {},
   "outputs": [],
   "source": []
  }
 ],
 "metadata": {
  "kernelspec": {
   "display_name": "Python 3",
   "language": "python",
   "name": "python3"
  },
  "language_info": {
   "codemirror_mode": {
    "name": "ipython",
    "version": 3
   },
   "file_extension": ".py",
   "mimetype": "text/x-python",
   "name": "python",
   "nbconvert_exporter": "python",
   "pygments_lexer": "ipython3",
   "version": "3.7.3"
  }
 },
 "nbformat": 4,
 "nbformat_minor": 2
}
